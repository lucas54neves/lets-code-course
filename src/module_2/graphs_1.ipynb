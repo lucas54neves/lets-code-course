{
 "cells": [
  {
   "cell_type": "markdown",
   "source": [
    "## Exercício\n",
    "\n",
    "Implemente o grafo abaixo utilizando a representação computacional de sua escolha (matriz ou lista de adjacências). Justifique a sua escolha.\n",
    "\n",
    "![](https://www.gta.ufrj.br/ensino/eel878/redes1-2018-1/trabalhos-vf/p2p/images/graph-example.png)\n",
    "\n",
    "Após implementar, crie dois métodos:\n",
    "\n",
    "1. Verificar se um elemento v é adjacente a um elemento u;\n",
    "\n",
    "2. Remover uma aresta entre dois elementos, caso essa aresta exista."
   ],
   "metadata": {}
  },
  {
   "cell_type": "code",
   "execution_count": null,
   "source": [
    "class Graph:\n",
    "    def __init__(self):\n",
    "        self.adjacency_matrix = {}\n",
    "    \n",
    "    def add_vertex(self, index):\n",
    "        self.adjacency_matrix[index] = {}\n",
    "    \n",
    "    def add_edge(self, origin, destiny):\n",
    "        self.adjacency_matrix[origin][destiny] = 1\n",
    "    \n",
    "    def remove_edge(self, origin, destiny):\n",
    "        if self.adjacency_matrix[origin][destiny]:\n",
    "            self.adjacency_matrix[origin][destiny] = 0\n",
    "\n",
    "            return True\n",
    "\n",
    "        return False\n",
    "    \n",
    "    def is_adjacent(self, origin, destiny):\n",
    "        if destiny in self.adjacency_matrix[origin]:\n",
    "            return self.adjacency_matrix[origin][destiny] == 1\n",
    "\n",
    "        return False   \n",
    "    \n",
    "    def __repr__(self):\n",
    "        matrix = '  | '\n",
    "\n",
    "        for origin in self.adjacency_matrix:\n",
    "            matrix += str(origin) + ' '\n",
    "        \n",
    "        matrix += '\\n'\n",
    "\n",
    "        for origin in self.adjacency_matrix:\n",
    "            matrix += str(origin) + ' | '\n",
    "            for destiny in self.adjacency_matrix:\n",
    "                matrix += str(self.adjacency_matrix[origin].get(destiny, 0)) + ' '\n",
    "            matrix += '\\n'\n",
    "\n",
    "        return matrix\n",
    "\n",
    "the_graph = Graph()\n",
    "\n",
    "the_graph.add_vertex(1)\n",
    "the_graph.add_vertex(2)\n",
    "the_graph.add_vertex(3)\n",
    "the_graph.add_vertex(4)\n",
    "the_graph.add_vertex(5)\n",
    "the_graph.add_vertex(6)\n",
    "the_graph.add_vertex(7)\n",
    "\n",
    "the_graph.add_edge(1, 2)\n",
    "the_graph.add_edge(2, 3)\n",
    "the_graph.add_edge(2, 4)\n",
    "the_graph.add_edge(3, 1)\n",
    "the_graph.add_edge(4, 1)\n",
    "the_graph.add_edge(4, 3)\n",
    "the_graph.add_edge(5, 6)\n",
    "the_graph.add_edge(5, 7)\n",
    "the_graph.add_edge(6, 2)\n",
    "the_graph.add_edge(7, 4)\n",
    "the_graph.add_edge(7, 6)\n",
    "\n",
    "print(the_graph.remove_edge(7, 6))\n",
    "print(the_graph.remove_edge(7, 6))\n",
    "print(the_graph.remove_edge(5, 6))\n",
    "\n",
    "print(the_graph)"
   ],
   "outputs": [],
   "metadata": {}
  }
 ],
 "metadata": {
  "kernelspec": {
   "name": "python3",
   "display_name": "Python 3.8.10 64-bit"
  },
  "language_info": {
   "codemirror_mode": {
    "name": "ipython",
    "version": 3
   },
   "file_extension": ".py",
   "mimetype": "text/x-python",
   "name": "python",
   "nbconvert_exporter": "python",
   "pygments_lexer": "ipython3",
   "version": "3.8.10"
  },
  "interpreter": {
   "hash": "916dbcbb3f70747c44a77c7bcd40155683ae19c65e1c03b4aa3499c5328201f1"
  }
 },
 "nbformat": 4,
 "nbformat_minor": 5
}