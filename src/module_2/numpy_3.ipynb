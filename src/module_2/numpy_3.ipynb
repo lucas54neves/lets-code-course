{
 "cells": [
  {
   "cell_type": "markdown",
   "source": [
    "# Questão 1 \n",
    "a) Crie um array (numpy) formado por 25 números inteiros aleatórios entre 1 e 100. Para isso, utilize a seed 101.\n",
    "\n",
    "b) Em seguida, obtenha apenas os elementos que são maiores ou iguais a 80."
   ],
   "metadata": {}
  },
  {
   "cell_type": "code",
   "execution_count": null,
   "source": [
    "import numpy as np\n",
    "\n",
    "np.random.seed(101)\n",
    "\n",
    "the_array = np.random.randint(1, 100, 25)\n",
    "\n",
    "print(the_array)\n",
    "print(the_array[the_array >= 80])"
   ],
   "outputs": [],
   "metadata": {}
  },
  {
   "cell_type": "markdown",
   "source": [
    "# Questão 2\n",
    "a) Converta o array da questão anterior (o array com os 25 elementos) em uma matriz com dimensão 5x5.\n",
    "\n",
    "b) Em seguida, crie uma outra matriz 5x5, com todos os elementos iguais a média dos elementos da primeira.\n",
    "\n",
    "c) Por fim, subtraia a primeira matriz pela segunda matriz."
   ],
   "metadata": {}
  },
  {
   "cell_type": "code",
   "execution_count": null,
   "source": [
    "import numpy as np\n",
    "\n",
    "np.random.seed(101)\n",
    "\n",
    "the_array = np.random.randint(1, 100, 25)\n",
    "\n",
    "matrix1 = the_array.reshape([5, 5])\n",
    "\n",
    "print(matrix1)\n",
    "\n",
    "mean = the_array.mean()\n",
    "\n",
    "matrix2 = np.full((5, 5), mean, dtype=int)\n",
    "\n",
    "print(matrix2)\n",
    "\n",
    "print(matrix1 - matrix2)"
   ],
   "outputs": [],
   "metadata": {}
  }
 ],
 "metadata": {
  "kernelspec": {
   "name": "python3",
   "display_name": "Python 3.8.10 64-bit"
  },
  "language_info": {
   "codemirror_mode": {
    "name": "ipython",
    "version": 3
   },
   "file_extension": ".py",
   "mimetype": "text/x-python",
   "name": "python",
   "nbconvert_exporter": "python",
   "pygments_lexer": "ipython3",
   "version": "3.8.10"
  },
  "interpreter": {
   "hash": "916dbcbb3f70747c44a77c7bcd40155683ae19c65e1c03b4aa3499c5328201f1"
  }
 },
 "nbformat": 4,
 "nbformat_minor": 5
}