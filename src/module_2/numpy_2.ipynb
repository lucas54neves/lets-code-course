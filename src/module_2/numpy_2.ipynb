{
 "cells": [
  {
   "cell_type": "markdown",
   "source": [
    "# Questão 1\n",
    "\n",
    "Crie uma lista do Python que contenha 10 inteiros aleatórios (entre 0 e 100). Em seguida, a partir da lista criada anteriormente, crie um array do Numpy, utilizando a função array."
   ],
   "metadata": {}
  },
  {
   "cell_type": "code",
   "execution_count": 16,
   "source": [
    "import random\n",
    "import numpy as np\n",
    "\n",
    "def create_list():\n",
    "    list_to_return = []\n",
    "\n",
    "    for i in range(10):\n",
    "        list_to_return.append(random.randint(0, 100))\n",
    "    \n",
    "    return list_to_return\n",
    "\n",
    "def main():\n",
    "    array_as_list = create_list()\n",
    "\n",
    "    print(np.array(array_as_list))\n",
    "\n",
    "main()"
   ],
   "outputs": [
    {
     "output_type": "stream",
     "name": "stdout",
     "text": [
      "[63 23 51 51 27 16 21  5 50 28]\n"
     ]
    }
   ],
   "metadata": {}
  },
  {
   "cell_type": "markdown",
   "source": [
    "# Questão 2\n",
    "\n",
    "Crie um array com 10 elementos (iniciando em zero), em que os elementos tenham um intervalo de 3 unidades entre si."
   ],
   "metadata": {}
  },
  {
   "cell_type": "code",
   "execution_count": 17,
   "source": [
    "import numpy as np\n",
    "\n",
    "print(np.arange(start=0,step=3, stop=30))"
   ],
   "outputs": [
    {
     "output_type": "stream",
     "name": "stdout",
     "text": [
      "[ 0  3  6  9 12 15 18 21 24 27]\n"
     ]
    }
   ],
   "metadata": {}
  },
  {
   "cell_type": "markdown",
   "source": [
    "# Questão 3\n",
    "\n",
    "Crie um array com 40 elementos entre 0 e π."
   ],
   "metadata": {}
  },
  {
   "cell_type": "code",
   "execution_count": 18,
   "source": [
    "import math\n",
    "import numpy\n",
    "\n",
    "print(numpy.linspace(start=0, stop=math.pi, num=40))"
   ],
   "outputs": [
    {
     "output_type": "stream",
     "name": "stdout",
     "text": [
      "[0.         0.08055366 0.16110732 0.24166097 0.32221463 0.40276829\n",
      " 0.48332195 0.5638756  0.64442926 0.72498292 0.80553658 0.88609024\n",
      " 0.96664389 1.04719755 1.12775121 1.20830487 1.28885852 1.36941218\n",
      " 1.44996584 1.5305195  1.61107316 1.69162681 1.77218047 1.85273413\n",
      " 1.93328779 2.01384144 2.0943951  2.17494876 2.25550242 2.33605608\n",
      " 2.41660973 2.49716339 2.57771705 2.65827071 2.73882436 2.81937802\n",
      " 2.89993168 2.98048534 3.061039   3.14159265]\n"
     ]
    }
   ],
   "metadata": {}
  },
  {
   "cell_type": "markdown",
   "source": [
    "# Questão 4\n",
    "\n",
    "Crie um array com 40 elementos, todos iguais a 6."
   ],
   "metadata": {}
  },
  {
   "cell_type": "code",
   "execution_count": 19,
   "source": [
    "import numpy as np\n",
    "\n",
    "print(np.full(40, 6))"
   ],
   "outputs": [
    {
     "output_type": "stream",
     "name": "stdout",
     "text": [
      "[6 6 6 6 6 6 6 6 6 6 6 6 6 6 6 6 6 6 6 6 6 6 6 6 6 6 6 6 6 6 6 6 6 6 6 6 6\n",
      " 6 6 6]\n"
     ]
    }
   ],
   "metadata": {}
  },
  {
   "cell_type": "markdown",
   "source": [
    "# Questão 5\n",
    "\n",
    "Divida o array obtido na Questão 4 por 3 e, em seguida, multiplique-o pelo array obtido na Questão 3."
   ],
   "metadata": {}
  },
  {
   "cell_type": "code",
   "execution_count": 20,
   "source": [
    "import math\n",
    "import numpy\n",
    "\n",
    "array_3 = numpy.linspace(start=0, stop=math.pi, num=40)\n",
    "\n",
    "array_4 = np.full(40, 6)\n",
    "\n",
    "array = array_4 / 3\n",
    "\n",
    "array = array * array_3\n",
    "\n",
    "print(array)"
   ],
   "outputs": [
    {
     "output_type": "stream",
     "name": "stdout",
     "text": [
      "[0.         0.16110732 0.32221463 0.48332195 0.64442926 0.80553658\n",
      " 0.96664389 1.12775121 1.28885852 1.44996584 1.61107316 1.77218047\n",
      " 1.93328779 2.0943951  2.25550242 2.41660973 2.57771705 2.73882436\n",
      " 2.89993168 3.061039   3.22214631 3.38325363 3.54436094 3.70546826\n",
      " 3.86657557 4.02768289 4.1887902  4.34989752 4.51100484 4.67211215\n",
      " 4.83321947 4.99432678 5.1554341  5.31654141 5.47764873 5.63875604\n",
      " 5.79986336 5.96097068 6.12207799 6.28318531]\n"
     ]
    }
   ],
   "metadata": {}
  },
  {
   "cell_type": "markdown",
   "source": [
    "# Questão 6\n",
    "\n",
    "Crie um array com 40 números aleatórios, distribuídos uniformemente, entre [0, 5). Em seguida, some-o com o array obtido na Questão 5.\n",
    "\n",
    "OBS.: Utilize a seed 17 para a criação do array aleatório."
   ],
   "metadata": {}
  },
  {
   "cell_type": "code",
   "execution_count": 21,
   "source": [
    "import math\n",
    "import numpy as np\n",
    "\n",
    "array_3 = numpy.linspace(start=0, stop=math.pi, num=40)\n",
    "\n",
    "array_4 = numpy.full(40, 6)\n",
    "\n",
    "array_5 = array_4 / 3\n",
    "\n",
    "array_5 = array_5 * array_3\n",
    "\n",
    "np.random.seed(17)\n",
    "\n",
    "array6 = np.random.uniform(low=0, high=5, size=40)\n",
    "\n",
    "array6 = array6 + array_5\n",
    "\n",
    "print(array6)"
   ],
   "outputs": [
    {
     "output_type": "stream",
     "name": "stdout",
     "text": [
      "[ 1.47332501  2.81404109  1.27981857  0.82282374  4.57935656  4.08720419\n",
      "  4.15424837  4.00576568  1.48417311  3.23903386  6.33948909  2.07240387\n",
      "  6.2534983   6.48084773  2.51147075  5.67870281  5.33647389  5.72639063\n",
      "  5.3175748   4.4759798   4.7107749   6.19079815  5.52459812  7.64897181\n",
      "  5.9589975   4.74720249  4.94332368  4.62610427  8.1011908   6.13369892\n",
      "  5.82708883  9.15114639  7.9953897   5.72824016  8.2026416   6.43354977\n",
      "  9.18367529  6.553332    8.34705832 10.72309748]\n"
     ]
    }
   ],
   "metadata": {}
  },
  {
   "cell_type": "markdown",
   "source": [
    "# Questão 7\n",
    "\n",
    "Para cada elemento do array da questão anterior, calcule:\n",
    "\n",
    "- O seno\n",
    "- O cosseno\n",
    "- O log na base 10\n",
    "- O valor arredondado para inteiro"
   ],
   "metadata": {}
  },
  {
   "cell_type": "code",
   "execution_count": 22,
   "source": [
    "import math\n",
    "import numpy as np\n",
    "\n",
    "def create_array():    \n",
    "    array_3 = np.linspace(start=0, stop=math.pi, num=40)\n",
    "\n",
    "    array_4 = np.full(40, 6)\n",
    "\n",
    "    array_5 = array_4 / 3\n",
    "\n",
    "    array_5 = array_5 * array_3\n",
    "\n",
    "    np.random.seed(17)\n",
    "\n",
    "    array6 = np.random.uniform(low=0, high=5, size=40)\n",
    "\n",
    "    return array6 + array_5\n",
    "\n",
    "def run():\n",
    "    array = create_array()\n",
    "\n",
    "    for element in np.nditer(array):\n",
    "        print(f'Numero: {element}')\n",
    "        print(f'Seno: {math.sin(element)}')\n",
    "        print(f'Cosseno: {math.cos(element)}')\n",
    "        print(f'Log na base 10: {math.log10(element)}')\n",
    "        print(f'Valor arredondado para inteiro: {int(element)}')\n",
    "        print()\n",
    "\n",
    "run()"
   ],
   "outputs": [
    {
     "output_type": "stream",
     "name": "stdout",
     "text": [
      "Numero: 1.4733250134355487\n",
      "Seno: 0.9952534312819109\n",
      "Cosseno: 0.09731704640802967\n",
      "Log na base 10: 0.16829856216614889\n",
      "Valor arredondado para inteiro: 1\n",
      "\n",
      "Numero: 2.8140410935951783\n",
      "Seno: 0.3217257314929677\n",
      "Cosseno: -0.9468329069562986\n",
      "Log na base 10: 0.44933043517097937\n",
      "Valor arredondado para inteiro: 2\n",
      "\n",
      "Numero: 1.2798185658748888\n",
      "Seno: 0.957963824598148\n",
      "Cosseno: 0.28688902168136143\n",
      "Log na base 10: 0.10714840603508181\n",
      "Valor arredondado para inteiro: 1\n",
      "\n",
      "Numero: 0.8228237376625789\n",
      "Seno: 0.7330693259924356\n",
      "Cosseno: 0.6801539261733305\n",
      "Log na base 10: -0.08469318782421978\n",
      "Valor arredondado para inteiro: 0\n",
      "\n",
      "Numero: 4.579356562274396\n",
      "Seno: -0.9911642304157157\n",
      "Cosseno: -0.13264037222664218\n",
      "Log na base 10: 0.6608044602997897\n",
      "Valor arredondado para inteiro: 4\n",
      "\n",
      "Numero: 4.087204186722814\n",
      "Seno: -0.8108549833915459\n",
      "Cosseno: -0.585247123793954\n",
      "Log na base 10: 0.611426334543478\n",
      "Valor arredondado para inteiro: 4\n",
      "\n",
      "Numero: 4.154248373630423\n",
      "Seno: -0.8482413298474858\n",
      "Cosseno: -0.5296099001515822\n",
      "Log na base 10: 0.6184924585140782\n",
      "Valor arredondado para inteiro: 4\n",
      "\n",
      "Numero: 4.005765677746122\n",
      "Seno: -0.7605585937332558\n",
      "Cosseno: -0.6492693012136738\n",
      "Log na base 10: 0.6026855411037831\n",
      "Valor arredondado para inteiro: 4\n",
      "\n",
      "Numero: 1.484173105493991\n",
      "Seno: 0.9962505541686059\n",
      "Cosseno: 0.08651493118962622\n",
      "Log na base 10: 0.17148455753090977\n",
      "Valor arredondado para inteiro: 1\n",
      "\n",
      "Numero: 3.2390338625361106\n",
      "Seno: -0.09728708484357072\n",
      "Cosseno: -0.9952563605034834\n",
      "Log na base 10: 0.51041548837316\n",
      "Valor arredondado para inteiro: 3\n",
      "\n",
      "Numero: 6.339489089779111\n",
      "Seno: 0.05627403906136887\n",
      "Cosseno: 0.9984153607230407\n",
      "Log na base 10: 0.802054258760202\n",
      "Valor arredondado para inteiro: 6\n",
      "\n",
      "Numero: 2.0724038728327074\n",
      "Seno: 0.8768107296712497\n",
      "Cosseno: -0.4808356729001818\n",
      "Log na base 10: 0.3164743952095164\n",
      "Valor arredondado para inteiro: 2\n",
      "\n",
      "Numero: 6.253498304555543\n",
      "Seno: -0.029682642200613323\n",
      "Cosseno: 0.9995593733000508\n",
      "Log na base 10: 0.7961230364363527\n",
      "Valor arredondado para inteiro: 6\n",
      "\n",
      "Numero: 6.480847733133347\n",
      "Seno: 0.19637781189608702\n",
      "Cosseno: 0.9805283040253887\n",
      "Log na base 10: 0.8116318178677782\n",
      "Valor arredondado para inteiro: 6\n",
      "\n",
      "Numero: 2.5114707460641714\n",
      "Seno: 0.589243258198427\n",
      "Cosseno: -0.8079556811284279\n",
      "Log na base 10: 0.39992812380677745\n",
      "Valor arredondado para inteiro: 2\n",
      "\n",
      "Numero: 5.6787028108588835\n",
      "Seno: -0.568336352256044\n",
      "Cosseno: 0.8227963239491861\n",
      "Log na base 10: 0.754249140917775\n",
      "Valor arredondado para inteiro: 5\n",
      "\n",
      "Numero: 5.336473892273694\n",
      "Seno: -0.8114981954440775\n",
      "Cosseno: 0.584354925358729\n",
      "Log na base 10: 0.7272543890608618\n",
      "Valor arredondado para inteiro: 5\n",
      "\n",
      "Numero: 5.72639063086328\n",
      "Seno: -0.5284677469699943\n",
      "Cosseno: 0.8489533794104704\n",
      "Log na base 10: 0.757880970482974\n",
      "Valor arredondado para inteiro: 5\n",
      "\n",
      "Numero: 5.317574801786742\n",
      "Seno: -0.822396395266212\n",
      "Cosseno: 0.568914904931432\n",
      "Log na base 10: 0.7257136077942737\n",
      "Valor arredondado para inteiro: 5\n",
      "\n",
      "Numero: 4.475979800090395\n",
      "Seno: -0.9721852580903593\n",
      "Cosseno: -0.2342132019160781\n",
      "Log na base 10: 0.650888117907905\n",
      "Valor arredondado para inteiro: 4\n",
      "\n",
      "Numero: 4.710774902883005\n",
      "Seno: -0.999998697377192\n",
      "Cosseno: -0.0016140768008404743\n",
      "Log na base 10: 0.6730923526416758\n",
      "Valor arredondado para inteiro: 4\n",
      "\n",
      "Numero: 6.19079815357466\n",
      "Seno: -0.09225578301049431\n",
      "Cosseno: 0.9957353415949042\n",
      "Log na base 10: 0.7917466443912349\n",
      "Valor arredondado para inteiro: 6\n",
      "\n",
      "Numero: 5.524598122746694\n",
      "Seno: -0.687896698291693\n",
      "Cosseno: 0.7258086059557213\n",
      "Log na base 10: 0.742300691511644\n",
      "Valor arredondado para inteiro: 5\n",
      "\n",
      "Numero: 7.6489718064747665\n",
      "Seno: 0.9790589839160201\n",
      "Cosseno: 0.2035767816164955\n",
      "Log na base 10: 0.8836030601489888\n",
      "Valor arredondado para inteiro: 7\n",
      "\n",
      "Numero: 5.958997500378361\n",
      "Seno: -0.31853900514955485\n",
      "Cosseno: 0.9479097542479094\n",
      "Log na base 10: 0.7751732032512488\n",
      "Valor arredondado para inteiro: 5\n",
      "\n",
      "Numero: 4.747202493094322\n",
      "Seno: -0.9993940708679829\n",
      "Cosseno: 0.03480648091837236\n",
      "Log na base 10: 0.6764377570518075\n",
      "Valor arredondado para inteiro: 4\n",
      "\n",
      "Numero: 4.943323676889776\n",
      "Seno: -0.9734528799164455\n",
      "Cosseno: 0.22888750639206687\n",
      "Log na base 10: 0.6940190479450821\n",
      "Valor arredondado para inteiro: 4\n",
      "\n",
      "Numero: 4.626104271434217\n",
      "Seno: -0.9962797834602716\n",
      "Cosseno: -0.08617768312245606\n",
      "Log na base 10: 0.6652154174527902\n",
      "Valor arredondado para inteiro: 4\n",
      "\n",
      "Numero: 8.101190804442034\n",
      "Seno: 0.9695991097943518\n",
      "Cosseno: -0.24469892988323533\n",
      "Log na base 10: 0.9085488610746185\n",
      "Valor arredondado para inteiro: 8\n",
      "\n",
      "Numero: 6.133698924013206\n",
      "Seno: -0.14893026331464604\n",
      "Cosseno: 0.9888477014530752\n",
      "Log na base 10: 0.7877224545860246\n",
      "Valor arredondado para inteiro: 6\n",
      "\n",
      "Numero: 5.8270888280629345\n",
      "Seno: -0.44044697389182424\n",
      "Cosseno: 0.8977786270509756\n",
      "Log na base 10: 0.7654516385197934\n",
      "Valor arredondado para inteiro: 5\n",
      "\n",
      "Numero: 9.151146394182533\n",
      "Seno: 0.2702296683183446\n",
      "Cosseno: -0.9627958902906459\n",
      "Log na base 10: 0.9614755029714959\n",
      "Valor arredondado para inteiro: 9\n",
      "\n",
      "Numero: 7.99538969682179\n",
      "Seno: 0.9900185291809904\n",
      "Cosseno: -0.14093726220665817\n",
      "Log na base 10: 0.9028396361941708\n",
      "Valor arredondado para inteiro: 7\n",
      "\n",
      "Numero: 5.728240159829746\n",
      "Seno: -0.5268966801190669\n",
      "Cosseno: 0.8499293432277213\n",
      "Log na base 10: 0.7580212177324775\n",
      "Valor arredondado para inteiro: 5\n",
      "\n",
      "Numero: 8.20264159898965\n",
      "Seno: 0.9398313643553394\n",
      "Cosseno: -0.34163870766349247\n",
      "Log na base 10: 0.9139537361783605\n",
      "Valor arredondado para inteiro: 8\n",
      "\n",
      "Numero: 6.433549767741133\n",
      "Seno: 0.14979849060288117\n",
      "Cosseno: 0.9887165479615978\n",
      "Log na base 10: 0.8084506648613592\n",
      "Valor arredondado para inteiro: 6\n",
      "\n",
      "Numero: 9.183675288988265\n",
      "Seno: 0.23877354867535858\n",
      "Cosseno: -0.9710752764090826\n",
      "Log na base 10: 0.963016519795445\n",
      "Valor arredondado para inteiro: 9\n",
      "\n",
      "Numero: 6.553332000437553\n",
      "Seno: 0.2668728125111604\n",
      "Cosseno: 0.9637317582929303\n",
      "Log na base 10: 0.8164621704444084\n",
      "Valor arredondado para inteiro: 6\n",
      "\n",
      "Numero: 8.347058322211222\n",
      "Seno: 0.8808807156777342\n",
      "Cosseno: -0.47333831954225175\n",
      "Log na base 10: 0.9215334479957934\n",
      "Valor arredondado para inteiro: 8\n",
      "\n",
      "Numero: 10.723097477965581\n",
      "Seno: -0.9631072978925768\n",
      "Cosseno: -0.26911769311225053\n",
      "Log na base 10: 1.0303202539462595\n",
      "Valor arredondado para inteiro: 10\n",
      "\n"
     ]
    }
   ],
   "metadata": {}
  },
  {
   "cell_type": "markdown",
   "source": [
    "# Questão 8\n",
    "\n",
    "Lembra que você obteve o seno de um array na questão anterior? Agora, você deve obter um array apenas com os valores positivos do array resultante daquela operação do sen"
   ],
   "metadata": {}
  },
  {
   "cell_type": "code",
   "execution_count": 23,
   "source": [
    "import math\n",
    "import numpy as np\n",
    "\n",
    "def create_array():    \n",
    "    array_3 = np.linspace(start=0, stop=math.pi, num=40)\n",
    "\n",
    "    array_4 = np.full(40, 6)\n",
    "\n",
    "    array_5 = array_4 / 3\n",
    "\n",
    "    array_5 = array_5 * array_3\n",
    "\n",
    "    np.random.seed(17)\n",
    "\n",
    "    array6 = np.random.uniform(low=0, high=5, size=40)\n",
    "\n",
    "    return array6 + array_5\n",
    "\n",
    "def return_positive_sin():\n",
    "    array = create_array()\n",
    "\n",
    "    return np.fromiter((x for x in array if math.sin(x) > 0), dtype=array.dtype)\n",
    "\n",
    "def run():\n",
    "    print(return_positive_sin())\n",
    "    \n",
    "run()"
   ],
   "outputs": [
    {
     "output_type": "stream",
     "name": "stdout",
     "text": [
      "[1.47332501 2.81404109 1.27981857 0.82282374 1.48417311 6.33948909\n",
      " 2.07240387 6.48084773 2.51147075 7.64897181 8.1011908  9.15114639\n",
      " 7.9953897  8.2026416  6.43354977 9.18367529 6.553332   8.34705832]\n"
     ]
    }
   ],
   "metadata": {}
  },
  {
   "cell_type": "markdown",
   "source": [
    "# Questão 9\n",
    "\n",
    "Para os dados contidos no array da Q6, obtenha:\n",
    "\n",
    "- O valor mínimo\n",
    "- O valor máximo\n",
    "- A posição do valor mínimo\n",
    "- A posição do valor máximo\n",
    "- A média dos dados\n",
    "- A mediana\n",
    "- A moda\n",
    "- A variância\n",
    "- O desvio padrão\n",
    "- O array ordenado (forma crescente)"
   ],
   "metadata": {}
  },
  {
   "cell_type": "code",
   "execution_count": 24,
   "source": [
    "import math\n",
    "import numpy as np\n",
    "\n",
    "def create_array():\n",
    "    array_3 = np.linspace(start=0, stop=math.pi, num=40)\n",
    "\n",
    "    array_4 = np.full(40, 6)\n",
    "\n",
    "    array_5 = array_4 / 3\n",
    "\n",
    "    array_5 = array_5 * array_3\n",
    "\n",
    "    np.random.seed(17)\n",
    "\n",
    "    array6 = np.random.uniform(low=0, high=5, size=40)\n",
    "\n",
    "    return array6 + array_5\n",
    "\n",
    "array = create_array()\n",
    "\n",
    "print(f'O valor mínimo: {array.min()}')\n",
    "print(f'O valor máximo: {array.max()}')\n",
    "print(f'A posição do valor mínimo: {array.argmin()}')\n",
    "print(f'A posição do valor máximo: {array.argmax()}')\n",
    "print(f'A média dos dados: {array.mean()}')\n",
    "print(f'A mediana: {np.median(array)}')\n",
    "\n",
    "unique, counts = np.unique(array, return_counts=True)\n",
    "\n",
    "index = np.array(counts).argmax()\n",
    "\n",
    "print(f'A moda: {unique[index]}')\n",
    "print(f'A variância: {array.var()}')\n",
    "print(f'O desvio padrão: {array.std()}')\n",
    "print(f'O array ordenado (forma crescente): {np.sort(array)}')"
   ],
   "outputs": [
    {
     "output_type": "stream",
     "name": "stdout",
     "text": [
      "O valor mínimo: 0.8228237376625789\n",
      "O valor máximo: 10.723097477965581\n",
      "A posição do valor mínimo: 3\n",
      "A posição do valor máximo: 39\n",
      "A média dos dados: 5.371587551309284\n",
      "A mediana: 5.601650466802789\n",
      "A moda: 0.8228237376625789\n",
      "A variância: 5.184569337598459\n",
      "O desvio padrão: 2.2769649399141962\n",
      "O array ordenado (forma crescente): [ 0.82282374  1.27981857  1.47332501  1.48417311  2.07240387  2.51147075\n",
      "  2.81404109  3.23903386  4.00576568  4.08720419  4.15424837  4.4759798\n",
      "  4.57935656  4.62610427  4.7107749   4.74720249  4.94332368  5.3175748\n",
      "  5.33647389  5.52459812  5.67870281  5.72639063  5.72824016  5.82708883\n",
      "  5.9589975   6.13369892  6.19079815  6.2534983   6.33948909  6.43354977\n",
      "  6.48084773  6.553332    7.64897181  7.9953897   8.1011908   8.2026416\n",
      "  8.34705832  9.15114639  9.18367529 10.72309748]\n"
     ]
    }
   ],
   "metadata": {}
  },
  {
   "cell_type": "markdown",
   "source": [
    "# Questão 10\n",
    "\n",
    "Crie outro array aleatório, porém, dessa vez, com 25 elementos inteiros, no intervalo [50, 100). Em seguida, converta esse array em uma matriz 5 x 5."
   ],
   "metadata": {}
  },
  {
   "cell_type": "code",
   "execution_count": 28,
   "source": [
    "import numpy as np\n",
    "\n",
    "array = np.random.rand(25)\n",
    "\n",
    "print(array.reshape((5, 5)))"
   ],
   "outputs": [
    {
     "output_type": "stream",
     "name": "stdout",
     "text": [
      "[[0.13001501 0.66111267 0.16373231 0.30893876 0.96663015]\n",
      " [0.48285467 0.54074745 0.71117314 0.68743174 0.03696915]\n",
      " [0.88817057 0.18858421 0.78202776 0.64392612 0.48539899]\n",
      " [0.92904495 0.26988141 0.81417899 0.69504207 0.23553119]\n",
      " [0.95330269 0.58543571 0.58306647 0.15720954 0.42524046]]\n"
     ]
    }
   ],
   "metadata": {}
  },
  {
   "cell_type": "markdown",
   "source": [
    "# Questão 11\n",
    "\n",
    "Construa a matriz ilustrada pela figura abaixo. Em seguida, obtenha os slices (fatiamentos) destacados em cada cor. Em outras palavras, utilizando o conceito de slices, crie um novo array que contenha os dados destacados em vermelho, azul, roxo e verde.\n",
    "\n",
    "![Imagem](https://lh3.googleusercontent.com/TEYs3x4bTQ8OVk54ZIOzBRFN6k6HMKgdl3KDxKjREkVJYs0fBwkkMhDlLo29JN1HyN6NOgjvvnNQ7dZrvi6crgH6SB4-KT09nQSd1SIUV8YP087IK3ud3C3rkMPQxn5AzsS-jsCElZQ=w2400)"
   ],
   "metadata": {}
  },
  {
   "cell_type": "code",
   "execution_count": 71,
   "source": [
    "import numpy as np\n",
    "\n",
    "array1 = np.array([0, 1, 2, 3, 4, 5])\n",
    "array2 = array1 + 10\n",
    "array3 = array2 + 10\n",
    "array4 = array3 + 10\n",
    "array5 = array4 + 10\n",
    "array6 = array5 + 10\n",
    "\n",
    "array = np.concatenate((array1, array2, array3, array4, array5, array6), axis=0)\n",
    "\n",
    "array6x6 = array.reshape((6, 6))\n",
    "\n",
    "blue_array = array6x6[0:6, 2]\n",
    "\n",
    "red_array = array6x6[0, 3:5]\n",
    "\n",
    "purple_array = np.concatenate((array6x6[2, [0,2,4]], array6x6[4, [0,2,4]]), axis=0).reshape((2,3))\n",
    "\n",
    "green_array = array6x6[4:6, 4:6]\n",
    "\n",
    "print(f'Array vermelho:{red_array}')\n",
    "print(f'Array azul:{blue_array}')\n",
    "print(f'Array roxo:{purple_array}')\n",
    "print(f'Array verde:{green_array}')"
   ],
   "outputs": [
    {
     "output_type": "stream",
     "name": "stdout",
     "text": [
      "Array vermelho:[3 4]\n",
      "Array azul:[ 2 12 22 32 42 52]\n",
      "Array roxo:[[20 22 24]\n",
      " [40 42 44]]\n",
      "Array verde:[[44 45]\n",
      " [54 55]]\n"
     ]
    }
   ],
   "metadata": {}
  },
  {
   "cell_type": "markdown",
   "source": [
    "# Questão 12\n",
    "\n",
    "DESAFIO\n",
    "\n",
    "Nesse desafio, iremos praticar o conceito de indexação em imagens! Pois é, caso você ainda não saiba, as imagens são formadas com conjuntos de pixels, e esses pixels são números inteiros (entre 0 e 255). Sendo assim, quando carregamos uma imagem no Python, essa imagem será armazenada em um matriz (Numpy), ou seja, cada pixel dessa imagem será um elemento dessa matriz.\n",
    "\n",
    "No entanto, é importante que você também saiba que uma imagem colorida é composta por três matrizes, visto que uma imagem colorida é formada por 3 cores básicas: vermelho, verde e azul. Esse é o famoso padrão RGB. Portanto, sua imagem será armazenada em um array tridimensional.\n",
    "\n",
    "Sabendo disso, sua missão será carregar uma imagem colorida (em jpg) e exibir apenas a metade dessa imagem, tanto na horizontal quanto na vertical. Mas, calma... vamos te dar uma ajuda.\n",
    "\n",
    "Primeiro, você precisa instalar a biblioteca skimage para carregar a imagem, além da biblioteca do matplotlib para exibir a imagem (veremos essa biblioteca com mais detalhes nesse curso!), caso você ainda não tenha elas instaladas, claro. Para isso, utilize o comando pip install scikit-image matplotlib, se você estiver utilizando o pip, ou conda install scikit-image matplotlib, se estiver utilizando o Anaconda.\n",
    "\n",
    "Em seguida, observe o código abaixo; ele te mostra como você pode carregar uma imagem e exibi-la. Lembrando... Sua missão será carregar uma imagem colorida (em jpg) e exibir apenas a metade dessa imagem, tanto na horizontal quanto na vertical.\n",
    "\n",
    "```\n",
    "from skimage import io\n",
    "import numpy as np\n",
    "import matplotlib.pyplot as plt\n",
    "\n",
    "img = io.imread('images/numpy-logo.jpg') # Carregamento da imagem\n",
    "\n",
    "print(type(img))\n",
    "\n",
    "plt.imshow(img) # Exibição da imagem\n",
    "```"
   ],
   "metadata": {}
  },
  {
   "cell_type": "code",
   "execution_count": 14,
   "source": [
    "!pip3 install scikit-image matplotlib\n",
    "\n",
    "from skimage import io\n",
    "import numpy as np\n",
    "import matplotlib.pyplot as plt\n",
    "\n",
    "img = io.imread('../images/numpy-logo.jpg')\n",
    "\n",
    "img2 = img[0:112, :]\n",
    "\n",
    "img3 = img[:, 0:112]\n",
    "\n",
    "fig, ax = plt.subplots(1, 2)\n",
    "\n",
    "plt.figure()\n",
    "\n",
    "ax[0].imshow(img2)\n",
    "\n",
    "ax[1].imshow(img3)\n",
    "\n",
    "plt.show()"
   ],
   "outputs": [
    {
     "output_type": "stream",
     "name": "stdout",
     "text": [
      "Requirement already satisfied: scikit-image in /home/lucas/.local/lib/python3.8/site-packages (0.18.3)\n",
      "Requirement already satisfied: matplotlib in /usr/lib/python3/dist-packages (3.1.2)\n",
      "Requirement already satisfied: scipy>=1.0.1 in /home/lucas/.local/lib/python3.8/site-packages (from scikit-image) (1.7.1)\n",
      "Requirement already satisfied: pillow!=7.1.0,!=7.1.1,>=4.3.0 in /usr/lib/python3/dist-packages (from scikit-image) (7.0.0)\n",
      "Requirement already satisfied: networkx>=2.0 in /home/lucas/.local/lib/python3.8/site-packages (from scikit-image) (2.6.3)\n",
      "Requirement already satisfied: numpy>=1.16.5 in /usr/lib/python3/dist-packages (from scikit-image) (1.17.4)\n",
      "Requirement already satisfied: PyWavelets>=1.1.1 in /home/lucas/.local/lib/python3.8/site-packages (from scikit-image) (1.1.1)\n",
      "Requirement already satisfied: tifffile>=2019.7.26 in /home/lucas/.local/lib/python3.8/site-packages (from scikit-image) (2021.8.30)\n",
      "Requirement already satisfied: imageio>=2.3.0 in /home/lucas/.local/lib/python3.8/site-packages (from scikit-image) (2.9.0)\n"
     ]
    },
    {
     "output_type": "display_data",
     "data": {
      "image/png": "[encoded data removed]",
      "text/plain": [
       "<Figure size 432x288 with 1 Axes>"
      ]
     },
     "metadata": {
      "needs_background": "light"
     }
    }
   ],
   "metadata": {}
  }
 ],
 "metadata": {
  "orig_nbformat": 4,
  "language_info": {
   "name": "python",
   "version": "3.8.10",
   "mimetype": "text/x-python",
   "codemirror_mode": {
    "name": "ipython",
    "version": 3
   },
   "pygments_lexer": "ipython3",
   "nbconvert_exporter": "python",
   "file_extension": ".py"
  },
  "kernelspec": {
   "name": "python3",
   "display_name": "Python 3.8.10 64-bit"
  },
  "interpreter": {
   "hash": "916dbcbb3f70747c44a77c7bcd40155683ae19c65e1c03b4aa3499c5328201f1"
  }
 },
 "nbformat": 4,
 "nbformat_minor": 2
}