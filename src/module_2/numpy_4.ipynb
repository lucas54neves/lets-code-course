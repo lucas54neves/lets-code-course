{
 "cells": [
  {
   "cell_type": "markdown",
   "source": [
    "# Questão 1\n",
    "\n",
    "Printe os elementos dos seguintes dois vetores usando apenas um for:\n",
    "\n",
    "arr = np.array([[[1, 2, 3], [4, 5, 6]], [[7, 8, 9], [10, 11, 12]]])\n",
    "\n",
    "Depois, faça o mesmo usando numpy (usando a função nditer) e deixe um comentário sobre a diferença dos dois métodos.\n",
    "\n",
    "arr = np.array([[[1, 2, 3], [4, 5, 6]], [[7, 8, 9], [10, 11, 12]]])"
   ],
   "metadata": {}
  },
  {
   "cell_type": "code",
   "execution_count": null,
   "source": [
    "import numpy as np\n",
    "\n",
    "arr1 = np.array([[[1, 2, 3], [4, 5, 6]], [[7, 8, 9], [10, 11, 12]]])\n",
    "\n",
    "for element in arr1:\n",
    "    print(element)\n",
    "\n",
    "arr2 = np.array([[[1, 2, 3], [4, 5, 6]], [[7, 8, 9], [10, 11, 12]]])\n",
    "\n",
    "for element in np.nditer(arr2):\n",
    "    print(element)"
   ],
   "outputs": [],
   "metadata": {}
  },
  {
   "cell_type": "markdown",
   "source": [
    "# Questão 2\n",
    "\n",
    "Peça para o usuário uma lista com as comidas favoritas dele, depois transforme isso em um objeto numpy. Agora transformado, elimine todas as comidas que começam com uma vogal. Mostre o resultado.\n",
    "\n",
    "Exemplo:\n",
    "\n",
    "- Entrada: [maçã, uva, morango, melancia, acelga]\n",
    "\n",
    "- Saída: [maçã, morango, melancia]"
   ],
   "metadata": {}
  },
  {
   "cell_type": "code",
   "execution_count": null,
   "source": [
    "import numpy as np\n",
    "\n",
    "def user_input():\n",
    "    data = []\n",
    "\n",
    "    input_as_string = input('Entre com uma comida favorita [-1 para sair]: ')\n",
    "\n",
    "    while input_as_string != '-1':\n",
    "        data.append(input_as_string)\n",
    "\n",
    "        input_as_string = input('Entre com uma comida favorita [-1 para sair]: ')\n",
    "\n",
    "    return data\n",
    "\n",
    "def run():\n",
    "    data = user_input()\n",
    "\n",
    "    data_as_numpy = np.array(data)\n",
    "\n",
    "    data_as_numpy = [element for element in data_as_numpy if element[0].lower() not in ['a', 'e', 'i', 'o', 'u']]\n",
    "\n",
    "    print(data_as_numpy)\n",
    "\n",
    "run()\n"
   ],
   "outputs": [],
   "metadata": {}
  },
  {
   "cell_type": "markdown",
   "source": [
    "# Questão 3\n",
    "\n",
    "Imprima a dimensão dos seguintes objetos numpy:\n",
    "\n",
    "a = np.array(2)\n",
    "\n",
    "b = np.array([1, 2, 3, 4, 5])\n",
    "\n",
    "c = np.array([[1, 2, 3], [4, 5, 6]])\n",
    "\n",
    "d = np.array([[[1, 2, 3], [4, 5, 6]], [[7, 8, 9], [10, 11, 12]]])"
   ],
   "metadata": {}
  },
  {
   "cell_type": "code",
   "execution_count": null,
   "source": [
    "import numpy as np\n",
    "\n",
    "a = np.array(2)\n",
    "\n",
    "b = np.array([1, 2, 3, 4, 5])\n",
    "\n",
    "c = np.array([[1, 2, 3], [4, 5, 6]])\n",
    "\n",
    "d = np.array([[[1, 2, 3], [4, 5, 6]], [[7, 8, 9], [10, 11, 12]]])\n",
    "\n",
    "print(a.shape, b.shape, c.shape, d.shape)"
   ],
   "outputs": [],
   "metadata": {}
  },
  {
   "cell_type": "markdown",
   "source": [
    "# Questão 4\n",
    "\n",
    "Transforme o array em uma matriz 4 por 3 utilizando numpy.\n",
    "\n",
    "arr = [1, 2, 3, 4, 'Amelia, 'Bruna, 'Carolina', 'Débora', True, False, False, True]\n",
    "\n",
    "Depois, faça o mesmo para uma matriz 3 por 4."
   ],
   "metadata": {}
  },
  {
   "cell_type": "code",
   "execution_count": null,
   "source": [
    "import numpy as np\n",
    "\n",
    "arr = [1, 2, 3, 4, 'Amelia', 'Bruna', 'Carolina', 'Débora', True, False, False, True]\n",
    "\n",
    "arr1 = np.reshape(arr, (4, 3))\n",
    "\n",
    "print(arr1)\n",
    "\n",
    "arr1 = np.reshape(arr, (3, 4))\n",
    "\n",
    "print(arr2)"
   ],
   "outputs": [],
   "metadata": {}
  },
  {
   "cell_type": "markdown",
   "source": [
    "# Questão 5\n",
    "\n",
    "Transforme o seguinte array em uma matriz 3D 3x3x3:\n",
    "\n",
    "arr = range(27)\n",
    "\n",
    "Deixe um comentário explicando o que significa uma matriz 3D."
   ],
   "metadata": {}
  },
  {
   "cell_type": "code",
   "execution_count": null,
   "source": [
    "import numpy as np\n",
    "\n",
    "arr = range(27)\n",
    "\n",
    "print(np.reshape(arr, (3, 3, 3)))"
   ],
   "outputs": [],
   "metadata": {}
  },
  {
   "cell_type": "markdown",
   "source": [
    "# Questão 6\n",
    "\n",
    "Tente transformar o seguinte array em uma matriz 3x3x3\n",
    "\n",
    "arr = [1, 2, 3, 4, 5, 6, 7, 8]\n",
    "\n",
    "Funciona? Se sim, explique o motivo. Se não, explique o erro."
   ],
   "metadata": {}
  },
  {
   "cell_type": "code",
   "execution_count": null,
   "source": [
    "import numpy as np\n",
    "\n",
    "arr = [1, 2, 3, 4, 5, 6, 7, 8]\n",
    "\n",
    "print(np.reshape(arr, (3, 3, 3)))\n",
    "\n",
    "# Não funcionou porque para um array ser transformado em uma matriz 3x3x3 deve ter tamanho 27"
   ],
   "outputs": [],
   "metadata": {}
  },
  {
   "cell_type": "markdown",
   "source": [
    "# Questão 7\n",
    "\n",
    "Percorra o seguinte array utilizando for encaixado:\n",
    "\n",
    "arr = [[[1, 2], [3, 4]], [[5, 6], [7, 8]]]\n",
    "\n",
    "Agora, percorra o mesmo array utilizando a função nditer de numpy"
   ],
   "metadata": {}
  },
  {
   "cell_type": "code",
   "execution_count": null,
   "source": [
    "import numpy as np\n",
    "\n",
    "arr = np.array([[[1, 2], [3, 4]], [[5, 6], [7, 8]]])\n",
    "\n",
    "for i in arr:\n",
    "    for j in i:\n",
    "        for k in j:\n",
    "            print(k)\n",
    "\n",
    "for element in np.nditer(arr):\n",
    "    print(element)"
   ],
   "outputs": [],
   "metadata": {}
  },
  {
   "cell_type": "markdown",
   "source": [
    "# Questão 8\n",
    "\n",
    "Percorra os indexes do seguinte array utilizando for encaixado:\n",
    "\n",
    "arr = [[[1, 2], [3, 4]], [[5, 6], [7, 8]]]\n",
    "\n",
    "Agora faça o mesmo trabalho utilizando a função ndenumerate."
   ],
   "metadata": {}
  },
  {
   "cell_type": "code",
   "execution_count": null,
   "source": [
    "import numpy as np\n",
    "\n",
    "arr = np.array([[[1, 2], [3, 4]], [[5, 6], [7, 8]]])\n",
    "\n",
    "for i in arr:\n",
    "    for j in i:\n",
    "        for k in j:\n",
    "            print(k)\n",
    "\n",
    "for index, element in np.ndenumerate(arr):\n",
    "    print(element)"
   ],
   "outputs": [],
   "metadata": {}
  },
  {
   "cell_type": "markdown",
   "source": [
    "# Questão 9\n",
    "\n",
    "Junte os dois seguintes arrays na horizontal:\n",
    "\n",
    "arr1 = [1, 2, 3]\n",
    "\n",
    "arr2 = [4, 5, 6]\n",
    "\n",
    "Depois, os junte verticalmente."
   ],
   "metadata": {}
  },
  {
   "cell_type": "code",
   "execution_count": null,
   "source": [
    "import numpy as np\n",
    "\n",
    "arr1 = np.array([1, 2, 3])\n",
    "\n",
    "arr2 = np.array([4, 5, 6])\n",
    "\n",
    "print(np.hstack((arr1, arr2)))\n",
    "\n",
    "print(np.vstack((arr1, arr2)))"
   ],
   "outputs": [],
   "metadata": {}
  },
  {
   "cell_type": "markdown",
   "source": [
    "# Questão 10\n",
    "\n",
    "DESAFIO: Utilizando manipulação de arrays, ache os indexes do array cujo valor possua apenas 2 vogais no nome usando numpy.\n",
    "\n",
    "frutas = ['banana', 'morango, 'uva', 'pitaia', 'abacate', 'abacaxi', 'acerola', 'jenipapo', 'kiwi']"
   ],
   "metadata": {}
  },
  {
   "cell_type": "code",
   "execution_count": null,
   "source": [
    "import numpy as np\n",
    "import re\n",
    "\n",
    "fruits = np.array(['banana', 'morango', 'uva', 'pitaia', 'abacate', 'abacaxi', 'acerola', 'jenipapo', 'kiwi'])\n",
    "\n",
    "print([fruit for fruit in np.nditer(fruits) if len(re.findall('a|e|i|o|u', str(fruit))) == 2])\n",
    "\n"
   ],
   "outputs": [],
   "metadata": {}
  },
  {
   "cell_type": "markdown",
   "source": [
    "# Questão 11\n",
    "\n",
    "a) Tranforme o seguinte array 2D em dois arrays 2D:\n",
    "\n",
    "arr = [[1, 2], [3, 4], [5, 6], [7, 8]]\n",
    "\n",
    "b) Transforme o seguinte array em três arrays com apenas uma coluna:\n",
    "\n",
    "arr = [[1, 2, 3], [4, 5, 6], [7, 8, 9]]"
   ],
   "metadata": {}
  },
  {
   "cell_type": "code",
   "execution_count": null,
   "source": [
    "import numpy as np\n",
    "\n",
    "arr1 = np.array([[1, 2], [3, 4], [5, 6], [7, 8]])\n",
    "\n",
    "arr2 = np.array([[1, 2, 3], [4, 5, 6], [7, 8, 9]])\n",
    "\n",
    "print(np.vsplit(arr1, 2))\n",
    "\n",
    "print(np.hsplit(arr2, 3))\n"
   ],
   "outputs": [],
   "metadata": {}
  },
  {
   "cell_type": "markdown",
   "source": [
    "# Questão 12\n",
    "\n",
    "DESAFIO: Utilizando manipulação de arrays, vamos seguir um conjunto de passos para organizar alguns dados. Teremos nesse seguinte array uma ordem que segue:\n",
    "\n",
    "[Nome do aluno, idade, 'gênero', signo, altura, nota do 1° semestre, nota do 2° bimestre, se está ou não inscrito no próximo ano da escola, nome do outro aluno, idade do outro aluno...]\n",
    "\n",
    "arr = ['Amélia', 13, 'F', 'peixes', 1.51, 9, 7, True, 'Bruno', 14, 'O', 'leão', 1.60, 4, 10, False, 'João', 14, 'M', 'escorpião', 1.58, 8, 9, True, 'Jordana', 13, 'F', 'escorpião', 1.72, 9, 9, False]\n",
    "\n",
    "a) Enumere os indexes de todas as informações que são do tipo string.\n",
    "\n",
    "b) Separe essas informações do objeto arr de forma que cada aluno tenha seu próprio array.\n",
    "\n",
    "c) Separe em duas colunas, a primeira com o nome, a idade, o gênero e o signo e a segunda com a altura, nota do primeiro bimestre, nota do segundo bimestre e se está ou não inscrito no próximo ano.\n",
    "\n",
    "d) Elimine o gênero de todos os arrays cujos alunos tem menos de 14 anos."
   ],
   "metadata": {}
  },
  {
   "cell_type": "code",
   "execution_count": null,
   "source": [
    "import numpy as np\n",
    "\n",
    "#[Nome do aluno, idade, 'gênero', signo, altura, nota do 1° semestre, nota do 2° bimestre, se está ou não inscrito no próximo ano da escola, nome do outro aluno, idade do outro aluno...]\n",
    "\n",
    "arr = np.array(['Amélia', 13, 'F', 'peixes', 1.51, 9, 7, True, 'Bruno', 14, 'O', 'leão', 1.60, 4, 10, False, 'João', 14, 'M', 'escorpião', 1.58, 8, 9, True, 'Jordana', 13, 'F', 'escorpião', 1.72, 9, 9, False])\n",
    "\n",
    "print(np.where(np.char.isalpha(arr)))\n",
    "\n",
    "students = np.reshape(arr, (4, -1))\n",
    "\n",
    "print(students)\n",
    "\n",
    "column1, column2 = np.hsplit(students.reshape(-1, 8), 2)\n",
    "\n",
    "print(column1)\n",
    "\n",
    "print(column2)\n",
    "\n",
    "def delete_gender(row):\n",
    "    if int(row[1]) < 14:\n",
    "        row[2] = None\n",
    "\n",
    "    return row\n",
    "\n",
    "print(np.apply_along_axis(delete_gender, axis=1, arr=column1))"
   ],
   "outputs": [],
   "metadata": {}
  }
 ],
 "metadata": {
  "orig_nbformat": 4,
  "language_info": {
   "name": "python",
   "version": "3.8.10",
   "mimetype": "text/x-python",
   "codemirror_mode": {
    "name": "ipython",
    "version": 3
   },
   "pygments_lexer": "ipython3",
   "nbconvert_exporter": "python",
   "file_extension": ".py"
  },
  "kernelspec": {
   "name": "python3",
   "display_name": "Python 3.8.10 64-bit"
  },
  "interpreter": {
   "hash": "916dbcbb3f70747c44a77c7bcd40155683ae19c65e1c03b4aa3499c5328201f1"
  }
 },
 "nbformat": 4,
 "nbformat_minor": 2
}