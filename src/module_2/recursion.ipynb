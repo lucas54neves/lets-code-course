{
 "cells": [
  {
   "cell_type": "markdown",
   "source": [
    "# Questão 1\n",
    "\n",
    "Desenvolva um script que calcule a soma dos N primeiros números naturais. Utilize a recursividade para obter o resultado."
   ],
   "metadata": {}
  },
  {
   "cell_type": "code",
   "execution_count": 3,
   "source": [
    "def sum_of_the_first_n_natural_numbers(n):\n",
    "    if n == 1:\n",
    "        return 1\n",
    "    return n + sum_of_the_first_n_natural_numbers(n - 1)\n",
    "\n",
    "print(sum_of_the_first_n_natural_numbers(11))"
   ],
   "outputs": [
    {
     "output_type": "stream",
     "name": "stdout",
     "text": [
      "66\n"
     ]
    }
   ],
   "metadata": {}
  },
  {
   "cell_type": "markdown",
   "source": [
    "# Questão 2\n",
    "Dado um array de inteiros e o seu número de elementos, crie uma função recursiva que inverta a posição dos seus elementos."
   ],
   "metadata": {}
  },
  {
   "cell_type": "code",
   "execution_count": 25,
   "source": [
    "def reverse_array(array, size):\n",
    "    if size == 0:\n",
    "        return []\n",
    "    elif size == 1:\n",
    "        return array\n",
    "    \n",
    "    return [array.pop(size - 1)] + reverse_array(array, size - 1)\n",
    "\n",
    "print(reverse_array([1, 2, 3, 4, 5, 6, 7, 8, 9, 10], 10))"
   ],
   "outputs": [
    {
     "output_type": "stream",
     "name": "stdout",
     "text": [
      "[10, 9, 8, 7, 6, 5, 4, 3, 2, 1]\n"
     ]
    }
   ],
   "metadata": {}
  },
  {
   "cell_type": "markdown",
   "source": [
    "# Questão 3\n",
    "\n",
    "Desenvolva uma função recursiva que calcule e mostre o maior elemento de um array de tamanho N. Os elementos consistem em números inteiros."
   ],
   "metadata": {}
  },
  {
   "cell_type": "code",
   "execution_count": 28,
   "source": [
    "def largest_number_of_an_array(array, index = 0, largest_index = 0):\n",
    "    largest = array[largest_index]\n",
    "\n",
    "    if largest < array[index]:\n",
    "        largest_index = index\n",
    "    \n",
    "    if index == len(array) - 1:\n",
    "        return array[largest_index]\n",
    "\n",
    "    index += 1\n",
    "    \n",
    "    return largest_number_of_an_array(array, index, largest_index)\n",
    "\n",
    "print(largest_number_of_an_array([1, 4, 6, 2, 3]))\n"
   ],
   "outputs": [
    {
     "output_type": "stream",
     "name": "stdout",
     "text": [
      "6\n"
     ]
    }
   ],
   "metadata": {}
  },
  {
   "cell_type": "markdown",
   "source": [
    "# Questão 4\n",
    "\n",
    "## DESAFIO: Super Dígito\n",
    "\n",
    "O super dígito de um número inteiro x é obtido da seguinte forma:\n",
    "\n",
    "Se x é composto por apenas um dígito, então, esse dígito é o super dígito de x.\n",
    "Do contrário, o super dígito de x é igual ao super dígito da soma dos dígitos de x.\n",
    "Perceba que, enquanto não chegarmos a um número composto por apenas um dígito, ainda não encontramos o super dígito de x.\n",
    "\n",
    "Por exemplificar, o super dígito de 9875 é:\n",
    "\n",
    "```\n",
    "super_digit(9875) = 9 + 8 + 7 + 5 = 29\n",
    "super_digit(29)   = 2 + 9 = 11\n",
    "super_digit(11)   = 1 + 1 = 2\n",
    "super_digit(2)    = 2\n",
    "```\n",
    "\n",
    "Portanto, no exemplo acima, se x for igual a 9875, o seu super dígito é igual a 2, pois calculamos o super dígito da soma dos seus dígitos, até que o resultado fosse apenas um número de apenas um dígito.\n",
    "\n",
    "Sabendo disso, o seu desafio é o seguinte:\n",
    "\n",
    "você irá receber dois números do usuário, n e k. A partir desses dois números, você formará um novo número p, que será a concatenação no número n, k vezes. Por exemplo, se n = 9875 e k = 4, p = 9875 9875 9875 9875; ou seja p é 9875, 4 vezes.\n",
    "\n",
    "Sabendo o valor de p, calcule o seu super dígito por meio de uma função recursiva.\n",
    "\n",
    "Exemplo de entrada | Exemplo de saída\n",
    "-------------------|-------------------\n",
    "148 3 | 3\n",
    "9875 4 | 8\n",
    "123 3 | 9"
   ],
   "metadata": {}
  },
  {
   "cell_type": "code",
   "execution_count": 36,
   "source": [
    "def calculate_p(number_n, number_k):\n",
    "    return int(str(number_n) * int(number_k))\n",
    "\n",
    "def super_digital(number_x):\n",
    "    number_as_string = str(number_x)\n",
    "\n",
    "    sum_of_number = 0\n",
    "\n",
    "    for letter in number_as_string:\n",
    "        sum_of_number += int(letter)\n",
    "    \n",
    "    if sum_of_number < 10:\n",
    "        return sum_of_number\n",
    "    \n",
    "    return super_digital(sum_of_number)\n",
    "\n",
    "\n",
    "def main():\n",
    "    user_input = input()\n",
    "\n",
    "    input_as_array = user_input.split(' ')\n",
    "\n",
    "    number_n = input_as_array[0]\n",
    "\n",
    "    number_k = input_as_array[1]\n",
    "\n",
    "    number_p = calculate_p(number_n, number_k)\n",
    "\n",
    "    print(super_digital(number_p))\n",
    "\n",
    "main()"
   ],
   "outputs": [
    {
     "output_type": "stream",
     "name": "stdout",
     "text": [
      "9\n"
     ]
    }
   ],
   "metadata": {}
  }
 ],
 "metadata": {
  "orig_nbformat": 4,
  "language_info": {
   "name": "python",
   "version": "3.8.10",
   "mimetype": "text/x-python",
   "codemirror_mode": {
    "name": "ipython",
    "version": 3
   },
   "pygments_lexer": "ipython3",
   "nbconvert_exporter": "python",
   "file_extension": ".py"
  },
  "kernelspec": {
   "name": "python3",
   "display_name": "Python 3.8.10 64-bit"
  },
  "interpreter": {
   "hash": "916dbcbb3f70747c44a77c7bcd40155683ae19c65e1c03b4aa3499c5328201f1"
  }
 },
 "nbformat": 4,
 "nbformat_minor": 2
}