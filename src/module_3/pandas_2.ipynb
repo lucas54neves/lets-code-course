{
 "cells": [
  {
   "cell_type": "markdown",
   "source": [
    "# Questão 1\r\n",
    "\r\n",
    "O arquivo avocado.csv consiste em um dataset que contém dados sobre vendas de abacates (avocado, em inglês) em diversas regiões dos Estados Unidos. Essa dataset contém as seguintes colunas:\r\n",
    "\r\n",
    "- Date - a data da observação\r\n",
    "- AveragePrice - o preço médio de um único abacate\r\n",
    "- year - o ano\r\n",
    "- region - a cidade ou região da observação\r\n",
    "- Total Volume - volume total de abacates vendidos\r\n",
    "\r\n",
    "Além das informações acima, contidas no arquivo avocado.csv, o tipo do abacate (convencional ou orgânico) também seria uma informação importante para a sua análise. Suponhamos que você conseguiu essas informações para cada uma das observações do arquivo avocado.csv, na mesma ordem, e salvou-as no arquivo avocado_type.csv. Portanto, tudo o que você precisa é juntar esses dois arquivos em um mesmo DataFrame. E, em seguida, salve-o em um arquivo csv.\r\n",
    "\r\n",
    "PS. Caso queira criar uma Series com os dados aleatórios para o tipo de abacate, utilize o código abaixo:\r\n",
    "\r\n",
    "```\r\n",
    "tipos = pd.Series(np.random.randint(0, 2, df_avocado.shape[0]))\r\n",
    "tipos = tipos.map({0: 'convencional', 1:'orgânico'})\r\n",
    "````"
   ],
   "metadata": {}
  },
  {
   "cell_type": "code",
   "execution_count": null,
   "source": [
    "import pandas as pd\r\n",
    "\r\n",
    "df1 = pd.read_csv('../doc/avocado.csv')\r\n",
    "\r\n",
    "df2 = pd.read_csv('../doc/avocado_type.csv')\r\n",
    "\r\n",
    "df1['type'] = df2['type']\r\n",
    "\r\n",
    "df1.to_csv('../doc/avocado_and_type.csv', index=False)"
   ],
   "outputs": [],
   "metadata": {}
  },
  {
   "cell_type": "markdown",
   "source": [
    "# Questão 2\r\n",
    "\r\n",
    "Carregue o arquivo csv que você salvou na questão anterior e, em seguida, obtenha o que é solicitado nos itens elencados abaixo:\r\n",
    "\r\n",
    "(a) A quantidade de abacates do tipo convecional e do tipo orgânico.\r\n",
    "\r\n",
    "(b) A quantidade de registros (linhas) de abacates vendidos para cada região.\r\n",
    "\r\n",
    "(c) Para que todos os labels das colunas fiquem padronizados, renomeie aqueles que estão iniciando em letra minúscula para que iniciem em letra maiúscula.\r\n",
    "\r\n",
    "(d) Uma vez que você já possui uma coluna com a data, remova a coluna que apresenta o ano."
   ],
   "metadata": {}
  },
  {
   "cell_type": "code",
   "execution_count": null,
   "source": [
    "import pandas as pd\r\n",
    "\r\n",
    "df = pd.read_csv('../doc/avocado_and_type.csv')\r\n",
    "\r\n",
    "number_of_avocados = {\r\n",
    "    'conventional': df['type'].value_counts().conventional,\r\n",
    "    'organic': df['type'].value_counts().organic\r\n",
    "}\r\n",
    "\r\n",
    "print(number_of_avocados)\r\n",
    "\r\n",
    "number_by_region = df['region'].value_counts()\r\n",
    "\r\n",
    "print(number_by_region)\r\n",
    "\r\n",
    "print(df.columns)\r\n",
    "\r\n",
    "new_columns = {column: column.title() for column in df.columns}\r\n",
    "\r\n",
    "df = df.rename(columns=new_columns)\r\n",
    "\r\n",
    "print(df)\r\n",
    "\r\n",
    "df = df.drop(columns=['Year'])\r\n",
    "\r\n",
    "print(df)"
   ],
   "outputs": [],
   "metadata": {}
  },
  {
   "cell_type": "markdown",
   "source": [
    "# Questão 3\r\n",
    "\r\n",
    "Carregue, em um objeto DataFrame, o mesmo dataset que você salvou na questão Q1, agrupe os dados do DF pelo tipo do abacate e, em seguida, obtenha:\r\n",
    "\r\n",
    "(a) A volume total de abacates vendidos para cada tipo.\r\n",
    "\r\n",
    "(b) O preço médio dos abacates vendidos para cada tipo."
   ],
   "metadata": {}
  },
  {
   "cell_type": "code",
   "execution_count": null,
   "source": [
    "import pandas as pd\r\n",
    "\r\n",
    "df = pd.read_csv('../doc/avocado_and_type.csv')\r\n",
    "\r\n",
    "print(df.groupby('type').sum()['Total Volume'])\r\n",
    "\r\n",
    "print(df.groupby('type').sum()['AveragePrice'])"
   ],
   "outputs": [],
   "metadata": {}
  },
  {
   "cell_type": "markdown",
   "source": [
    "# Questão 4\r\n",
    "\r\n",
    "O arquivo googleplaystore.csv é um dataset que contém diversas informações sobre aplicativos disponíveis para download na Google Play Store. Você deve utilizar esse dataset para fazer o mesmo que foi solicitado na questão anterior. Ou seja, carregue-o em um objeto DataFrame e verifique os dados contidos nas colunas desse DF. Logo após, verifique se existem dados duplicados e/ou ausentes nesse dataset.\r\n",
    "\r\n",
    "Caso existam dados duplicados, remova-os. Caso existam dados ausentes, você pode removê-los ou pensar em alguma maneira de preenchê-los."
   ],
   "metadata": {}
  },
  {
   "cell_type": "code",
   "execution_count": null,
   "source": [
    "import pandas as pd\r\n",
    "from pandas.core.dtypes.missing import isna\r\n",
    "\r\n",
    "df = pd.read_csv('../doc/googleplaystore.csv')\r\n",
    "\r\n",
    "df_duplicates = {\r\n",
    "    'duplicate': df.duplicated().value_counts()[True],\r\n",
    "    'unique': df.duplicated().value_counts()[False]\r\n",
    "}\r\n",
    "\r\n",
    "print(df_duplicates)\r\n",
    "\r\n",
    "df = df.drop_duplicates()\r\n",
    "\r\n",
    "print(df)\r\n",
    "\r\n",
    "print(df.notna().value_counts())\r\n",
    "\r\n",
    "modes = df.mode(axis='index')\r\n",
    "\r\n",
    "for column in df:\r\n",
    "    for index, cell in df[column].iteritems():\r\n",
    "        if isna(cell):\r\n",
    "            df[column][index] = modes[column]\r\n",
    "\r\n",
    "print(df.notna().value_counts())\r\n"
   ],
   "outputs": [],
   "metadata": {}
  },
  {
   "cell_type": "markdown",
   "source": [
    "# Questão 5\r\n",
    "\r\n",
    "O arquivo houses_to_rent.csv consiste em um dataset que contém dados sobre casas para alugar no Brasil. Carregue-o em um objeto DataFrame e verifique os dados contidos nas colunas desse DF (você pode utilizar os métodos head, tail e info). Logo após, verifique se existem dados duplicados e/ou ausentes nesse dataset.\r\n",
    "\r\n",
    "Caso existam dados duplicados, remova-os. Caso existam dados ausentes, você pode removê-los ou pensar em alguma maneira de preenchê-los."
   ],
   "metadata": {}
  },
  {
   "cell_type": "code",
   "execution_count": null,
   "source": [
    "import pandas as pd\r\n",
    "from pandas.core.dtypes.missing import isna\r\n",
    "\r\n",
    "df = pd.read_csv('../doc/houses_to_rent.csv')\r\n",
    "\r\n",
    "df_duplicates = {\r\n",
    "    'duplicate': df.duplicated().value_counts()[True],\r\n",
    "    'unique': df.duplicated().value_counts()[False]\r\n",
    "}\r\n",
    "\r\n",
    "if df_duplicates['duplicate'] > 0:\r\n",
    "    print(df_duplicates)\r\n",
    "    \r\n",
    "    df = df.drop_duplicates()\r\n",
    "\r\n",
    "    print(df)\r\n",
    "\r\n",
    "nan_values = df.notna().value_counts()\r\n",
    "\r\n",
    "if len(nan_values) > 1:\r\n",
    "    modes = df.mode(axis='index')\r\n",
    "\r\n",
    "    for column in df:\r\n",
    "        for index, cell in df[column].iteritems():\r\n",
    "            if isna(cell):\r\n",
    "                df[column][index] = modes[column]\r\n",
    "\r\n",
    "    print(df.notna().value_counts())"
   ],
   "outputs": [],
   "metadata": {}
  }
 ],
 "metadata": {
  "orig_nbformat": 4,
  "language_info": {
   "name": "python",
   "version": "3.8.8",
   "mimetype": "text/x-python",
   "codemirror_mode": {
    "name": "ipython",
    "version": 3
   },
   "pygments_lexer": "ipython3",
   "nbconvert_exporter": "python",
   "file_extension": ".py"
  },
  "kernelspec": {
   "name": "python3",
   "display_name": "Python 3.8.8 64-bit ('base': conda)"
  },
  "interpreter": {
   "hash": "8003219c8c57211ee3be347d121ba14ebad7276cdae3d94be72d9e4e17f9edd5"
  }
 },
 "nbformat": 4,
 "nbformat_minor": 2
}