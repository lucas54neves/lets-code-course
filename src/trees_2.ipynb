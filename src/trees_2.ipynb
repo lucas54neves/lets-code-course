{
 "cells": [
  {
   "cell_type": "markdown",
   "source": [
    "## Exercicio 1:"
   ],
   "metadata": {}
  },
  {
   "cell_type": "markdown",
   "source": [
    "Dada a raiz de uma arvore binaria, determine se ela é uma árvore binária de busca.\n",
    "\n",
    "Uma árvore binária de busca é definida como:\n",
    "\n",
    " - A subarvore esquerda de um nó possui valores menor que o nó;\n",
    " - A subarvore direita de um nó possui valores maior que o nó;\n",
    " - As subárvores devem ser árvores binárias de busca."
   ],
   "metadata": {}
  },
  {
   "cell_type": "code",
   "execution_count": 7,
   "source": [
    "# Definition for a binary tree node.\n",
    "class TreeNode:\n",
    "    def __init__(self, val=0, left=None, right=None):\n",
    "        self.val = val\n",
    "        self.left = left\n",
    "        self.right = right\n",
    "    \n",
    "    def is_valid_node(self):\n",
    "        return (True if self.left is None else self.val >= self.left.val) and (True if self.right is None else self.val < self.right.val) and (True if self.left is None else self.left.is_valid_node()) and (True if self.right is None else self.right.is_valid_node())\n",
    "\n",
    "class Solution:\n",
    "    def isValidBST(self, root) -> bool:\n",
    "        return root.is_valid_node()\n",
    "\n",
    "sol = Solution()\n",
    "\n",
    "root = TreeNode(5)\n",
    "root.left = TreeNode(3)\n",
    "root.right = TreeNode(6)\n",
    "root.right.right = TreeNode(2)\n",
    "\n",
    "print(sol.isValidBST(root))"
   ],
   "outputs": [
    {
     "output_type": "stream",
     "name": "stdout",
     "text": [
      "False\n"
     ]
    }
   ],
   "metadata": {
    "ExecuteTime": {
     "end_time": "2021-09-15T22:07:07.950861Z",
     "start_time": "2021-09-15T22:07:07.933877Z"
    }
   }
  },
  {
   "cell_type": "markdown",
   "source": [
    "## Exercicio 2:"
   ],
   "metadata": {}
  },
  {
   "cell_type": "markdown",
   "source": [
    "Dada uma árvore binaria de busca, encontrar o menor ancestral comum de dois nós da árvore.\n",
    "\n",
    "![image.png](http://lcm.csa.iisc.ernet.in/dsa/img151.gif)"
   ],
   "metadata": {},
   "attachments": {
    "image.png": {
     "image/png": "[encoded data removed]"
    }
   }
  },
  {
   "cell_type": "code",
   "execution_count": 33,
   "source": [
    "# Definition for a binary tree node.\n",
    "class TreeNode:\n",
    "    def __init__(self, x):\n",
    "        self.val = x\n",
    "        self.left = None\n",
    "        self.right = None\n",
    "    \n",
    "    def __repr__(self) -> str:\n",
    "        return f'{self.val}'\n",
    "\n",
    "    # def inorder(self):\n",
    "    #     list_in_order = []\n",
    "\n",
    "    #     if self.left is not None:\n",
    "    #         list_in_order.extend(self.left.inorder())\n",
    "\n",
    "    #     list_in_order.append(self)\n",
    "\n",
    "    #     if self.right is not None:\n",
    "    #         list_in_order.extend(self.right.inorder())\n",
    "\n",
    "    #     return list_in_order\n",
    "    \n",
    "    # def posorder(self):\n",
    "    #     pass\n",
    "\n",
    "class Solution:   \n",
    "    def lowestCommonAncestor(self, root, p, q) -> 'TreeNode':\n",
    "        current_node = root\n",
    "\n",
    "        min_node = p if p.val < q.val else q\n",
    "\n",
    "        max_node = p if p.val > q.val else q\n",
    "\n",
    "        while (current_node.left != p and current_node.right != p) and (current_node.left != q and current_node.right != q):\n",
    "            if min_node.val <= current_node.val and max_node.val > current_node.val:\n",
    "                return current_node\n",
    "            # Ambos a direita\n",
    "            elif min_node.val >= current_node.val:\n",
    "                current_node = current_node.right\n",
    "            # Ambos a esquerda\n",
    "            elif max_node.val < current_node.val:\n",
    "                current_node = current_node.left\n",
    "        \n",
    "        return current_node\n",
    "\n",
    "node1 = TreeNode(1)\n",
    "node2 = TreeNode(2)\n",
    "node3 = TreeNode(3)\n",
    "node4 = TreeNode(4)\n",
    "node5 = TreeNode(5)\n",
    "node6 = TreeNode(6)\n",
    "node7 = TreeNode(7)\n",
    "\n",
    "root = node5\n",
    "node5.left = node4\n",
    "node4.left = node3\n",
    "node3.left = node1\n",
    "node3.right = node2\n",
    "node5.right = node7\n",
    "node7.left = node6\n",
    "\n",
    "sol = Solution()\n",
    "\n",
    "print(sol.lowestCommonAncestor(root, node4, node2))"
   ],
   "outputs": [
    {
     "output_type": "stream",
     "name": "stdout",
     "text": [
      "5\n"
     ]
    }
   ],
   "metadata": {
    "ExecuteTime": {
     "end_time": "2021-09-15T22:08:49.394300Z",
     "start_time": "2021-09-15T22:08:49.383300Z"
    }
   }
  },
  {
   "cell_type": "markdown",
   "source": [
    "## Exercício 3:"
   ],
   "metadata": {}
  },
  {
   "cell_type": "markdown",
   "source": [
    "Dada as raizes de duas árvores binárias p e q, escrever uma função para validar se são árvores iguais ou não.\n",
    "\n",
    "![image.png](attachment:image.png)"
   ],
   "metadata": {},
   "attachments": {
    "image.png": {
     "image/png": "[encoded data removed]"
    }
   }
  },
  {
   "cell_type": "code",
   "execution_count": 15,
   "source": [
    "# Definition for a binary tree node.\n",
    "class TreeNode:\n",
    "    def __init__(self, val=0, left=None, right=None):\n",
    "        self.val = val\n",
    "        self.left = left\n",
    "        self.right = right\n",
    "    \n",
    "    def __eq__(self, other):\n",
    "        if isinstance(other, self.__class__):\n",
    "            return self.val == other.val and (True if (self.left is None and other.left is None) else self.left.val == other.left.val) and  (True if (self.left is None and other.left is None) else self.right.val == other.right.val)\n",
    "        else:\n",
    "            return False\n",
    "\n",
    "class Solution:\n",
    "    def isSameTree(self, p, q) -> bool:\n",
    "        return p == q\n",
    "\n",
    "sol = Solution()\n",
    "\n",
    "p = TreeNode(1)\n",
    "q = TreeNode(1)\n",
    "\n",
    "p.left = TreeNode(5)\n",
    "q.left = TreeNode(5)\n",
    "\n",
    "p.right = TreeNode(2)\n",
    "q.right = TreeNode(2)\n",
    "\n",
    "p.left.left = TreeNode(3)\n",
    "q.left.left = TreeNode(3)\n",
    "\n",
    "p.left.right = TreeNode(7)\n",
    "q.left.right = TreeNode(7)\n",
    "\n",
    "p.right.left = TreeNode(5)\n",
    "q.right.left = TreeNode(5)\n",
    "\n",
    "print(sol.isSameTree(p, q))"
   ],
   "outputs": [
    {
     "output_type": "stream",
     "name": "stdout",
     "text": [
      "True\n"
     ]
    }
   ],
   "metadata": {
    "ExecuteTime": {
     "end_time": "2021-09-15T22:10:05.000416Z",
     "start_time": "2021-09-15T22:10:04.991411Z"
    }
   }
  }
 ],
 "metadata": {
  "kernelspec": {
   "name": "python3",
   "display_name": "Python 3.8.10 64-bit"
  },
  "language_info": {
   "codemirror_mode": {
    "name": "ipython",
    "version": 3
   },
   "file_extension": ".py",
   "mimetype": "text/x-python",
   "name": "python",
   "nbconvert_exporter": "python",
   "pygments_lexer": "ipython3",
   "version": "3.8.10"
  },
  "interpreter": {
   "hash": "916dbcbb3f70747c44a77c7bcd40155683ae19c65e1c03b4aa3499c5328201f1"
  }
 },
 "nbformat": 4,
 "nbformat_minor": 5
}