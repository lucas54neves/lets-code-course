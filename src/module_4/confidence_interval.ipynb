{
 "cells": [
  {
   "cell_type": "markdown",
   "id": "eb171b7c",
   "metadata": {},
   "source": [
    "# Questão 1\n",
    "\n",
    "Se uma amostra aleatória n=250, tem uma média amostral de 51,3 e uma desvio padrão populacional de σ=2. Construa o intervalo com 95% de confiança para a média populacional μ."
   ]
  },
  {
   "cell_type": "code",
   "execution_count": 4,
   "id": "6c5748dd",
   "metadata": {},
   "outputs": [
    {
     "name": "stdout",
     "output_type": "stream",
     "text": [
      "(51.052081987078175, 51.54791801292182)\n"
     ]
    }
   ],
   "source": [
    "from scipy.stats import norm\n",
    "import numpy as np\n",
    "\n",
    "sample_mean = 51.3\n",
    "\n",
    "confidence = 0.95\n",
    "\n",
    "sigma = 2\n",
    "\n",
    "sample_size = 250\n",
    "\n",
    "print(\n",
    "    norm.interval(\n",
    "        confidence,\n",
    "        loc = sample_mean,\n",
    "        scale = sigma / np.sqrt(sample_size)\n",
    "    )\n",
    ")"
   ]
  },
  {
   "cell_type": "markdown",
   "id": "09a41606",
   "metadata": {},
   "source": [
    "# Questão 2\n",
    "\n",
    "Sabe-se que a vida em horas de um bulbo de lâmpada de 75 W é distribuída de forma aproximadamente normal com desvio padrão de σ = 25. Uma amostra aleatória de 200 bulbos tem uma vida media de 1.014 horas. Construa um intervalo de confiança de 95% para a vida média."
   ]
  },
  {
   "cell_type": "code",
   "execution_count": 5,
   "id": "4f61aee8",
   "metadata": {},
   "outputs": [
    {
     "name": "stdout",
     "output_type": "stream",
     "text": [
      "(1010.5352404391258, 1017.4647595608742)\n"
     ]
    }
   ],
   "source": [
    "from scipy.stats import norm\n",
    "import numpy as np\n",
    "\n",
    "sample_mean = 1014\n",
    "\n",
    "confidence = 0.95\n",
    "\n",
    "sigma = 25\n",
    "\n",
    "sample_size = 200\n",
    "\n",
    "print(\n",
    "    norm.interval(\n",
    "        confidence,\n",
    "        loc = sample_mean,\n",
    "        scale = sigma / np.sqrt(sample_size)\n",
    "    )\n",
    ")"
   ]
  },
  {
   "cell_type": "markdown",
   "id": "ba390df2",
   "metadata": {},
   "source": [
    "# Questão 3\n",
    "\n",
    "Qual deve ser o tamanho da amostra para que o intervalo com 99,5% de confiança para a média populacional tenha uma semi-amplitude (ou erro) não superior a 1,5? Sabe-se que a variância populacional é de 23."
   ]
  },
  {
   "cell_type": "code",
   "execution_count": 22,
   "id": "af7ab128",
   "metadata": {},
   "outputs": [
    {
     "name": "stdout",
     "output_type": "stream",
     "text": [
      "2.807033768343811\n",
      "4.795831523312719\n",
      "80.54537211658509\n"
     ]
    }
   ],
   "source": [
    "from scipy.stats import norm\n",
    "import numpy as np\n",
    "\n",
    "confidence = 0.995\n",
    "\n",
    "variance = 23\n",
    "\n",
    "meaningfulness  = 1 - confidence\n",
    "\n",
    "z_alpha_2 = norm.ppf(confidence + (meaningfulness  / 2))\n",
    "\n",
    "sigma = np.sqrt(variance)\n",
    "\n",
    "error = 1.5\n",
    "\n",
    "n = (z_alpha_2 * sigma / error) ** 2\n",
    "\n",
    "print(n)"
   ]
  },
  {
   "cell_type": "markdown",
   "id": "790f97cb",
   "metadata": {},
   "source": [
    "# Questão 4\n",
    "\n",
    "Uma marca particular de margarina diet foi analisada para determinar o nível em porcentagem de ácidos graxos insaturados. Uma amostra de seis pacotes resultou nos seguintes dados: 16,8; 17,2; 17,4; 16,9; 16,5 e 17,1. Encontre o intervalo de confiança de 99% para a amostra."
   ]
  },
  {
   "cell_type": "code",
   "execution_count": 43,
   "id": "81652a78",
   "metadata": {},
   "outputs": [
    {
     "data": {
      "text/plain": [
       "(16.5007343583, 17.465932308366668)"
      ]
     },
     "execution_count": 43,
     "metadata": {},
     "output_type": "execute_result"
    }
   ],
   "source": [
    "from scipy.stats import t as t_student\n",
    "import pandas as pd\n",
    "import numpy as np\n",
    "\n",
    "confidence = 0.99\n",
    "\n",
    "meaningfulness  = 1 - confidence\n",
    "\n",
    "serie = pd.Series([16.8, 17.2, 17.4, 16.9, 16.5, 17.1])\n",
    "\n",
    "sample_mean = serie.mean()\n",
    "\n",
    "sample_size = 6\n",
    "\n",
    "sigma = serie.std()\n",
    "\n",
    "scale = np.sqrt(sigma ** 2 / sample_size)\n",
    "\n",
    "t_student.interval(\n",
    "    alpha = confidence,\n",
    "    df = sample_size,\n",
    "    loc = sample_mean,\n",
    "    scale = scale\n",
    ")"
   ]
  },
  {
   "cell_type": "markdown",
   "id": "a5856a28",
   "metadata": {},
   "source": [
    "# Questão 5\n",
    "\n",
    "Uma amostra piloto com 12 elementos tem média de 6,7 e desvio padrão de 1,7. Qual deve ser o tamanho da amostra para que a semi amplitude do intervalo de 99,5% de confiança da média populacional não seja superior a 0,8."
   ]
  },
  {
   "cell_type": "code",
   "execution_count": 62,
   "id": "895c1b22",
   "metadata": {},
   "outputs": [
    {
     "name": "stdout",
     "output_type": "stream",
     "text": [
      "55.20943425916582\n"
     ]
    }
   ],
   "source": [
    "from scipy.stats import t as t_student\n",
    "import numpy as np\n",
    "\n",
    "confidence = 0.995\n",
    "\n",
    "meaningfulness  = 1 - confidence\n",
    "\n",
    "sample_size = 12\n",
    "\n",
    "gl = sample_size - 1\n",
    "\n",
    "sample_mean = 6.7\n",
    "\n",
    "sigma = 1.7\n",
    "\n",
    "error = 0.8\n",
    "\n",
    "t_alpha = t_student.ppf(confidence + (meaningfulness  / 2), df = gl)\n",
    "\n",
    "n = (t_alpha * sigma / error) ** 2\n",
    "\n",
    "print(n)"
   ]
  },
  {
   "cell_type": "markdown",
   "id": "459d7c6d",
   "metadata": {},
   "source": [
    "# Questão 6\n",
    "\n",
    "Calcular o intervalo de confiança de 95% para a seguinte amostra, com variância populacional desconhecida:\n",
    "\n",
    "```\n",
    "19,8; 18,5; 17,6; 16,7; 15,8; 15,4; 14,1; 13,6; 11,9; 11,4; 11,4; 8,8; 7,5; 15,4; 15,4;\n",
    "```"
   ]
  },
  {
   "cell_type": "code",
   "execution_count": 66,
   "id": "f6735403",
   "metadata": {},
   "outputs": [
    {
     "data": {
      "text/plain": [
       "(12.142418508314917, 15.28485421895781)"
      ]
     },
     "execution_count": 66,
     "metadata": {},
     "output_type": "execute_result"
    }
   ],
   "source": [
    "from scipy.stats import t as t_student\n",
    "import pandas as pd\n",
    "import numpy as np\n",
    "\n",
    "confidence = 0.95\n",
    "\n",
    "meaningfulness  = 1 - confidence\n",
    "\n",
    "serie = pd.Series(\n",
    "    [\n",
    "        19.8, 18.5, 17.6, 16.7, 15.8,\n",
    "        15.4, 14.1, 13.6, 11.9, 11.4,\n",
    "        11.4, 8.8, 7.5, 15.4, 15.4,\n",
    "        19.5, 14.9, 12.7, 11.9, 11.4,\n",
    "        10.1, 7.9\n",
    "    ]\n",
    ")\n",
    "\n",
    "sample_mean = serie.mean()\n",
    "\n",
    "sample_size = serie.size\n",
    "\n",
    "sigma = serie.std()\n",
    "\n",
    "scale = np.sqrt(sigma ** 2 / sample_size)\n",
    "\n",
    "t_student.interval(\n",
    "    alpha = confidence,\n",
    "    df = sample_size,\n",
    "    loc = sample_mean,\n",
    "    scale = scale\n",
    ")"
   ]
  }
 ],
 "metadata": {
  "kernelspec": {
   "display_name": "Python 3 (ipykernel)",
   "language": "python",
   "name": "python3"
  },
  "language_info": {
   "codemirror_mode": {
    "name": "ipython",
    "version": 3
   },
   "file_extension": ".py",
   "mimetype": "text/x-python",
   "name": "python",
   "nbconvert_exporter": "python",
   "pygments_lexer": "ipython3",
   "version": "3.9.7"
  }
 },
 "nbformat": 4,
 "nbformat_minor": 5
}
