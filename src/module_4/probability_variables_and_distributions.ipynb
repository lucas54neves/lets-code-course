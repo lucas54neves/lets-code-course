{
 "cells": [
  {
   "cell_type": "markdown",
   "id": "91f54245",
   "metadata": {},
   "source": [
    "# Questão 1\n",
    "\n",
    "As alternativas abaixo descrevem as características básicas de um experimento binomial. Marque a alternativa correta.\n",
    "\n",
    "[ ] Os ensaios são dependentes.\n",
    "\n",
    "[ ] A probabilidade de sucesso é representada por p e a de fracasso por 1 + p = q. Estas probabilidades não se modificam de ensaio para ensaio\n",
    "\n",
    "[x] Somente dois resultados são possíveis."
   ]
  },
  {
   "cell_type": "markdown",
   "id": "06e1c0c9",
   "metadata": {},
   "source": [
    "# Questão 2\n",
    "\n",
    "Uma moeda, perfeitamente equilibrada, é lançada para o alto quatro vezes. Utilizando a distribuição binomial, obtenha a probabilidade de a moeda cair com a face coroa voltada para cima duas vezes."
   ]
  },
  {
   "cell_type": "code",
   "execution_count": 23,
   "id": "55587bab",
   "metadata": {},
   "outputs": [
    {
     "data": {
      "text/plain": [
       "0.3750000000000001"
      ]
     },
     "execution_count": 23,
     "metadata": {},
     "output_type": "execute_result"
    }
   ],
   "source": [
    "from scipy.stats import binom\n",
    "\n",
    "binom.pmf(2, 4, 0.5)"
   ]
  },
  {
   "cell_type": "markdown",
   "id": "a91ea9d6",
   "metadata": {},
   "source": [
    "# Questão 3\n",
    "\n",
    "Um dado, perfeitamente equilibrado, é lançado para o alto dez vezes. Utilizando a distribuição binomial, obtenha a probabilidade de o dado cair com o número cinco voltado para cima pelo menos três vezes."
   ]
  },
  {
   "cell_type": "code",
   "execution_count": 41,
   "id": "570ceb93",
   "metadata": {},
   "outputs": [
    {
     "data": {
      "text/plain": [
       "0.2247732021287407"
      ]
     },
     "execution_count": 41,
     "metadata": {},
     "output_type": "execute_result"
    }
   ],
   "source": [
    "from scipy.stats import binom\n",
    "\n",
    "total = 0\n",
    "\n",
    "for i in range(3, 11):\n",
    "    total += binom.pmf(n=10, k=i, p=1/6)\n",
    "    \n",
    "total"
   ]
  },
  {
   "cell_type": "markdown",
   "id": "fd16165e",
   "metadata": {},
   "source": [
    "# Questão 4\n",
    "\n",
    "Suponha que a probabilidade de um casal ter filhos com olhos azuis seja de 22%. Em 50 famílias, com 3 crianças cada uma, quantas podemos esperar que tenham dois filhos com olhos azuis?"
   ]
  },
  {
   "cell_type": "code",
   "execution_count": 30,
   "id": "ff883810",
   "metadata": {},
   "outputs": [
    {
     "data": {
      "text/plain": [
       "5.662799999999999"
      ]
     },
     "execution_count": 30,
     "metadata": {},
     "output_type": "execute_result"
    }
   ],
   "source": [
    "from scipy.stats import binom\n",
    "\n",
    "binom.pmf(2, 3, 0.22) * 50"
   ]
  },
  {
   "cell_type": "markdown",
   "id": "80ebe4a5",
   "metadata": {},
   "source": [
    "# Questão 5\n",
    "\n",
    "As alternativas abaixo descrevem as características básicas de um experimento Poisson. Marque aquela que está correta.\n",
    "\n",
    "[ ] O número de ocorrências em determinado intervalo é dependente do número de ocorrências em outros intervalos\n",
    "\n",
    "[ ] A probabilidade de uma ocorrência pode variar em todo o intervalo observado\n",
    "\n",
    "[x] O número de ocorrências em determinado intervalo é independente do número de ocorrências em outros intervalos"
   ]
  },
  {
   "cell_type": "markdown",
   "id": "f913b5ea",
   "metadata": {},
   "source": [
    "# Questão 6\n",
    "\n",
    "O número médio de clientes que entram em uma padaria por hora é igual a 20. Obtenha a probabilidade de, na próxima hora, entrarem exatamente 25 clientes."
   ]
  },
  {
   "cell_type": "code",
   "execution_count": 10,
   "id": "4754db66",
   "metadata": {},
   "outputs": [
    {
     "data": {
      "text/plain": [
       "0.04458764910826764"
      ]
     },
     "execution_count": 10,
     "metadata": {},
     "output_type": "execute_result"
    }
   ],
   "source": [
    "from scipy.stats import poisson\n",
    "\n",
    "mu = 20\n",
    "\n",
    "k = 25\n",
    "\n",
    "poisson.pmf(mu=mu, k=k)"
   ]
  },
  {
   "cell_type": "markdown",
   "id": "ce0cae1b",
   "metadata": {},
   "source": [
    "# Questão 7\n",
    "\n",
    "Sobre a distribuição normal, avalie as afirmativas abaixo:\n",
    "\n",
    "1) A distribuição normal é definida por sua média e desvio padrão\n",
    "\n",
    "2) A distribuição normal é simétrica em torno da média\n",
    "\n",
    "3) O desvio padrão define o achatamento e largura da curva da distribuição normal\n",
    "\n",
    "Quais estão corretas?\n",
    "\n",
    "[ ] Somente as afirmativas 1 e 2 estão corretas\n",
    "\n",
    "[ ] Somente as afirmativas 1 e 3 estão corretas\n",
    "\n",
    "[x] Todas as afirmativas estão corretas\n",
    "\n",
    "[ ] Somente as afirmativas 2 e 3 estão corretas"
   ]
  },
  {
   "cell_type": "markdown",
   "id": "96430068",
   "metadata": {},
   "source": [
    "# Questão 8\n",
    "\n",
    "A aplicação de uma prova de estatística em um concurso apresentou um conjunto de notas normalmente distribuídas. Verificou-se que o conjunto de notas tinha média 70 e desvio padrão de 5 pontos.\n",
    "\n",
    "Qual a probabilidade de um aluno, selecionado ao acaso, ter nota menor que 85?"
   ]
  },
  {
   "cell_type": "code",
   "execution_count": 12,
   "id": "44e8fdb9",
   "metadata": {},
   "outputs": [
    {
     "data": {
      "text/plain": [
       "0.9986501019683699"
      ]
     },
     "execution_count": 12,
     "metadata": {},
     "output_type": "execute_result"
    }
   ],
   "source": [
    "from scipy.stats import norm\n",
    "\n",
    "z = (85 - 70) / 5\n",
    "\n",
    "norm.cdf(z)"
   ]
  },
  {
   "cell_type": "markdown",
   "id": "c205f783",
   "metadata": {},
   "source": [
    "# Questão 9\n",
    "\n",
    "O faturamento diário de um motorista de aplicativo segue uma distribuição aproximadamente normal, com média 300,00 reais e desvio padrão igual a 50,00 reais. Obtenha as probabilidades de que, em um dia aleatório, o motorista ganhe:\n",
    "\n",
    "1. Entre 250,00 e 350,00 reais\n",
    "\n",
    "2. Entre 400,00 e 500,00 reais"
   ]
  },
  {
   "cell_type": "code",
   "execution_count": 14,
   "id": "cf994029",
   "metadata": {},
   "outputs": [
    {
     "data": {
      "text/plain": [
       "0.6826894921370859"
      ]
     },
     "execution_count": 14,
     "metadata": {},
     "output_type": "execute_result"
    }
   ],
   "source": [
    "# 1\n",
    "from scipy.stats import norm\n",
    "\n",
    "z1 = (250 - 300) / 50\n",
    "\n",
    "z2 = (350 - 300) / 50\n",
    "\n",
    "norm.cdf(z2) - norm.cdf(z1)"
   ]
  },
  {
   "cell_type": "code",
   "execution_count": 15,
   "id": "12deefd1",
   "metadata": {},
   "outputs": [
    {
     "data": {
      "text/plain": [
       "0.02271846070634609"
      ]
     },
     "execution_count": 15,
     "metadata": {},
     "output_type": "execute_result"
    }
   ],
   "source": [
    "# 2\n",
    "from scipy.stats import norm\n",
    "\n",
    "z1 = (400 - 300) / 50\n",
    "\n",
    "z2 = (500 - 300) / 50\n",
    "\n",
    "norm.cdf(z2) - norm.cdf(z1)"
   ]
  },
  {
   "cell_type": "markdown",
   "id": "ec1d065c",
   "metadata": {},
   "source": [
    "# Questão 10\n",
    "\n",
    "O Inmetro verificou que as lâmpadas incandescentes da fabricante XPTO apresentam uma vida útil normalmente distribuída, com média igual a 720 dias e desvio padrão igual a 30 dias. Calcule a probabilidade de uma lâmpada, escolhida ao acaso, durar:\n",
    "\n",
    "1) Entre 650 e 750 dias\n",
    "\n",
    "2) Mais que 800 dias\n",
    "\n",
    "3) Menos que 700 dias"
   ]
  },
  {
   "cell_type": "code",
   "execution_count": 17,
   "id": "8031c545",
   "metadata": {},
   "outputs": [
    {
     "data": {
      "text/plain": [
       "0.8315294174398976"
      ]
     },
     "execution_count": 17,
     "metadata": {},
     "output_type": "execute_result"
    }
   ],
   "source": [
    "# 1\n",
    "from scipy.stats import norm\n",
    "\n",
    "z1 = (650 - 720) / 30\n",
    "\n",
    "z2 = (750 - 720) / 30\n",
    "\n",
    "norm.cdf(z2) - norm.cdf(z1)"
   ]
  },
  {
   "cell_type": "code",
   "execution_count": 19,
   "id": "1877a4c4",
   "metadata": {},
   "outputs": [
    {
     "data": {
      "text/plain": [
       "0.003830380567589775"
      ]
     },
     "execution_count": 19,
     "metadata": {},
     "output_type": "execute_result"
    }
   ],
   "source": [
    "# 2\n",
    "from scipy.stats import norm\n",
    "\n",
    "z = (800 - 720) / 30\n",
    "\n",
    "1 - norm.cdf(z)"
   ]
  },
  {
   "cell_type": "code",
   "execution_count": 20,
   "id": "695e1b8d",
   "metadata": {},
   "outputs": [
    {
     "data": {
      "text/plain": [
       "0.2524925375469229"
      ]
     },
     "execution_count": 20,
     "metadata": {},
     "output_type": "execute_result"
    }
   ],
   "source": [
    "# 3\n",
    "from scipy.stats import norm\n",
    "\n",
    "z = (700 - 720) / 30\n",
    "\n",
    "norm.cdf(z)"
   ]
  }
 ],
 "metadata": {
  "kernelspec": {
   "display_name": "Python 3",
   "language": "python",
   "name": "python3"
  },
  "language_info": {
   "codemirror_mode": {
    "name": "ipython",
    "version": 3
   },
   "file_extension": ".py",
   "mimetype": "text/x-python",
   "name": "python",
   "nbconvert_exporter": "python",
   "pygments_lexer": "ipython3",
   "version": "3.8.8"
  }
 },
 "nbformat": 4,
 "nbformat_minor": 5
}
