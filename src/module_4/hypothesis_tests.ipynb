{
 "cells": [
  {
   "cell_type": "markdown",
   "id": "d631749d",
   "metadata": {},
   "source": [
    "# Questão 1\n",
    "\n",
    "Um fabricante de farinha afirma que a quantidade média de farinha nas embalagens de seu principal produto é de 500 g. Um teste de pesagem em 30 embalagens amostradas ao acaso mostrou um peso médio igual à 485 g. Estudos anteriores afirmam que a distribuição dos pesos segue uma normal e que o desvio padrão populacional é igual a 20 g. Considerando um nível de significância igual a 5%, responda as seguintes questões:\n",
    "\n",
    "1) Qual a hipótese nula a ser testada?\n",
    "\n",
    "2) Qual o valor da estatística de teste?\n",
    "\n",
    "3) Qual a conclusão do teste?"
   ]
  },
  {
   "cell_type": "code",
   "execution_count": 40,
   "id": "1b7ae694",
   "metadata": {},
   "outputs": [
    {
     "name": "stdout",
     "output_type": "stream",
     "text": [
      "500\n",
      "-4.107919181288746\n",
      "Aceita o H0 (hipótese nula) => A média do volume é 500 g\n"
     ]
    }
   ],
   "source": [
    "from scipy.stats import norm\n",
    "import numpy as np\n",
    "\n",
    "sample_mean = 485\n",
    "\n",
    "sigma = 20\n",
    "\n",
    "h0 = 500\n",
    "\n",
    "n = 30\n",
    "\n",
    "gl = n - 1\n",
    "\n",
    "meaningfulness = 0.05\n",
    "\n",
    "confidence = 1 - meaningfulness\n",
    "\n",
    "z_alpha_2 = norm.ppf(confidence + meaningfulness / 2)\n",
    "\n",
    "z = (sample_mean - h0) / (sigma / np.sqrt(n))\n",
    "\n",
    "z <= -z_alpha_2 or z >= z_alpha_2\n",
    "\n",
    "p_valor = 2 * (1 - norm.cdf(abs(z)))\n",
    "\n",
    "print(h0)\n",
    "\n",
    "print(z)\n",
    "\n",
    "if p_value <= meaningfulness:\n",
    "    print('Rejeita o H0 (hipótese nula) => A média do volume não é 500 g')\n",
    "else:\n",
    "    print('Aceita o H0 (hipótese nula) => A média do volume é 500 g')\n",
    "    \n",
    "# 1) H0: µ = 500 2) z = -4,1079 3) Rejeitar H0"
   ]
  },
  {
   "cell_type": "markdown",
   "id": "7e230362",
   "metadata": {},
   "source": [
    "# Questão 2\n",
    "\n",
    "Considere novamente os dados do exercício anterior. Um fabricante de farinha afirma que a quantidade média de farinha nas embalagens de seu principal produto é de 500 g. Um teste de pesagem em 30 embalagens amostradas ao acaso mostrou um peso médio igual à 485 g. Estudos anteriores afirmam que a distribuição dos pesos segue uma normal e que o desvio padrão populacional é igual a 20 g. Com um nível de significância igual a 5%, teste a hipótese nula de que a média do processo é igual a 500 g e marque a alternativa que indica o p-valor do teste aplicado (considere somente 5 casas decimais)."
   ]
  },
  {
   "cell_type": "code",
   "execution_count": 42,
   "id": "4f0a5dfc",
   "metadata": {},
   "outputs": [
    {
     "name": "stdout",
     "output_type": "stream",
     "text": [
      "-4.107919181288746\n"
     ]
    },
    {
     "data": {
      "text/plain": [
       "1.999960076025231"
      ]
     },
     "execution_count": 42,
     "metadata": {},
     "output_type": "execute_result"
    }
   ],
   "source": [
    "from scipy.stats import norm\n",
    "import numpy as np\n",
    "\n",
    "sample_mean = 485\n",
    "\n",
    "sigma = 20\n",
    "\n",
    "h0 = 500\n",
    "\n",
    "n = 30\n",
    "\n",
    "gl = n - 1\n",
    "\n",
    "meaningfulness = 0.05\n",
    "\n",
    "confidence = 1 - meaningfulness\n",
    "\n",
    "z_alpha_2 = norm.ppf(confidence + meaningfulness / 2)\n",
    "\n",
    "z = (sample_mean - h0) / (sigma / np.sqrt(n))\n",
    "\n",
    "z <= -z_alpha_2 or z >= z_alpha_2\n",
    "\n",
    "print(z)\n",
    "\n",
    "p_value = norm.sf(z) * 2\n",
    "\n",
    "p_value\n",
    "\n",
    "#3.992397476901338e-05"
   ]
  },
  {
   "cell_type": "markdown",
   "id": "ea382242",
   "metadata": {},
   "source": [
    "# Questão 3\n",
    "\n",
    "A empresa Limpa Esgoto garante ser capaz de realizar o tratamento de esgoto e obter, no máximo, 150 g de impurezas para cada mil litros de esgoto tratado. Vinte amostras de mil litros de esgoto apresentaram, em média, 230 g de impurezas e desvio padrão amostral igual a 90 g.\n",
    "\n",
    "Assumindo alfa igual a 5% e população normalmente distribuída, seria possível discordar da empresa Limpa Esgoto? Assinale a alternativa que apresenta a estatística de teste e a decisão correta do teste."
   ]
  },
  {
   "cell_type": "code",
   "execution_count": 12,
   "id": "ef7373f2",
   "metadata": {},
   "outputs": [
    {
     "name": "stdout",
     "output_type": "stream",
     "text": [
      "3.9752319599996264\n",
      "Rejeita o H0 (hipótese nula)\n"
     ]
    }
   ],
   "source": [
    "from scipy.stats import norm\n",
    "import numpy as np\n",
    "\n",
    "sample_mean = 230\n",
    "\n",
    "sigma = 90\n",
    "\n",
    "h0 = 150\n",
    "\n",
    "n = 20\n",
    "\n",
    "gl = n - 1\n",
    "\n",
    "meaningfulness = 0.05\n",
    "\n",
    "confidence = 1 - meaningfulness\n",
    "\n",
    "z_alpha_2 = norm.ppf(confidence + meaningfulness / 2)\n",
    "\n",
    "z = (sample_mean - h0) / (sigma / np.sqrt(n))\n",
    "\n",
    "z <= -z_alpha_2 or z >= z_alpha_2\n",
    "\n",
    "p_value = norm.sf(z) * 2\n",
    "\n",
    "print(z)\n",
    "\n",
    "if p_value <= meaningfulness:\n",
    "    print('Rejeita o H0 (hipótese nula)')\n",
    "else:\n",
    "    print('Aceita o H0 (hipótese nula)')"
   ]
  },
  {
   "cell_type": "markdown",
   "id": "aa737f3b",
   "metadata": {},
   "source": [
    "# Questão 4\n",
    "\n",
    "A pizzaria Muito Queijo alega que a quantidade de queijo em suas pizzas tamanho família é de, no mínimo, 350 g. Uma amostra de 35 pizzas tamanho família revelou uma média de 330 g de queijo por pizza. O desvio padrão amostral foi de 80 g.\n",
    "\n",
    "Assumindo alfa igual a 5% e população normalmente distribuída, seria possível discordar da alegação da pizzaria? Assinale a alternativa que apresenta a estatística de teste e a decisão correta do teste."
   ]
  },
  {
   "cell_type": "code",
   "execution_count": 13,
   "id": "a757fae3",
   "metadata": {},
   "outputs": [
    {
     "name": "stdout",
     "output_type": "stream",
     "text": [
      "-1.479019945774904\n",
      "Aceita o H0 (hipótese nula)\n"
     ]
    }
   ],
   "source": [
    "from scipy.stats import norm\n",
    "import numpy as np\n",
    "\n",
    "sample_mean = 330\n",
    "\n",
    "sigma = 80\n",
    "\n",
    "h0 = 350\n",
    "\n",
    "n = 35\n",
    "\n",
    "gl = n - 1\n",
    "\n",
    "meaningfulness = 0.05\n",
    "\n",
    "confidence = 1 - meaningfulness\n",
    "\n",
    "z_alpha_2 = norm.ppf(confidence + meaningfulness / 2)\n",
    "\n",
    "z = (sample_mean - h0) / (sigma / np.sqrt(n))\n",
    "\n",
    "z <= -z_alpha_2 or z >= z_alpha_2\n",
    "\n",
    "p_value = norm.sf(z) * 2\n",
    "\n",
    "print(z)\n",
    "\n",
    "if p_value <= meaningfulness:\n",
    "    print('Rejeita o H0 (hipótese nula)')\n",
    "else:\n",
    "    print('Aceita o H0 (hipótese nula)')"
   ]
  },
  {
   "cell_type": "markdown",
   "id": "6e9f1127",
   "metadata": {},
   "source": [
    "# Questão 5\n",
    "\n",
    "Um fabricante de cosméticos afirma que a adição de um novo composto químico em sua linha de shampoos consegue promover em mais de 2 centímetros o crescimento dos fios de cabelo em um período de 60 dias. Duas amostras de pessoas foram selecionadas e testadas, uma utilizando o shampoo novo (com o composto) e a outra com o shampoo antigo (sem o composto).\n",
    "\n",
    "Os resultados (crescimento dos fios de cabelo em centímetros) podem ser verificados na tabela abaixo:\n",
    "\n",
    "![Tabela](https://s3-sa-east-1.amazonaws.com/lcpi/e011f67a-2e02-44f1-bd48-3b37e3067583.png)\n",
    "\n",
    "Assumindo um nível de confiança de 95% e considerando que as populações se distribuem como uma normal, podemos acreditar na afirmação do fabricante do shampoo? Assinale a alternativa que apresenta a estatística de teste e a decisão correta do teste.\n",
    "\n",
    "Um pouco mais de teoria: como se trata de um problema um pouco diferente do apresentado em nossa aula, vamos esclarecer alguns pontos para ajudar na solução:\n",
    "\n",
    "1) Em testes entre duas amostras, quando realizamos a escolha da distribuição amostral adequada (passo 2) e perguntamos se n ≥ 30, temos que considerar que n = n1 + n2, onde n1 é o tamanho da primeira amostra e n2 o tamanho da segunda;\n",
    "\n",
    "2) Quando n1 + n2 ≥ 30, utilizamos z (normal), e quando n1 + n2 < 30, σ não for conhecido e as populações forem normalmente distribuídas, utilizamos t (t-Student);\n",
    "\n",
    "3) Quando utilizamos a tabela t de Student, em teste de duas amostras, os graus de liberdade são obtidos da seguinte forma: n1 + n2 - 2;\n",
    "\n",
    "4) Quando o problema nos pergunta se podemos acreditar na afirmação do fabricante, está nos indicando o que devemos testar, ou seja, a nossa hipótese alternativa (H1), que no caso é:\n",
    "\n",
    "Onde:\n",
    "\n",
    "μ1 = Crescimento médio dos cabelos com o uso do novo shampoo μ2 = Crescimento médio dos cabelos com o uso do shampoo antigo."
   ]
  },
  {
   "cell_type": "code",
   "execution_count": 39,
   "id": "65d5ca4e",
   "metadata": {},
   "outputs": [
    {
     "name": "stdout",
     "output_type": "stream",
     "text": [
      "t_alpha: 1.7340636066175354\n",
      "t: 5.961498726736326\n"
     ]
    }
   ],
   "source": [
    "from scipy.stats import t as t_student\n",
    "from scipy.stats import norm\n",
    "import numpy as np\n",
    "\n",
    "confidence = 0.95\n",
    "\n",
    "meaningfulness = 1 - confidence\n",
    "\n",
    "gl = 10 + 10 - 2\n",
    "\n",
    "t_alpha = t_student.ppf(\n",
    "    confidence,\n",
    "    df = gl\n",
    ")\n",
    "\n",
    "t_alpha\n",
    "\n",
    "\n",
    "sample = np.array(\n",
    "    [\n",
    "        3.4, 4.9, 2.8, 5.5, 3.7, 2.5, 4.3, 4.6, 3.7, 3.4\n",
    "#         0.3, 1.2, 1.2, 1.7, 1.1, 0.6, 1.2, 1.5, 0.5, 0.7\n",
    "    ]\n",
    ")\n",
    "\n",
    "sample_mean = sample.mean()\n",
    "\n",
    "sigma = sample.std()\n",
    "\n",
    "t = (sample_mean - 2) / (sigma / np.sqrt(10-2))\n",
    "\n",
    "print('t_alpha:', t_alpha)\n",
    "\n",
    "print('t:', t)\n",
    "\n",
    "# t = 2,6646 Rejeitar H0, ou seja, a alegação do fabricante é verdadeira"
   ]
  }
 ],
 "metadata": {
  "kernelspec": {
   "display_name": "Python 3 (ipykernel)",
   "language": "python",
   "name": "python3"
  },
  "language_info": {
   "codemirror_mode": {
    "name": "ipython",
    "version": 3
   },
   "file_extension": ".py",
   "mimetype": "text/x-python",
   "name": "python",
   "nbconvert_exporter": "python",
   "pygments_lexer": "ipython3",
   "version": "3.9.7"
  }
 },
 "nbformat": 4,
 "nbformat_minor": 5
}
