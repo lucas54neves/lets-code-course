{
 "cells": [
  {
   "cell_type": "markdown",
   "id": "234b41fb",
   "metadata": {},
   "source": [
    "# Enunciado\n",
    "\n",
    "Neste case, você deverá aplicar a regressão linear simples para estimar o limite de crédito de clientes de um banco, a partir do score deles no Serasa. O seu dataset (disponível no link abaixo) contém duas colunas: Score e Limit. Aplique a regressão linear, utilizando o LinearRegression do sklearn e, também, o OLS do statsmodels.\n",
    "\n",
    "[Link do dataframe](https://s3-sa-east-1.amazonaws.com/lcpi/7c85cb96-165c-49a6-90f6-e35575a4dafe.csv)"
   ]
  },
  {
   "cell_type": "code",
   "execution_count": 16,
   "id": "aaaef493",
   "metadata": {},
   "outputs": [
    {
     "name": "stdout",
     "output_type": "stream",
     "text": [
      "Limite estimado com Sklearn:\n",
      "[ 3665.73658403  6640.05800736  7101.07782798  9584.63621646\n",
      "  4766.23551066  7919.01621939  3308.81801323  7071.33461374\n",
      "  3412.91926304  6759.03086429  8216.44836173  1509.35355211\n",
      "  5316.48497398  7056.46300663  3457.53408439  2431.39319334\n",
      "  3710.35140538  4498.54658256  6119.55175828  6580.57157889\n",
      "  2951.89944243  6268.26782944  2624.72408586  5375.97140244\n",
      "  1777.04248021  4305.21569004  3754.96622673  4409.31693986\n",
      " 13570.22692372  5569.30229496  5599.04550919  2580.10926451\n",
      "  7829.78657669  1866.27212291  2416.52158623  2728.82533568\n",
      "  6223.65300809  6327.75425791  3918.55390501  3383.17604881\n",
      "  3219.58837053  7457.99639878  4677.00586796  6074.93693693\n",
      "  6431.85550773  7844.65818381  5048.79604588  4215.98604734\n",
      "  2505.75122893  4721.62068931  5048.79604588  3933.42551213\n",
      "  5316.48497398  5599.04550919  1509.35355211  1747.29926598\n",
      "  4989.30961741  4914.95158183  3635.99336979  5256.99854551\n",
      "  4870.33676048  3234.45997764  1836.52890868  3189.84515629\n",
      "  2773.44015703  4215.98604734  9777.96710897  5108.28247434\n",
      "  5673.40354478  6967.23336393  4186.24283311  7457.99639878\n",
      "  4736.49229643  4483.67497544  5673.40354478  2788.31176414\n",
      "  3189.84515629  3219.58837053  6416.98390061  2000.11658696\n",
      "  3740.09461961  4171.37122599  4572.90461814  1271.40783825\n",
      "  2907.28462108 11770.76246261  6119.55175828  2163.70426525\n",
      "  4691.87747508  7532.35443436  5866.73443729  6238.52461521\n",
      "  3160.10194206  5227.25533128  3100.61551359  1241.66462401\n",
      "  4914.95158183  3412.91926304  3041.12908513  8484.13728983\n",
      "  3264.20319188  2282.67712218  7353.89514896  9599.50782357\n",
      "  4885.20836759  3308.81801323  1167.30658843  3368.30444169\n",
      "  6134.42336539  3606.25015556  3174.97354918  2892.41301396\n",
      "  6759.03086429  6506.21354331  3442.66247728  4944.69479606\n",
      "  2223.19069371  8766.69782504  2029.8598012   1494.481945\n",
      "  1360.63748095  8365.16443289  6610.31479313  1197.04980266\n",
      "  2312.42033641  2357.03515776  5896.47765153  3308.81801323\n",
      "  8528.75211118  3606.25015556  3635.99336979  1866.27212291\n",
      "  5509.81586649  5807.24800883  6179.03818674  3279.07479899\n",
      "  4126.75640464  3591.37854844  2059.60301543 10283.60175094\n",
      "  6283.13943656  6640.05800736  7621.58407706  5212.38372416\n",
      "  2847.79819261  4528.28979679  4974.43801029  1687.81283751\n",
      "  2312.42033641  1256.53623113  5926.22086576  4706.74908219\n",
      "  2193.44747948  4572.90461814  2951.89944243  1583.7115877\n",
      "  4483.67497544  5494.94425938  5494.94425938  2951.89944243\n",
      "  5123.15408146  1836.52890868  7115.94943509  2476.00801469\n",
      "  5836.99122306  4914.95158183  2639.59569298  2104.21783678\n",
      "  2713.95372856  6283.13943656  1940.6301585   3903.68229789\n",
      "  4572.90461814  4498.54658256 10610.77710751  2520.62283604\n",
      "  2743.69694279  3799.58104808  4156.49961888  7785.17175534\n",
      "  3829.32426231  5138.02568858  6283.13943656  4439.06015409\n",
      " 11428.71549892  4156.49961888  4052.39836906  1940.6301585\n",
      "  7695.94211264  4305.21569004  5182.64050993  9882.06835879\n",
      "  3725.22301249 10313.34496517  2148.83265813  5375.97140244\n",
      "  7145.69264933  3978.04033348  1970.37337273  4067.26997618\n",
      "  5152.89729569  7324.15193473  1613.45480193  6878.00372123\n",
      "  5286.74175974  4230.85765446  2133.96105101  4781.10711778\n",
      "  4215.98604734  9004.64353891  3070.87229936  5361.09979533\n",
      "  4260.60086869  5152.89729569  5554.43068784  4468.80336833\n",
      "  2654.46730009  5286.74175974  1672.9412304   4959.56640318\n",
      "  5955.96407999  8870.79907486  6164.16657963  4572.90461814\n",
      "  8142.09032614  5569.30229496  7294.40872049  5851.86283018\n",
      "  4528.28979679  7591.84086283  5212.38372416  5078.53926011\n",
      "  4810.85033201  2238.06230083  8067.73229056  2907.28462108\n",
      "  4944.69479606  5227.25533128  2966.77104954  3368.30444169\n",
      "  3353.43283458   988.84730303  1360.63748095  6298.01104368\n",
      "  1643.19801616  2267.80551506  3398.04765593  2252.93390794\n",
      "   840.13123186  1449.86712365  2297.54872929  3427.79087016\n",
      "  8692.33978946  5435.45783091  6431.85550773  3978.04033348\n",
      "  1464.73873076  2223.19069371  2654.46730009  6149.29497251\n",
      "  5152.89729569  9346.69050259  3859.06747654  3472.40569151\n",
      "  5108.28247434  5093.41086723  4810.85033201  5896.47765153\n",
      "  1568.83998058  5554.43068784  2684.21051433  4617.51943949\n",
      "  3903.68229789  4706.74908219  5985.70729423  8915.41389621\n",
      "  3279.07479899  4706.74908219  7160.56425644  3145.23033494\n",
      "  5063.66765299  2178.57587236  8097.47550479  6669.80122159\n",
      "  1940.6301585   1777.04248021  1568.83998058  3502.14890574\n",
      "  5212.38372416  3859.06747654  3442.66247728  3725.22301249\n",
      "  5108.28247434 11607.17478432  2505.75122893  1672.9412304\n",
      "  4959.56640318  4230.85765446  2490.87962181  4989.30961741\n",
      "  4736.49229643  3754.96622673  4885.20836759  4691.87747508\n",
      "  7428.25318454  1910.88694426  3725.22301249  3888.81069078\n",
      "  4394.44533274  6803.64568564  4944.69479606  5346.22818821\n",
      "  5197.51211704  7398.50997031  9212.84603854  3859.06747654\n",
      "  7220.05068491  4513.41818968  1375.50908806  2862.66979973\n",
      "  1330.89426671  2966.77104954  3650.86497691 14060.98995857\n",
      "  2773.44015703  4870.33676048 10179.50050112  7011.84818528\n",
      "  3873.93908366  7294.40872049  4349.83051139  3784.70944096\n",
      "  5063.66765299  3338.56122746  4677.00586796  3472.40569151\n",
      "  5970.83568711  1226.7930169   5063.66765299  9971.29800149\n",
      "  3933.42551213  3903.68229789  3323.68962034  3621.12176268\n",
      "  5420.58622379  1494.481945    5703.14675901 10670.26353597\n",
      "  1122.69176708  5242.12693839  1762.1708731   5019.05283164\n",
      "  6996.97657816  4543.16140391  3799.58104808 11830.24889107\n",
      "  6030.32211558  2252.93390794  4498.54658256  4572.90461814\n",
      "  5911.34925864  4840.59354624  5138.02568858  5896.47765153\n",
      "  9644.12264492  6729.28765006  7844.65818381  3368.30444169\n",
      "  6000.57890134  8365.16443289  6387.24068638  2029.8598012\n",
      "  3814.45265519  5152.89729569  4929.82318894  5599.04550919\n",
      "  7115.94943509  1568.83998058  4900.07997471  2639.59569298\n",
      "  7457.99639878  7993.37425498  5539.55908073  3650.86497691\n",
      "  2133.96105101  5375.97140244  3725.22301249  1330.89426671\n",
      "  6625.18640024  6937.49014969 10566.16228616  6476.47032908\n",
      "  2371.90676488  1509.35355211  5554.43068784  4022.65515483\n",
      "  3859.06747654  4230.85765446  2312.42033641  5628.78872343]\n",
      "Limite estimado com Statsmodels:\n",
      "                            OLS Regression Results                            \n",
      "==============================================================================\n",
      "Dep. Variable:                  Limit   R-squared:                       0.994\n",
      "Model:                            OLS   Adj. R-squared:                  0.994\n",
      "Method:                 Least Squares   F-statistic:                 6.348e+04\n",
      "Date:                Tue, 14 Dec 2021   Prob (F-statistic):               0.00\n",
      "Time:                        23:51:21   Log-Likelihood:                -2649.1\n",
      "No. Observations:                 400   AIC:                             5302.\n",
      "Df Residuals:                     398   BIC:                             5310.\n",
      "Df Model:                           1                                         \n",
      "Covariance Type:            nonrobust                                         \n",
      "==============================================================================\n",
      "                 coef    std err          t      P>|t|      [0.025      0.975]\n",
      "------------------------------------------------------------------------------\n",
      "const       -542.9282     22.850    -23.760      0.000    -587.851    -498.006\n",
      "Score         14.8716      0.059    251.949      0.000      14.756      14.988\n",
      "==============================================================================\n",
      "Omnibus:                        6.887   Durbin-Watson:                   2.080\n",
      "Prob(Omnibus):                  0.032   Jarque-Bera (JB):                4.980\n",
      "Skew:                          -0.145   Prob(JB):                       0.0829\n",
      "Kurtosis:                       2.537   Cond. No.                         970.\n",
      "==============================================================================\n",
      "\n",
      "Notes:\n",
      "[1] Standard Errors assume that the covariance matrix of the errors is correctly specified.\n"
     ]
    },
    {
     "name": "stderr",
     "output_type": "stream",
     "text": [
      "C:\\Users\\lucas\\anaconda3\\lib\\site-packages\\statsmodels\\tsa\\tsatools.py:142: FutureWarning: In a future version of pandas all arguments of concat except for the argument 'objs' will be keyword-only\n",
      "  x = pd.concat(x[::order], 1)\n"
     ]
    }
   ],
   "source": [
    "import pandas as pd\n",
    "from sklearn.linear_model import LinearRegression\n",
    "import statsmodels.api as sm\n",
    "\n",
    "dataframe = pd.read_csv('https://s3-sa-east-1.amazonaws.com/lcpi/7c85cb96-165c-49a6-90f6-e35575a4dafe.csv')\n",
    "\n",
    "lr = LinearRegression()\n",
    "\n",
    "X = dataframe[['Score']]\n",
    "\n",
    "y = dataframe['Limit']\n",
    "\n",
    "lr.fit(X, y)\n",
    "\n",
    "y_est = lr.coef_[0] * X + lr.intercept_\n",
    "\n",
    "y_pred = lr.predict(X)\n",
    "\n",
    "print('Limite estimado com Sklearn:')\n",
    "\n",
    "print(y_pred)\n",
    "\n",
    "x = sm.add_constant(X)\n",
    "\n",
    "model = sm.OLS(y, x).fit()\n",
    "\n",
    "print('Limite estimado com Statsmodels:')\n",
    "\n",
    "print(model.summary())"
   ]
  },
  {
   "cell_type": "code",
   "execution_count": 17,
   "id": "939837f5",
   "metadata": {},
   "outputs": [
    {
     "data": {
      "text/plain": [
       "-1.4495071809506043e-13"
      ]
     },
     "execution_count": 17,
     "metadata": {},
     "output_type": "execute_result"
    }
   ],
   "source": [
    "model.resid.mean()"
   ]
  },
  {
   "cell_type": "code",
   "execution_count": 19,
   "id": "155e4ae8",
   "metadata": {},
   "outputs": [
    {
     "data": {
      "text/plain": [
       "<AxesSubplot:ylabel='Count'>"
      ]
     },
     "execution_count": 19,
     "metadata": {},
     "output_type": "execute_result"
    },
    {
     "data": {
      "image/png": "[encoded data removed]",
      "text/plain": [
       "<Figure size 432x288 with 1 Axes>"
      ]
     },
     "metadata": {
      "needs_background": "light"
     },
     "output_type": "display_data"
    }
   ],
   "source": [
    "import seaborn as sns\n",
    "\n",
    "sns.histplot(model.resid, kde=True)"
   ]
  }
 ],
 "metadata": {
  "kernelspec": {
   "display_name": "Python 3 (ipykernel)",
   "language": "python",
   "name": "python3"
  },
  "language_info": {
   "codemirror_mode": {
    "name": "ipython",
    "version": 3
   },
   "file_extension": ".py",
   "mimetype": "text/x-python",
   "name": "python",
   "nbconvert_exporter": "python",
   "pygments_lexer": "ipython3",
   "version": "3.9.7"
  }
 },
 "nbformat": 4,
 "nbformat_minor": 5
}
