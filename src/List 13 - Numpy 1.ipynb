{
 "cells": [
  {
   "cell_type": "markdown",
   "source": [
    "# Questão 1\n",
    "\n",
    "Agora, vamos explorar os arrays aleatórios e máscaras. Faça o que se pede:\n",
    "\n",
    "a) Crie um array aleatório de 15 itens entre 0 e 100;\n",
    "\n",
    "b) Qual o maior número do array?\n",
    "\n",
    "c) Qual a sua posição?\n",
    "\n",
    "d) Verifique quais números do array são maior que 10;\n",
    "\n",
    "e) Salve em uma nova lista apenas os itens entre 10 e 30."
   ],
   "metadata": {}
  },
  {
   "cell_type": "code",
   "execution_count": 3,
   "source": [
    "import numpy as np\n",
    "\n",
    "def run():\n",
    "    array = np.random.randint(0, 100, 15)\n",
    "\n",
    "    print(f'Array: {array}')\n",
    "\n",
    "    print(f'Maior numero: {array.max()}')\n",
    "\n",
    "    print(f'Posicao do maior numero: {array.argmax()}')\n",
    "\n",
    "    print(f'Numeros maiores que 10: {array[array > 10]}')\n",
    "\n",
    "    new_array = array[(array > 10) & (array < 30)]\n",
    "\n",
    "    print(f'Nova lista: {new_array}')\n",
    "\n",
    "run()"
   ],
   "outputs": [
    {
     "output_type": "stream",
     "name": "stdout",
     "text": [
      "Array: [90 45 28 16 83  9  9 20 57 91 32 17  3 80 79]\n",
      "Maior numero: 91\n",
      "Posicao do maior numero: 9\n",
      "Numeros maiores que 10: [90 45 28 16 83 20 57 91 32 17 80 79]\n",
      "Nova lista: [28 16 20 17]\n"
     ]
    }
   ],
   "metadata": {}
  },
  {
   "cell_type": "markdown",
   "source": [
    "# Questão 2\n",
    "\n",
    "Nosso próximo foco serão as matrizes. Faça o que se pede:\n",
    "\n",
    "a) Gere uma matriz (3,2) com números linearmente espaçados entre 0 e 100 e intervalos de 20, usando o np.linspace();\n",
    "\n",
    "b) Gere uma matriz aleatória (5,2) com números entre 0 e 100;\n",
    "\n",
    "c) Crie um array com as dimensões apropriadas que, quando multiplicado pela matriz do item a), devolva essa mesma matriz. Use o método np.matmul()."
   ],
   "metadata": {}
  },
  {
   "cell_type": "code",
   "execution_count": 7,
   "source": [
    "import numpy as np\n",
    "\n",
    "matrix_a = np.linspace(0, 100, 6).reshape((3,2))\n",
    "\n",
    "matrix_b = np.random.randint(0, 100, 10).reshape((5,2))\n",
    "\n",
    "array = np.array([1, 0, 0, 1]).reshape((2,2))\n",
    "\n",
    "print(\"Matriz A\")\n",
    "print(matrix_a)\n",
    "\n",
    "print(\"Matriz B\")\n",
    "print(matrix_b)\n",
    "\n",
    "print(\"Array\")\n",
    "print(array)\n",
    "\n",
    "print(\"Resultado da multiplicacao\")\n",
    "print(np.matmul(matrix_a, array))"
   ],
   "outputs": [
    {
     "output_type": "stream",
     "name": "stdout",
     "text": [
      "Matriz A\n",
      "[[  0.  20.]\n",
      " [ 40.  60.]\n",
      " [ 80. 100.]]\n",
      "Matriz B\n",
      "[[37 21]\n",
      " [88  7]\n",
      " [89 14]\n",
      " [80  0]\n",
      " [51 19]]\n",
      "Array\n",
      "[[1 0]\n",
      " [0 1]]\n",
      "Resultado da multiplicacao\n",
      "[[  0.  20.]\n",
      " [ 40.  60.]\n",
      " [ 80. 100.]]\n"
     ]
    }
   ],
   "metadata": {}
  }
 ],
 "metadata": {
  "orig_nbformat": 4,
  "language_info": {
   "name": "python",
   "version": "3.8.10",
   "mimetype": "text/x-python",
   "codemirror_mode": {
    "name": "ipython",
    "version": 3
   },
   "pygments_lexer": "ipython3",
   "nbconvert_exporter": "python",
   "file_extension": ".py"
  },
  "kernelspec": {
   "name": "python3",
   "display_name": "Python 3.8.10 64-bit"
  },
  "interpreter": {
   "hash": "916dbcbb3f70747c44a77c7bcd40155683ae19c65e1c03b4aa3499c5328201f1"
  }
 },
 "nbformat": 4,
 "nbformat_minor": 2
}