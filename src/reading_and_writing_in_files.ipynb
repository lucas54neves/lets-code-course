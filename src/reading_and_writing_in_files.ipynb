{
 "cells": [
  {
   "cell_type": "markdown",
   "source": [
    "# Questão 1\n",
    "\n",
    "Para os exercícios 1 ao 3, você precisará do arquivo: alunos.csv. Clique aqui para baixá-lo (ao salvar, renomeie o arquivo).\n",
    "\n",
    "Neste exercício você deve criar um programa que abra o arquivo \"alunos.csv\" e imprima o conteúdo do arquivo linha a linha.\n",
    "\n",
    "Note que esse é o primeiro exercício de uma sequência, então o seu código pode ser reaproveitado nos exercícios seguintes. Dito isso, a recomendação é usar a biblioteca CSV para ler o arquivo mesmo que não seja realmente necessário para esse primeiro item."
   ],
   "metadata": {}
  },
  {
   "cell_type": "code",
   "execution_count": null,
   "source": [
    "import csv\n",
    "\n",
    "with open('../doc/alunos.csv', newline='') as csvfile:\n",
    "    reader = csv.reader(csvfile, delimiter=',')\n",
    "    for row in reader:\n",
    "        print(', '.join(row))"
   ],
   "outputs": [],
   "metadata": {}
  },
  {
   "cell_type": "markdown",
   "source": [
    "# Questão 2\n",
    "\n",
    "Para o segundo exercício, você deve criar um programa que realize uma cópia do arquivo \"alunos.csv\". Essa cópia deve ser um arquivo chamado \"alunos_copia.csv\".\n",
    "\n",
    "Novamente, aqui você também não precisa utilizar a biblioteca CSV mas se usar, seu código pode ser reutilizado na próxima questão sem muitas modificações."
   ],
   "metadata": {}
  },
  {
   "cell_type": "code",
   "execution_count": null,
   "source": [
    "import csv\n",
    "\n",
    "with open('../doc/alunos.csv', newline='') as reader_file, open('../doc/alunos_copia.csv', 'w', newline='') as writer_file:\n",
    "    reader = csv.reader(reader_file, delimiter=',')\n",
    "    writer = csv.writer(writer_file, delimiter=',')\n",
    "    for row in reader:\n",
    "        writer.writerow(row)"
   ],
   "outputs": [],
   "metadata": {}
  },
  {
   "cell_type": "markdown",
   "source": [
    "# Questão 3\n",
    "\n",
    "Faça um programa que imprima os elementos da coluna ‘Nome’ do arquivo alunos.csv."
   ],
   "metadata": {}
  },
  {
   "cell_type": "code",
   "execution_count": null,
   "source": [
    "import csv\n",
    "\n",
    "with open('../doc/alunos.csv', newline='') as csvfile:\n",
    "    reader = csv.reader(csvfile, delimiter=',')\n",
    "    for row in reader:\n",
    "        print(row[1])"
   ],
   "outputs": [],
   "metadata": {}
  },
  {
   "cell_type": "markdown",
   "source": [
    "# Questão 4\n",
    "\n",
    "Finalmente chegamos ao último exercício dessa sequência relacionada à manipulação de arquivos.\n",
    "\n",
    "Neste exercício você deve criar um novo arquivo chamado \"alunos_media.csv\". Esse novo arquivo é uma cópia de \"alunos.csv\" porém com uma coluna a mais chamada \"Média\" que vai abrigar os valores das médias das provas de cada aluno da lista.\n",
    "\n",
    "Se você utilizou a biblioteca CSV para realizar os dois primeiros exercícios, muito será reaproveitado aqui. A biblioteca CSV permite a interpretação de cada linha como listas, que são fáceis de manipular."
   ],
   "metadata": {}
  },
  {
   "cell_type": "code",
   "execution_count": null,
   "source": [
    "import csv\n",
    "\n",
    "with open('../doc/alunos.csv', newline='') as reader_file, open('../doc/alunos_media.csv', 'w', newline='') as writer_file:\n",
    "    reader = csv.reader(reader_file, delimiter=',')\n",
    "\n",
    "    writer = csv.writer(writer_file, delimiter=',')\n",
    "\n",
    "    for row in reader:\n",
    "        if row[0] == 'RA':\n",
    "            row.append('Média')\n",
    "        else:\n",
    "            tests = [float(test) for test in row[3:7]]\n",
    "\n",
    "            average = sum(tests) / 4\n",
    "\n",
    "            row.append(average)\n",
    "\n",
    "        writer.writerow(row)"
   ],
   "outputs": [],
   "metadata": {}
  },
  {
   "cell_type": "markdown",
   "source": [
    "# Questão 5\n",
    "\n",
    "Faça um programa que imprima o nome e a média de cada um dos alunos do arquivo alunos.csv."
   ],
   "metadata": {}
  },
  {
   "cell_type": "code",
   "execution_count": null,
   "source": [
    "import csv\n",
    "\n",
    "with open('../doc/alunos.csv', newline='') as reader_file:\n",
    "    reader = csv.reader(reader_file, delimiter=',')\n",
    "\n",
    "    for row in reader:\n",
    "        if row[0] != 'RA':\n",
    "            tests = [float(test) for test in row[3:7]]\n",
    "\n",
    "            average = sum(tests) / 4\n",
    "\n",
    "            print(f'{row[1]}: {average}')"
   ],
   "outputs": [],
   "metadata": {}
  },
  {
   "cell_type": "markdown",
   "source": [
    "# Questão 6\n",
    "\n",
    "Faça um programa que crie um arquivo media.csv e guarde o RA (registro do aluno) junto com a respectiva média de cada um dos alunos no arquivo alunos.csv."
   ],
   "metadata": {}
  },
  {
   "cell_type": "code",
   "execution_count": null,
   "source": [
    "import csv\n",
    "\n",
    "with open('../doc/alunos.csv', newline='') as reader_file, open('../doc/media.csv', 'w', newline='') as writer_file:\n",
    "    reader = csv.reader(reader_file, delimiter=',')\n",
    "\n",
    "    writer = csv.writer(writer_file, delimiter=',')\n",
    "\n",
    "    for row in reader:\n",
    "        if row[0] == 'RA':\n",
    "            row.append('Média')\n",
    "        else:\n",
    "            tests = [float(test) for test in row[3:7]]\n",
    "\n",
    "            average = sum(tests) / 4\n",
    "\n",
    "            row.append(average)\n",
    "\n",
    "        writer.writerow([row[0], row[7]])"
   ],
   "outputs": [],
   "metadata": {}
  }
 ],
 "metadata": {
  "orig_nbformat": 4,
  "language_info": {
   "name": "python",
   "version": "3.8.10",
   "mimetype": "text/x-python",
   "codemirror_mode": {
    "name": "ipython",
    "version": 3
   },
   "pygments_lexer": "ipython3",
   "nbconvert_exporter": "python",
   "file_extension": ".py"
  },
  "kernelspec": {
   "name": "python3",
   "display_name": "Python 3.8.10 64-bit"
  },
  "interpreter": {
   "hash": "916dbcbb3f70747c44a77c7bcd40155683ae19c65e1c03b4aa3499c5328201f1"
  }
 },
 "nbformat": 4,
 "nbformat_minor": 2
}