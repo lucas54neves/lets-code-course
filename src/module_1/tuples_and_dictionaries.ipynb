{
 "cells": [
  {
   "cell_type": "markdown",
   "source": [
    "# Questão 1\n",
    "\n",
    "Crie uma tupla com todos os números de 0 a 9. Explore a sintaxe: use e depois não use parênteses."
   ],
   "metadata": {}
  },
  {
   "cell_type": "code",
   "execution_count": null,
   "source": [
    "tuple_1 = (0, 1, 2, 3, 4, 5, 6, 7, 8, 9)\n",
    "\n",
    "tuple_2 = 0, 1, 2, 3, 4, 5, 6, 7, 8, 9\n",
    "\n",
    "print(tuple_1)\n",
    "\n",
    "print(tuple_2)"
   ],
   "outputs": [],
   "metadata": {}
  },
  {
   "cell_type": "markdown",
   "source": [
    "# Questão 2\n",
    "\n",
    "Crie uma função que recebe uma lista de números e devolve, nesta ordem, o mínimo, a média, o desvio padrão e o máximo.\n",
    "\n",
    "Dica: Use a biblioteca statistics (import statistics) para calcular o desvio padrão: desvio = statistics.stdev(lista)"
   ],
   "metadata": {}
  },
  {
   "cell_type": "code",
   "execution_count": null,
   "source": [
    "import statistics\n",
    "import numpy as np\n",
    "\n",
    "elements = np.random.randint(1, 100, size=30)\n",
    "\n",
    "print(f'Minimo: {elements.min()}')\n",
    "print(f'Media: {elements.mean()}')\n",
    "print(f'Desvio padrao: {elements.std()}')\n",
    "print(f'Maximo: {elements.max()}')"
   ],
   "outputs": [],
   "metadata": {}
  },
  {
   "cell_type": "markdown",
   "source": [
    "# Questão 3\n",
    "\n",
    "Crie uma função que recebe uma lista e retorna True se todos os seus elementos forem numéricos (int, float ou string contendo um int ou float) ou False do contrário. A função deve também retornar a lista tratada: transformar todas as entradas não numéricas em numéricas ou, no melhor caso, devolver a lista apenas."
   ],
   "metadata": {}
  },
  {
   "cell_type": "code",
   "execution_count": null,
   "source": [
    "def is_numeric(element):\n",
    "    if isinstance(element, int):\n",
    "        return True, element\n",
    "\n",
    "    if isinstance(element, float):\n",
    "        return True, element\n",
    "    \n",
    "    if isinstance(element, str):\n",
    "        if element.isnumeric:\n",
    "            return True, float(element) if '.' in element else int(element)\n",
    "        \n",
    "        return False, None\n",
    "    \n",
    "    return False, element\n",
    "\n",
    "def run(elements):\n",
    "    formated_list = []\n",
    "\n",
    "    for element in elements:\n",
    "        numerical, element_as_numeral = is_numeric(element)\n",
    "\n",
    "        if not numerical:\n",
    "            return False, []\n",
    "        \n",
    "        formated_list.append(element_as_numeral)\n",
    "    \n",
    "    return True, formated_list\n",
    "\n",
    "elements = [1, 3, '5.8', '123']\n",
    "\n",
    "print(run(elements))"
   ],
   "outputs": [],
   "metadata": {}
  },
  {
   "cell_type": "markdown",
   "source": [
    "# Questão 4\n",
    "\n",
    "Faça uma função que recebe valores a, b e c, resolve a equação quadrática a*x**2 + b*x + c = 0 e retorna:\n",
    "\n",
    "a. o valor de Δ onde Δ = b**2- 4*a*c\n",
    "\n",
    "b. uma tupla com o valor do ponto de mínimo ou máximo: x_m = -b/(2*a) e y_m = -Δ/(4*a);\n",
    "\n",
    "c. uma lista contendo as raízes (a lista pode ser vazia, caso Δ<0; pode conter apenas um elemento, caso Δ = 0; ou conter duas raízes, caso Δ> 0)."
   ],
   "metadata": {}
  },
  {
   "cell_type": "code",
   "execution_count": null,
   "source": [
    "def quadratic_function(a, b, c):\n",
    "    delta =  b ** 2 - 4 * a * c\n",
    "\n",
    "    x_m = - b / (2 * a)\n",
    "\n",
    "    y_m = - delta / (4 * a)\n",
    "\n",
    "    if delta == 0:\n",
    "        roots = [x_m]\n",
    "    elif delta < 0:\n",
    "        roots = []\n",
    "    else:\n",
    "        # delta > 0\n",
    "        roots = [(- b + delta) / (2 * a), (- b - delta) / (2 * a)]\n",
    "\n",
    "    return delta, (x_m, y_m), sorted(roots)\n",
    "\n",
    "print(quadratic_function(1, -5, 6))   "
   ],
   "outputs": [],
   "metadata": {}
  },
  {
   "cell_type": "markdown",
   "source": [
    "# Questão 5\n",
    "\n",
    "Crie um dicionário cujas chaves são os meses do ano e os valores são a duração (em dias) de cada mês."
   ],
   "metadata": {}
  },
  {
   "cell_type": "code",
   "execution_count": null,
   "source": [
    "the_dict = {\n",
    "    'janeiro': 31,\n",
    "    'fevereiro': 28,\n",
    "    'marco': 31,\n",
    "    'abril': 30,\n",
    "    'maio': 31,\n",
    "    'junho': 30,\n",
    "    'julho': 31,\n",
    "    'agosto': 31,\n",
    "    'setembro': 30,\n",
    "    'outubro': 31,\n",
    "    'novembro': 30,\n",
    "    'dezembro': 31\n",
    "}\n",
    "\n",
    "print(the_dict)"
   ],
   "outputs": [],
   "metadata": {}
  },
  {
   "cell_type": "markdown",
   "source": [
    "# Questão 6\n",
    "\n",
    "Imprima as chaves seguidas dos seus valores para dicionário criado no exercício anterior."
   ],
   "metadata": {}
  },
  {
   "cell_type": "code",
   "execution_count": null,
   "source": [
    "the_dict = {\n",
    "    'janeiro': 31,\n",
    "    'fevereiro': 28,\n",
    "    'marco': 31,\n",
    "    'abril': 30,\n",
    "    'maio': 31,\n",
    "    'junho': 30,\n",
    "    'julho': 31,\n",
    "    'agosto': 31,\n",
    "    'setembro': 30,\n",
    "    'outubro': 31,\n",
    "    'novembro': 30,\n",
    "    'dezembro': 31\n",
    "}\n",
    "\n",
    "for key, value in the_dict.items():\n",
    "    print(f'{key} - {str(value)}')"
   ],
   "outputs": [],
   "metadata": {}
  },
  {
   "cell_type": "markdown",
   "source": [
    "# Questão 7\n",
    "\n",
    "Crie um dicionário para as seguintes relações:\n",
    "\n",
    "```\n",
    "‘Banana’: 3.0\n",
    "\n",
    "‘Cebola’: 4.0\n",
    "\n",
    "‘Maçã’: 5.7\n",
    "\n",
    "‘Abacaxi’: 8.0\n",
    "```"
   ],
   "metadata": {}
  },
  {
   "cell_type": "code",
   "execution_count": null,
   "source": [
    "the_dict = {\n",
    "    'Banana': 3.0,\n",
    "    'Cebola': 4.0,\n",
    "    'Maçã': 5.7,\n",
    "    'Abacaxi': 8.0\n",
    "}\n",
    "\n",
    "print(the_dict)"
   ],
   "outputs": [],
   "metadata": {}
  },
  {
   "cell_type": "markdown",
   "source": [
    "# Questão 8\n",
    "\n",
    "Altere o valor da chave ‘Maçã’ no dicionário do exercício anterior para 8.6."
   ],
   "metadata": {}
  },
  {
   "cell_type": "code",
   "execution_count": null,
   "source": [
    "the_dict = {\n",
    "    'Banana': 3.0,\n",
    "    'Cebola': 4.0,\n",
    "    'Maçã': 5.7,\n",
    "    'Abacaxi': 8.0\n",
    "}\n",
    "\n",
    "the_dict['Maçã'] = 8.6\n",
    "\n",
    "print(the_dict)"
   ],
   "outputs": [],
   "metadata": {}
  },
  {
   "cell_type": "markdown",
   "source": [
    "# Questão 9\n",
    "\n",
    "Crie uma função que receba os valores do nome, idade e e-mail de uma pessoa e guarde-os em um dicionário com as chaves ‘nome’, ‘idade’ e ‘email’, respectivamente. Sua função deve retornar esse dicionário."
   ],
   "metadata": {}
  },
  {
   "cell_type": "code",
   "execution_count": null,
   "source": [
    "def run(name, age, email):\n",
    "    return {\n",
    "        'name': name,\n",
    "        'age': age,\n",
    "        'email': email\n",
    "    }\n",
    "\n",
    "print(run('Lucas', 26, 'mail@mail.com'))"
   ],
   "outputs": [],
   "metadata": {}
  },
  {
   "cell_type": "markdown",
   "source": [
    "# Questão 10\n",
    "\n",
    "Como você armazenaria a seguinte tabela usando apenas dicionários? Tente imprimir o valor correspondente da linha Pedro x Coluna B.\n",
    "\n",
    "| Coluna A | Coluna B |\n",
    "| -------- | -------- |\n",
    "| Maria | 1 | 5 |\n",
    "| Pedro | 0.5 | 3 |\n",
    "| João | 3.2 | 1 |"
   ],
   "metadata": {}
  },
  {
   "cell_type": "code",
   "execution_count": null,
   "source": [
    "the_dict = {\n",
    "    'Maria': 1,\n",
    "    'Pedro': 0.5,\n",
    "    'João': 3.2\n",
    "}\n",
    "\n",
    "print(the_dict['Pedro'])"
   ],
   "outputs": [],
   "metadata": {}
  },
  {
   "cell_type": "markdown",
   "source": [
    "# Questão 11\n",
    "\n",
    "Faça uma função que receba uma lista e conte quantas vezes cada elemento apareceu nessa lista. Essa função deverá guardar os dados em um dicionário no qual as chaves são os elementos da lista e os valores são a contagem de quantas vezes esse elemento aparece."
   ],
   "metadata": {}
  },
  {
   "cell_type": "code",
   "execution_count": null,
   "source": [
    "def run(the_list):\n",
    "    the_dict = {}\n",
    "\n",
    "    for element in the_list:\n",
    "        if the_dict.get(element):\n",
    "            the_dict[element] += 1\n",
    "        else:\n",
    "            the_dict[element] = 1\n",
    "    \n",
    "    print(the_dict)\n",
    "\n",
    "run([1, 2, 3, 4, 1, 2, 3])"
   ],
   "outputs": [],
   "metadata": {}
  },
  {
   "cell_type": "markdown",
   "source": [
    "# Questão 12\n",
    "\n",
    "Faça um programa que fique pedindo uma resposta do usuário, entre 1, 2 e 3. Se o usuário digitar 1, o programa deve cadastrar um novo usuário nos moldes do exercício 10 e guardar esse cadastro num dicionário cuja chave será o CPF da pessoa. Quando o usuário digitar 2, o programa deve imprimir os usuários cadastrados; e se o usuário digitar 3, o programa deve fechar.\n",
    "\n",
    "Exemplo do dicionário:\n",
    "\n",
    "```\n",
    "‘987.654.321-00’: {‘nome’: Maria, ‘idade’: 20, ‘email’: maria@mail.com}\n",
    "```"
   ],
   "metadata": {}
  },
  {
   "cell_type": "code",
   "execution_count": null,
   "source": [
    "def run():\n",
    "    print('[1] - Adicionar usuario')\n",
    "    print('[2] - Exibir usuarios')\n",
    "    print('[3] - Sair')\n",
    "\n",
    "    option = int(input('Entre com a opcao: '))\n",
    "\n",
    "    the_dict = {}\n",
    "\n",
    "    while option != 3:\n",
    "        if option == 1:\n",
    "            taxpayer_id = input('Entre com o CPF: ')\n",
    "\n",
    "            name = input('Entre com a nome: ')\n",
    "            \n",
    "            age = input('Entre com a idade: ')\n",
    "\n",
    "            email = input('Entre com a email: ')\n",
    "\n",
    "            if not the_dict.get(taxpayer_id):\n",
    "                the_dict[taxpayer_id] = {\n",
    "                    'noasdasme': name,\n",
    "                    'idade': age,\n",
    "                    'email': email,\n",
    "                }\n",
    "            else:\n",
    "                print('Usuario ja cadastrado com esse CPF')\n",
    "\n",
    "        elif option == 2:\n",
    "            print(the_dict)\n",
    "\n",
    "        option = int(input('Entre com a opcao: '))\n",
    "\n",
    "run()"
   ],
   "outputs": [],
   "metadata": {}
  },
  {
   "cell_type": "markdown",
   "source": [
    "# Questão 13\n",
    "\n",
    "Implemente um sistema de busca para o programa do exercício anterior. Isto é, se o usuário digitar 4, procure um determinado usuário pelo seu CPF."
   ],
   "metadata": {}
  },
  {
   "cell_type": "code",
   "execution_count": null,
   "source": [
    "def run():\n",
    "    print('[1] - Adicionar usuario')\n",
    "    print('[2] - Exibir usuarios')\n",
    "    print('[3] - Sair')\n",
    "    print('[4] - Buscar por CPF')\n",
    "\n",
    "    option = int(input('Entre com a opcao: '))\n",
    "\n",
    "    the_dict = {}\n",
    "\n",
    "    while option != 3:\n",
    "        if option == 1:\n",
    "            taxpayer_id = input('Entre com o CPF: ')\n",
    "\n",
    "            name = input('Entre com a nome: ')\n",
    "            \n",
    "            age = input('Entre com a idade: ')\n",
    "\n",
    "            email = input('Entre com a email: ')\n",
    "\n",
    "            if not the_dict.get(taxpayer_id):\n",
    "                the_dict[taxpayer_id] = {\n",
    "                    'noasdasme': name,\n",
    "                    'idade': age,\n",
    "                    'email': email,\n",
    "                }\n",
    "            else:\n",
    "                print('Usuario ja cadastrado com esse CPF')\n",
    "\n",
    "        elif option == 2:\n",
    "            print(the_dict)\n",
    "\n",
    "        elif option == 4:\n",
    "            taxpayer_id = input('Entre com o CPF: ')\n",
    "\n",
    "            if the_dict.get(taxpayer_id):\n",
    "                print(the_dict[taxpayer_id])\n",
    "            else:\n",
    "                print('Usuario nao cadastrado com esse CPF')\n",
    "\n",
    "        option = int(input('Entre com a opcao: '))\n",
    "\n",
    "run()"
   ],
   "outputs": [],
   "metadata": {}
  },
  {
   "cell_type": "markdown",
   "source": [
    "# Questão 14\n",
    "\n",
    "Faça o análogo do exercício 12 para strings: conte quantas vezes cada caracter apareceu nessa string e retorne um dicionário com essa contagem."
   ],
   "metadata": {}
  },
  {
   "cell_type": "code",
   "execution_count": null,
   "source": [
    "def run(the_list):\n",
    "    the_dict = {}\n",
    "\n",
    "    for element in the_list:\n",
    "        if the_dict.get(element):\n",
    "            the_dict[element] += 1\n",
    "        else:\n",
    "            the_dict[element] = 1\n",
    "    \n",
    "    print(the_dict)\n",
    "\n",
    "run('alguma coisa blabla')"
   ],
   "outputs": [],
   "metadata": {}
  }
 ],
 "metadata": {
  "orig_nbformat": 4,
  "language_info": {
   "name": "python",
   "version": "3.8.10",
   "mimetype": "text/x-python",
   "codemirror_mode": {
    "name": "ipython",
    "version": 3
   },
   "pygments_lexer": "ipython3",
   "nbconvert_exporter": "python",
   "file_extension": ".py"
  },
  "kernelspec": {
   "name": "python3",
   "display_name": "Python 3.8.10 64-bit"
  },
  "interpreter": {
   "hash": "916dbcbb3f70747c44a77c7bcd40155683ae19c65e1c03b4aa3499c5328201f1"
  }
 },
 "nbformat": 4,
 "nbformat_minor": 2
}