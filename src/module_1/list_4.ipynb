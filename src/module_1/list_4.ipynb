{
 "cells": [
  {
   "cell_type": "markdown",
   "metadata": {
    "id": "qYNSh7kf49H2"
   },
   "source": [
    "# Questão 1\n",
    "Crie uma lista qualquer e faça um programa que imprima cada elemento da lista usando o for."
   ]
  },
  {
   "cell_type": "code",
   "execution_count": null,
   "metadata": {
    "colab": {
     "base_uri": "https://localhost:8080/"
    },
    "id": "wEJRZglu42EB",
    "outputId": "9fdac785-b6fe-431e-ba3c-8477ce4573b4"
   },
   "outputs": [
    {
     "name": "stdout",
     "output_type": "stream",
     "text": [
      "Entre com algum dado: [-1 para sair]algo\n",
      "Entre com algum dado: [-1 para sair]t1\n",
      "Entre com algum dado: [-1 para sair]2\n",
      "Entre com algum dado: [-1 para sair]1\n",
      "Entre com algum dado: [-1 para sair]-1\n",
      "algo\n",
      "t1\n",
      "2\n",
      "1\n"
     ]
    }
   ],
   "source": [
    "some_list = []\n",
    "\n",
    "some_data = input(\"Entre com algum dado: [-1 para sair] \")\n",
    "\n",
    "while not some_data == '-1':\n",
    "  some_list.append(some_data)\n",
    "\n",
    "  some_data = input(\"Entre com algum dado: [-1 para sair] \")\n",
    "\n",
    "for element in some_list:\n",
    "  print(element)"
   ]
  },
  {
   "cell_type": "markdown",
   "metadata": {
    "id": "wz_H3h705yu9"
   },
   "source": [
    "# Questão 2\n",
    "Faça um programa que peça para o usuário digitar um número n e imprima uma lista com todos os números de 0 a n-1.\n",
    "\n",
    "Exemplo: se o usuário digitar 5, o programa deve imprimir [0, 1, 2, 3, 4]"
   ]
  },
  {
   "cell_type": "code",
   "execution_count": null,
   "metadata": {
    "colab": {
     "base_uri": "https://localhost:8080/"
    },
    "id": "GoPVmAmP51qJ",
    "outputId": "510c7e31-f807-48d7-f9f3-d63e39afc64b"
   },
   "outputs": [
    {
     "name": "stdout",
     "output_type": "stream",
     "text": [
      "Entre com o numero inteiro n: 54\n",
      "[0, 1, 2, 3, 4, 5, 6, 7, 8, 9, 10, 11, 12, 13, 14, 15, 16, 17, 18, 19, 20, 21, 22, 23, 24, 25, 26, 27, 28, 29, 30, 31, 32, 33, 34, 35, 36, 37, 38, 39, 40, 41, 42, 43, 44, 45, 46, 47, 48, 49, 50, 51, 52, 53]\n"
     ]
    }
   ],
   "source": [
    "number = int(input('Entre com o numero inteiro n: '))\n",
    "\n",
    "list_of_numbers = [element for element in range(number)]\n",
    "\n",
    "print(list_of_numbers)"
   ]
  },
  {
   "cell_type": "markdown",
   "metadata": {
    "id": "r6xA-rXP7PNK"
   },
   "source": [
    "# Questão 3\n",
    "Faça um programa que olhe todos os itens de uma lista e diga quantos deles são pares."
   ]
  },
  {
   "cell_type": "code",
   "execution_count": null,
   "metadata": {
    "colab": {
     "base_uri": "https://localhost:8080/"
    },
    "id": "xfm31HbO7S8B",
    "outputId": "4e90a86c-9915-4f91-caa2-537f735cb04b"
   },
   "outputs": [
    {
     "name": "stdout",
     "output_type": "stream",
     "text": [
      "Ente com um numero inteiro: [0 para sair] 2\n",
      "Ente com um numero inteiro: [0 para sair] 1\n",
      "Ente com um numero inteiro: [0 para sair] -9\n",
      "Ente com um numero inteiro: [0 para sair] 2\n",
      "Ente com um numero inteiro: [0 para sair] 4\n",
      "Ente com um numero inteiro: [0 para sair] 66\n",
      "Ente com um numero inteiro: [0 para sair] 45\n",
      "Ente com um numero inteiro: [0 para sair] 67\n",
      "Ente com um numero inteiro: [0 para sair] 0\n",
      "[2, 2, 4, 66]\n"
     ]
    }
   ],
   "source": [
    "number = int(input('Ente com um numero inteiro: [0 para sair] '))\n",
    "\n",
    "numbers = []\n",
    "\n",
    "while not number == 0:\n",
    "  numbers.append(number)\n",
    "\n",
    "  number = int(input('Ente com um numero inteiro: [0 para sair] '))\n",
    "\n",
    "list_of_pairs = [element for element in numbers if element % 2 == 0]\n",
    "\n",
    "print(list_of_pairs)"
   ]
  },
  {
   "cell_type": "markdown",
   "metadata": {
    "id": "FGGkqFgw8CMG"
   },
   "source": [
    "# Questão 4\n",
    "Faça um programa que imprima o maior número de uma lista, sem usar o método max()."
   ]
  },
  {
   "cell_type": "code",
   "execution_count": null,
   "metadata": {
    "colab": {
     "base_uri": "https://localhost:8080/"
    },
    "id": "qj8U9V-X8Fvm",
    "outputId": "a2ebecc5-2fa1-429a-e4d1-a8359c907536"
   },
   "outputs": [
    {
     "name": "stdout",
     "output_type": "stream",
     "text": [
      "Entre com um numero inteiro: [0 para sair]5\n",
      "Entre com um numero inteiro: [0 para sair]7\n",
      "Entre com um numero inteiro: [0 para sair]-9\n",
      "Entre com um numero inteiro: [0 para sair]5\n",
      "Entre com um numero inteiro: [0 para sair]9\n",
      "Entre com um numero inteiro: [0 para sair]11\n",
      "Entre com um numero inteiro: [0 para sair]10\n",
      "Entre com um numero inteiro: [0 para sair]8\n",
      "Entre com um numero inteiro: [0 para sair]10\n",
      "Entre com um numero inteiro: [0 para sair]0\n",
      "11\n"
     ]
    }
   ],
   "source": [
    "number = -1\n",
    "\n",
    "numbers = []\n",
    "\n",
    "while not number == 0:\n",
    "  number = int(input('Entre com um numero inteiro: [0 para sair]'))\n",
    "\n",
    "  numbers.append(number)\n",
    "\n",
    "highter = numbers[0]\n",
    "\n",
    "for number in numbers:\n",
    "  if highter < number:\n",
    "    highter = number\n",
    "\n",
    "print(highter)"
   ]
  },
  {
   "cell_type": "markdown",
   "metadata": {
    "id": "HlYv5z1uDruY"
   },
   "source": [
    "# Questão 5\n",
    "Agora usando o método max() faça um programa que imprima os três maiores números de uma lista.\n",
    "\n",
    "Dica: Use o método próprio de listas .remove()."
   ]
  },
  {
   "cell_type": "code",
   "execution_count": null,
   "metadata": {
    "colab": {
     "base_uri": "https://localhost:8080/"
    },
    "id": "APZhxmUZDvFI",
    "outputId": "72096cdd-379f-46df-cc49-f4bf75ac7e30"
   },
   "outputs": [
    {
     "name": "stdout",
     "output_type": "stream",
     "text": [
      "Entre com um inteiro [0 para sair]: 9\n",
      "Entre com um inteiro [0 para sair]: 4\n",
      "Entre com um inteiro [0 para sair]: 5\n",
      "Entre com um inteiro [0 para sair]: 7\n",
      "Entre com um inteiro [0 para sair]: 8\n",
      "Entre com um inteiro [0 para sair]: -9\n",
      "Entre com um inteiro [0 para sair]: -8\n",
      "Entre com um inteiro [0 para sair]: -1\n",
      "Entre com um inteiro [0 para sair]: 5\n",
      "Entre com um inteiro [0 para sair]: 1\n",
      "Entre com um inteiro [0 para sair]: 2\n",
      "Entre com um inteiro [0 para sair]: 9\n",
      "Entre com um inteiro [0 para sair]: 0\n",
      "[9, 9, 8]\n"
     ]
    }
   ],
   "source": [
    "number = -1\n",
    "\n",
    "numbers = []\n",
    "\n",
    "while not number == 0:\n",
    "  number = int(input('Entre com um inteiro [0 para sair]: '))\n",
    "\n",
    "  numbers.append(number)\n",
    "\n",
    "maximum_numbers = []\n",
    "\n",
    "for i in range(3):\n",
    "  maximum = max(numbers)\n",
    "\n",
    "  maximum_numbers.append(maximum)\n",
    "\n",
    "  numbers.remove(maximum)\n",
    "\n",
    "print(maximum_numbers)"
   ]
  },
  {
   "cell_type": "markdown",
   "metadata": {
    "id": "ofg9NYxOFe9g"
   },
   "source": [
    "# Questão 5\n",
    "Faça um programa que, dadas duas listas de mesmo tamanho, crie uma nova lista com cada elemento igual a soma dos elementos da lista 1 com os da lista 2, na mesma posição.\n",
    "\n",
    "Exemplo: dadas lista1 = [1, 4, 5] e lista2 = [2, 2, 3], então lista3 = [1+2, 4+2, 5+3] = [3, 6, 8]"
   ]
  },
  {
   "cell_type": "code",
   "execution_count": null,
   "metadata": {
    "colab": {
     "base_uri": "https://localhost:8080/"
    },
    "id": "xYdG9En4FjUZ",
    "outputId": "425b5f88-7e62-4539-d707-4853cbb03182"
   },
   "outputs": [
    {
     "name": "stdout",
     "output_type": "stream",
     "text": [
      "Entre com o tamanho das listas: 3\n",
      "Entre com um valor para primeira lista: 1\n",
      "Entre com um valor para primeira lista: 4\n",
      "Entre com um valor para primeira lista: 5\n",
      "Entre com um valor para segunda lista: 2\n",
      "Entre com um valor para segunda lista: 2\n",
      "Entre com um valor para segunda lista: 3\n",
      "[3, 6, 8]\n"
     ]
    }
   ],
   "source": [
    "list_size = int(input('Entre com o tamanho das listas: '))\n",
    "\n",
    "first_list = []\n",
    "\n",
    "second_list = []\n",
    "\n",
    "for i in range(list_size):\n",
    "  number = int(input('Entre com um valor para primeira lista: '))\n",
    "\n",
    "  first_list.append(number)\n",
    "\n",
    "for i in range(list_size):\n",
    "  number = int(input('Entre com um valor para segunda lista: '))\n",
    "\n",
    "  second_list.append(number)\n",
    "\n",
    "final_list = []\n",
    "\n",
    "for i in range(list_size):\n",
    "  final_list.append(first_list[i] + second_list[i])\n",
    "\n",
    "print(final_list)"
   ]
  },
  {
   "cell_type": "markdown",
   "metadata": {
    "id": "X2g1oGNxQXrp"
   },
   "source": [
    "# Questão 7\n",
    "Faça um programa que dadas duas listas de mesmo tamanho, imprima o produto escalar entre elas.\n",
    "\n",
    "OBS: produto escalar é a soma do resultado da multiplicação entre o número na posição i da lista1 pelo número na posição i da lista2, com i variando de 0 ao tamanho da lista."
   ]
  },
  {
   "cell_type": "code",
   "execution_count": 1,
   "metadata": {
    "id": "sCAY-SIvQbEA"
   },
   "outputs": [
    {
     "name": "stdin",
     "output_type": "stream",
     "text": [
      "Entre com o tamanho das listas:  4\n",
      "Entre com um valor para a primeira lista:  5\n",
      "Entre com um valor para a primeira lista:  9\n",
      "Entre com um valor para a primeira lista:  7\n",
      "Entre com um valor para a primeira lista:  5\n",
      "Entre com um valor para a segunda lista:  2\n",
      "Entre com um valor para a segunda lista:  4\n",
      "Entre com um valor para a segunda lista:  9\n",
      "Entre com um valor para a segunda lista:  6\n"
     ]
    },
    {
     "name": "stdout",
     "output_type": "stream",
     "text": [
      "Produto escalar: 546\n"
     ]
    }
   ],
   "source": [
    "list_size = int(input('Entre com o tamanho das listas: '))\n",
    "\n",
    "first_list = []\n",
    "\n",
    "second_list = []\n",
    "\n",
    "while len(first_list) < list_size:\n",
    "  number = int(input('Entre com um valor para a primeira lista: '))\n",
    "\n",
    "  first_list.append(number)\n",
    "\n",
    "while len(second_list) < list_size:\n",
    "  number = int(input('Entre com um valor para a segunda lista: '))\n",
    "\n",
    "  second_list.append(number)\n",
    "\n",
    "product = 0\n",
    "\n",
    "for first_number in first_list:\n",
    "  for second_number in second_list:\n",
    "    product += first_number * second_number\n",
    "\n",
    "print('Produto escalar: {}'.format(product))"
   ]
  },
  {
   "cell_type": "markdown",
   "metadata": {},
   "source": [
    "# Questão 8\n",
    "\n",
    "Faça um programa que pede para o usuário digitar 5 números e, ao final, imprime uma lista com os 5 números digitados pelo usuário (sem converter os números para int ou float).\n",
    "\n",
    "Exemplo: Se o usuário digitar 1, 5, 2, 3, 6, o programa deve imprimir a lista ['1','5','2','3','6']"
   ]
  },
  {
   "cell_type": "code",
   "execution_count": 2,
   "metadata": {},
   "outputs": [
    {
     "name": "stdin",
     "output_type": "stream",
     "text": [
      "Entre com o número:  3\n",
      "Entre com o número:  5\n",
      "Entre com o número:  7\n",
      "Entre com o número:  8\n",
      "Entre com o número:  456\n"
     ]
    },
    {
     "name": "stdout",
     "output_type": "stream",
     "text": [
      "['3', '5', '7', '8', '456']\n"
     ]
    }
   ],
   "source": [
    "numbers = []\n",
    "\n",
    "while len(numbers) < 5:\n",
    "    number = input('Entre com o número: ')\n",
    "    \n",
    "    numbers.append(number)\n",
    "\n",
    "print(numbers)"
   ]
  },
  {
   "cell_type": "markdown",
   "metadata": {},
   "source": [
    "# Questão 9\n",
    "\n",
    "Pegue a lista gerada no exercício anterior e transforme cada um dos itens dessa lista em um float.\n",
    "\n",
    "OBS: Não é para alterar o programa anterior, mas sim a lista gerada por ele."
   ]
  },
  {
   "cell_type": "code",
   "execution_count": null,
   "metadata": {},
   "outputs": [],
   "source": [
    "numbers = []\n",
    "\n",
    "while len(numbers) < 5:\n",
    "    number = input('Entre com o número: ')\n",
    "    \n",
    "    numbers.append(number)\n",
    "\n",
    "print([float(number) for number in numbers])"
   ]
  },
  {
   "cell_type": "markdown",
   "metadata": {},
   "source": [
    "# Questão 10\n",
    "\n",
    "Faça um Programa que peça as 4 notas bimestrais e mostre a média aritmética delas, usando listas."
   ]
  },
  {
   "cell_type": "code",
   "execution_count": 17,
   "metadata": {},
   "outputs": [
    {
     "name": "stdin",
     "output_type": "stream",
     "text": [
      "Entre com a nota:  8\n",
      "Entre com a nota:  9.6\n",
      "Entre com a nota:  5\n",
      "Entre com a nota:  1\n"
     ]
    },
    {
     "name": "stdout",
     "output_type": "stream",
     "text": [
      "Média das notas: 5.90\n"
     ]
    }
   ],
   "source": [
    "grades = []\n",
    "\n",
    "while len(grades) < 4:\n",
    "    grade = float(input('Entre com a nota: '))\n",
    "    \n",
    "    grades.append(grade)\n",
    "\n",
    "list_sum = 0\n",
    "    \n",
    "for grade in grades:\n",
    "    list_sum += grade\n",
    "\n",
    "average = list_sum / 4\n",
    "\n",
    "print('Média das notas: {:.2f}'.format(average))"
   ]
  },
  {
   "cell_type": "markdown",
   "metadata": {},
   "source": [
    "# Questão 11\n",
    "\n",
    "Sorteie uma lista de 10 números e imprima:\n",
    "\n",
    "    a. uma lista com os 4 primeiros números;\n",
    "\n",
    "    b. uma lista com os 5 últimos números;\n",
    "\n",
    "    c. uma lista contendo apenas os elementos das posições pares;\n",
    "\n",
    "    d. uma lista contendo apenas os elementos das posições ímpares;\n",
    "\n",
    "    e. a lista inversa da lista sorteada (isto é, uma lista que começa com o último elemento da lista sorteada e termina com o primeiro);\n",
    "\n",
    "    f. uma lista inversa dos 5 primeiros números;\n",
    "\n",
    "    g. uma lista inversa dos 5 últimos números."
   ]
  },
  {
   "cell_type": "code",
   "execution_count": 68,
   "metadata": {},
   "outputs": [
    {
     "name": "stdout",
     "output_type": "stream",
     "text": [
      "Quatro primeiros números: [6469434, 2582660, 6408296, 6211875]\n",
      "Quatro primeiros números: [8440679, 2860887, 4730130, 8917861, 4160965]\n",
      "Elementos das posições pares: [6469434, 6408296, 6965439, 2860887, 8917861]\n",
      "Elementos das posições ímpares: [2582660, 6211875, 8440679, 4730130, 4160965]\n",
      "Lista reversa: [4160965, 8917861, 4730130, 2860887, 8440679, 6965439, 6211875, 6408296, 2582660, 6469434]\n",
      "Cinco primeiros da lista reversa: [4160965, 8917861, 4730130, 2860887, 8440679]\n",
      "Cinco últimos da lista reversa: [6965439, 6211875, 6408296, 2582660, 6469434]\n"
     ]
    }
   ],
   "source": [
    "from random import random\n",
    "\n",
    "def random_number():\n",
    "    return int(random() * 10000000)\n",
    "\n",
    "numbers = []\n",
    "\n",
    "while len(numbers) < 10:\n",
    "    numbers.append(random_number())\n",
    "\n",
    "print('Quatro primeiros números: {}'.format(numbers[0:4]))\n",
    "\n",
    "print('Quatro primeiros números: {}'.format(numbers[5:10]))\n",
    "\n",
    "numbers_in_even_positions = []\n",
    "\n",
    "numbers_in_odd_positions = []\n",
    "\n",
    "for position in range(len(numbers)):\n",
    "    if position % 2 == 0:\n",
    "        numbers_in_even_positions.append(numbers[position])\n",
    "    else:\n",
    "        numbers_in_odd_positions.append(numbers[position])\n",
    "\n",
    "print('Elementos das posições pares: {}'.format(numbers_in_even_positions))\n",
    "\n",
    "print('Elementos das posições ímpares: {}'.format(numbers_in_odd_positions))\n",
    "\n",
    "reverse_list = []\n",
    "\n",
    "count = 9\n",
    "\n",
    "while len(reverse_list) < 10:\n",
    "    reverse_list.append(numbers[count])\n",
    "    \n",
    "    count -= 1\n",
    "\n",
    "print('Lista reversa: {}'.format(reverse_list))\n",
    "\n",
    "print('Cinco primeiros da lista reversa: {}'.format(reverse_list[0:5]))\n",
    "\n",
    "print('Cinco últimos da lista reversa: {}'.format(reverse_list[5:10]))"
   ]
  },
  {
   "cell_type": "markdown",
   "metadata": {},
   "source": [
    "# Questão 12\n",
    "\n",
    "Faça um programa que sorteia 10 números entre 0 e 100 e conte quantos números sorteados são maiores que 50."
   ]
  },
  {
   "cell_type": "code",
   "execution_count": 115,
   "metadata": {},
   "outputs": [
    {
     "name": "stdout",
     "output_type": "stream",
     "text": [
      "4\n"
     ]
    }
   ],
   "source": [
    "from random import randint\n",
    "\n",
    "def random_number():\n",
    "    return randint(0, 100)\n",
    "\n",
    "numbers = []\n",
    "\n",
    "while len(numbers) < 10:\n",
    "    numbers.append(random_number())\n",
    "\n",
    "bigger = [number for number in numbers if number > 50]\n",
    "\n",
    "print(len(bigger))"
   ]
  },
  {
   "cell_type": "markdown",
   "metadata": {},
   "source": [
    "# Questão 13\n",
    "\n",
    "Desafio 1 | Faça um programa que peça para o usuário digitar o nome e a idade de um aluno e o número de provas que esse aluno fez. Depois, o programa deve pedir para o usuário digitar as notas de cada prova do aluno. Ao final o programa deve imprimir uma lista contendo:\n",
    "\n",
    "a. Nome do aluno na posição 0\n",
    "\n",
    "b. Idade do aluno na posição 1\n",
    "\n",
    "c. Uma lista com todas as notas na posição 2\n",
    "\n",
    "d. A média do aluno na posição 3\n",
    "\n",
    "e. True ou False, caso a média seja maior que 5 ou não, na posição 4\n",
    "\n",
    "Dica: Use o que você fez nos exercícios anteriores para criar esse programa."
   ]
  },
  {
   "cell_type": "code",
   "execution_count": 125,
   "metadata": {},
   "outputs": [
    {
     "name": "stdout",
     "output_type": "stream",
     "text": [
      "Entre com os dados do aluno:\n"
     ]
    },
    {
     "ename": "KeyboardInterrupt",
     "evalue": "Interrupted by user",
     "output_type": "error",
     "traceback": [
      "\u001b[0;31m---------------------------------------------------------------------------\u001b[0m",
      "\u001b[0;31mKeyboardInterrupt\u001b[0m                         Traceback (most recent call last)",
      "\u001b[0;32m/tmp/ipykernel_50448/946236852.py\u001b[0m in \u001b[0;36m<module>\u001b[0;34m\u001b[0m\n\u001b[1;32m      6\u001b[0m     \u001b[0mprint\u001b[0m\u001b[0;34m(\u001b[0m\u001b[0;34m'Entre com os dados do aluno:'\u001b[0m\u001b[0;34m)\u001b[0m\u001b[0;34m\u001b[0m\u001b[0;34m\u001b[0m\u001b[0m\n\u001b[1;32m      7\u001b[0m \u001b[0;34m\u001b[0m\u001b[0m\n\u001b[0;32m----> 8\u001b[0;31m     \u001b[0mname\u001b[0m \u001b[0;34m=\u001b[0m \u001b[0minput\u001b[0m\u001b[0;34m(\u001b[0m\u001b[0;34m'Qual o nome do aluno? '\u001b[0m\u001b[0;34m)\u001b[0m\u001b[0;34m\u001b[0m\u001b[0;34m\u001b[0m\u001b[0m\n\u001b[0m\u001b[1;32m      9\u001b[0m \u001b[0;34m\u001b[0m\u001b[0m\n\u001b[1;32m     10\u001b[0m     \u001b[0mage\u001b[0m \u001b[0;34m=\u001b[0m \u001b[0mint\u001b[0m\u001b[0;34m(\u001b[0m\u001b[0minput\u001b[0m\u001b[0;34m(\u001b[0m\u001b[0;34m'Qual a idade do aluno? '\u001b[0m\u001b[0;34m)\u001b[0m\u001b[0;34m)\u001b[0m\u001b[0;34m\u001b[0m\u001b[0;34m\u001b[0m\u001b[0m\n",
      "\u001b[0;32m~/.local/lib/python3.8/site-packages/ipykernel/kernelbase.py\u001b[0m in \u001b[0;36mraw_input\u001b[0;34m(self, prompt)\u001b[0m\n\u001b[1;32m    979\u001b[0m                 \u001b[0;34m\"raw_input was called, but this frontend does not support input requests.\"\u001b[0m\u001b[0;34m\u001b[0m\u001b[0;34m\u001b[0m\u001b[0m\n\u001b[1;32m    980\u001b[0m             )\n\u001b[0;32m--> 981\u001b[0;31m         return self._input_request(\n\u001b[0m\u001b[1;32m    982\u001b[0m             \u001b[0mstr\u001b[0m\u001b[0;34m(\u001b[0m\u001b[0mprompt\u001b[0m\u001b[0;34m)\u001b[0m\u001b[0;34m,\u001b[0m\u001b[0;34m\u001b[0m\u001b[0;34m\u001b[0m\u001b[0m\n\u001b[1;32m    983\u001b[0m             \u001b[0mself\u001b[0m\u001b[0;34m.\u001b[0m\u001b[0m_parent_ident\u001b[0m\u001b[0;34m[\u001b[0m\u001b[0;34m\"shell\"\u001b[0m\u001b[0;34m]\u001b[0m\u001b[0;34m,\u001b[0m\u001b[0;34m\u001b[0m\u001b[0;34m\u001b[0m\u001b[0m\n",
      "\u001b[0;32m~/.local/lib/python3.8/site-packages/ipykernel/kernelbase.py\u001b[0m in \u001b[0;36m_input_request\u001b[0;34m(self, prompt, ident, parent, password)\u001b[0m\n\u001b[1;32m   1024\u001b[0m             \u001b[0;32mexcept\u001b[0m \u001b[0mKeyboardInterrupt\u001b[0m\u001b[0;34m:\u001b[0m\u001b[0;34m\u001b[0m\u001b[0;34m\u001b[0m\u001b[0m\n\u001b[1;32m   1025\u001b[0m                 \u001b[0;31m# re-raise KeyboardInterrupt, to truncate traceback\u001b[0m\u001b[0;34m\u001b[0m\u001b[0;34m\u001b[0m\u001b[0;34m\u001b[0m\u001b[0m\n\u001b[0;32m-> 1026\u001b[0;31m                 \u001b[0;32mraise\u001b[0m \u001b[0mKeyboardInterrupt\u001b[0m\u001b[0;34m(\u001b[0m\u001b[0;34m\"Interrupted by user\"\u001b[0m\u001b[0;34m)\u001b[0m \u001b[0;32mfrom\u001b[0m \u001b[0;32mNone\u001b[0m\u001b[0;34m\u001b[0m\u001b[0;34m\u001b[0m\u001b[0m\n\u001b[0m\u001b[1;32m   1027\u001b[0m             \u001b[0;32mexcept\u001b[0m \u001b[0mException\u001b[0m \u001b[0;32mas\u001b[0m \u001b[0me\u001b[0m\u001b[0;34m:\u001b[0m\u001b[0;34m\u001b[0m\u001b[0;34m\u001b[0m\u001b[0m\n\u001b[1;32m   1028\u001b[0m                 \u001b[0mself\u001b[0m\u001b[0;34m.\u001b[0m\u001b[0mlog\u001b[0m\u001b[0;34m.\u001b[0m\u001b[0mwarning\u001b[0m\u001b[0;34m(\u001b[0m\u001b[0;34m\"Invalid Message:\"\u001b[0m\u001b[0;34m,\u001b[0m \u001b[0mexc_info\u001b[0m\u001b[0;34m=\u001b[0m\u001b[0;32mTrue\u001b[0m\u001b[0;34m)\u001b[0m\u001b[0;34m\u001b[0m\u001b[0;34m\u001b[0m\u001b[0m\n",
      "\u001b[0;31mKeyboardInterrupt\u001b[0m: Interrupted by user"
     ]
    },
    {
     "name": "stdin",
     "output_type": "stream",
     "text": [
      "Qual o nome do aluno?  d\n"
     ]
    }
   ],
   "source": [
    "option = 'nao'\n",
    "\n",
    "students = []\n",
    "\n",
    "while option != 'sim':\n",
    "    print('Entre com os dados do aluno:')\n",
    "    \n",
    "    name = input('Qual o nome do aluno? ')\n",
    "    \n",
    "    age = int(input('Qual a idade do aluno? '))\n",
    "    \n",
    "    amount_of_tests = int(input('Qual a quantidade de provas feitas pelo aluno? '))\n",
    "    \n",
    "    grades = []\n",
    "    \n",
    "    sum_of_grades = 0\n",
    "    \n",
    "    while len(grades) < amount_of_tests:\n",
    "        grade = float(input('Entre com a nota do aluno: '))\n",
    "        \n",
    "        grades.append(grade)\n",
    "        \n",
    "        sum_of_grades += grade\n",
    "    \n",
    "    if len(grades) == 0:\n",
    "        average = 0\n",
    "    else:\n",
    "        average = round(sum_of_grades/len(grades), 2)\n",
    "    \n",
    "    students.append(\n",
    "        [\n",
    "            name,\n",
    "            age,\n",
    "            grades,\n",
    "            average\n",
    "        ]\n",
    "    )\n",
    "    \n",
    "    option = input('Deseja sair? [sim/nao] ')\n",
    "    \n",
    "print('Nome do aluno na posição 0: {}'.format(students[0][0]))\n",
    "\n",
    "print('Idade do aluno na posição 1: {}'.format(students[1][1]))\n",
    "\n",
    "print('Uma lista com todas as notas na posição 2: {}'.format(students[2][2]))\n",
    "\n",
    "print('A média do aluno na posição 3: {}'.format(students[3][3]))\n",
    "\n",
    "print('True ou False, caso a média seja maior que 5 ou não, na posição 4: {}'.format(students[4][3] > 5))"
   ]
  },
  {
   "cell_type": "markdown",
   "metadata": {},
   "source": [
    "# Questão 14\n",
    "\n",
    "Faça um programa como o do item anterior, porém que imprima a média sem considerar a maior e menor nota do aluno (nesse caso o número de provas precisa ser obrigatoriamente maior que dois).\n",
    "\n",
    "Dica: crie uma cópia com a lista de todas as notas antes de fazer a média."
   ]
  },
  {
   "cell_type": "code",
   "execution_count": null,
   "metadata": {},
   "outputs": [],
   "source": [
    "option = 'nao'\n",
    "\n",
    "students = []\n",
    "\n",
    "while option != 'sim':\n",
    "    print('Entre com os dados do aluno:')\n",
    "    \n",
    "    name = input('Qual o nome do aluno? ')\n",
    "    \n",
    "    age = int(input('Qual a idade do aluno? '))\n",
    "    \n",
    "    amount_of_tests = int(input('Qual a quantidade de provas feitas pelo aluno? '))\n",
    "    \n",
    "    while amount_of_tests < 3:\n",
    "        print('Quantidade de provas insuficiente. São necessárias pelo menos duas provas.')\n",
    "    \n",
    "        amount_of_tests = int(input('Qual a quantidade de provas feitas pelo aluno? '))\n",
    "    grades = []\n",
    "    \n",
    "    sum_of_grades = 0\n",
    "    \n",
    "    while len(grades) < amount_of_tests:\n",
    "        grade = float(input('Entre com a nota do aluno: '))\n",
    "        \n",
    "        grades.append(grade)\n",
    "        \n",
    "        if len(grades) > 1 and len(grades) < (amount_of_tests - 1):\n",
    "            sum_of_grades += grade\n",
    "    \n",
    "    if len(grades) == 0:\n",
    "        average = 0\n",
    "    else:\n",
    "        average = round(sum_of_grades/len(grades), 2)\n",
    "    \n",
    "    students.append(\n",
    "        [\n",
    "            name,\n",
    "            age,\n",
    "            grades,\n",
    "            average\n",
    "        ]\n",
    "    )\n",
    "    \n",
    "    option = input('Deseja sair? [sim/nao] ')\n",
    "    \n",
    "print('Nome do aluno na posição 0: {}'.format(students[0][0]))\n",
    "\n",
    "print('Idade do aluno na posição 1: {}'.format(students[1][1]))\n",
    "\n",
    "print('Uma lista com todas as notas na posição 2: {}'.format(students[2][2]))\n",
    "\n",
    "print('A média do aluno na posição 3: {}'.format(students[3][3]))\n",
    "\n",
    "print('True ou False, caso a média seja maior que 5 ou não, na posição 4: {}'.format(students[4][3] > 5))"
   ]
  }
 ],
 "metadata": {
  "colab": {
   "collapsed_sections": [],
   "name": "List 7 - Lists 4.ipynb",
   "provenance": []
  },
  "kernelspec": {
   "display_name": "Python 3 (ipykernel)",
   "language": "python",
   "name": "python3"
  },
  "language_info": {
   "codemirror_mode": {
    "name": "ipython",
    "version": 3
   },
   "file_extension": ".py",
   "mimetype": "text/x-python",
   "name": "python",
   "nbconvert_exporter": "python",
   "pygments_lexer": "ipython3",
   "version": "3.8.10"
  }
 },
 "nbformat": 4,
 "nbformat_minor": 4
}
