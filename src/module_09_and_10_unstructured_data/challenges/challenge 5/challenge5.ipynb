{
 "cells": [
  {
   "cell_type": "markdown",
   "metadata": {},
   "source": [
    "# Implementar os classificadores de rosto, de olho e de sorriso, em três imagens estáticas"
   ]
  },
  {
   "cell_type": "markdown",
   "metadata": {},
   "source": [
    "## Bibliotecas"
   ]
  },
  {
   "cell_type": "code",
   "execution_count": 2,
   "metadata": {},
   "outputs": [],
   "source": [
    "import cv2"
   ]
  },
  {
   "cell_type": "markdown",
   "metadata": {},
   "source": [
    "## Lendo imagens"
   ]
  },
  {
   "cell_type": "code",
   "execution_count": 3,
   "metadata": {},
   "outputs": [],
   "source": [
    "filepaths = [\n",
    "    \"images/ayo-ogunseinde-6W4F62sN_yI-unsplash.jpg\",\n",
    "    \"images/ayo-ogunseinde-sibVwORYqs0-unsplash.jpg\",\n",
    "    \"images/brooke-cagle--uHVRvDr7pg-unsplash.jpg\",\n",
    "    \"images/christopher-burns-pzMP-RGJ7mY-unsplash.jpg\",\n",
    "    \"images/naassom-azevedo-Q_Sei-TqSlc-unsplash.jpg\",\n",
    "    \"images/nicholas-green-nPz8akkUmDI-unsplash.jpg\",\n",
    "]\n",
    "\n",
    "images = []\n",
    "\n",
    "for filepath in filepaths:\n",
    "    image = cv2.imread(filepath)\n",
    "\n",
    "    images.append(image)"
   ]
  },
  {
   "cell_type": "markdown",
   "metadata": {},
   "source": [
    "## Convertendo imagens para cinza"
   ]
  },
  {
   "cell_type": "code",
   "execution_count": 47,
   "metadata": {},
   "outputs": [],
   "source": [
    "gray_images = []\n",
    "\n",
    "for image in images:\n",
    "    gray_image = cv2.cvtColor(image, cv2.COLOR_BGR2GRAY)\n",
    "\n",
    "    gray_images.append(gray_image)"
   ]
  },
  {
   "cell_type": "markdown",
   "metadata": {},
   "source": [
    "## Carregando classificadores"
   ]
  },
  {
   "cell_type": "code",
   "execution_count": 48,
   "metadata": {},
   "outputs": [],
   "source": [
    "face_classifiers = [\n",
    "    cv2.CascadeClassifier('classifiers/haarcascade_frontalface_default.xml'),\n",
    "    cv2.CascadeClassifier('classifiers/haarcascade_frontalface_alt.xml')\n",
    "]\n",
    "haarcascade_frontalface_default = cv2.CascadeClassifier('classifiers/haarcascade_frontalface_default.xml')\n",
    "haarcascade_frontalface_alt = cv2.CascadeClassifier('classifiers/haarcascade_frontalface_alt.xml')\n",
    "eye_class = cv2.CascadeClassifier('classifiers/haarcascade_eye.xml')\n",
    "smile_class = cv2.CascadeClassifier('classifiers/haarcascade_smile.xml')"
   ]
  },
  {
   "cell_type": "markdown",
   "metadata": {},
   "source": [
    "## Aplicando o método de detecção"
   ]
  },
  {
   "cell_type": "code",
   "execution_count": 49,
   "metadata": {},
   "outputs": [],
   "source": [
    "def detect_faces(gray_image):\n",
    "    faces = []\n",
    "\n",
    "    for face_classifier in face_classifiers:\n",
    "        face = face_classifier.detectMultiScale(gray_image, 1.1, 9)\n",
    "        print(len(face), face)\n",
    "        faces = [*faces, *face]\n",
    "\n",
    "    return faces"
   ]
  },
  {
   "cell_type": "code",
   "execution_count": 50,
   "metadata": {},
   "outputs": [
    {
     "name": "stdout",
     "output_type": "stream",
     "text": [
      "1 [[185 359 314 314]]\n",
      "1 [[201 368 291 291]]\n",
      "[array([185, 359, 314, 314], dtype=int32), array([201, 368, 291, 291], dtype=int32)]\n"
     ]
    }
   ],
   "source": [
    "for gray_image, image in zip(gray_images, images):\n",
    "    faces_rect = haarcascade_frontalface_default.detectMultiScale(gray_image, 1.1, 9)\n",
    "\n",
    "    print(detect_faces(gray_image))\n",
    "    for (x, y, w, h) in faces_rect:\n",
    "        # Face com verde\n",
    "        cv2.rectangle(image, (x, y), (x+w, y+h), (0, 255, 0), 2)\n",
    "\n",
    "        face_gray = gray_image[y:y+h, x:x+w]\n",
    "        face_color = image[y:y+h, x:x+w]\n",
    "        \n",
    "        eyes = eye_class.detectMultiScale(face_gray)\n",
    "        for (ex, ey, ew, eh) in eyes:\n",
    "            # Olhos com azul\n",
    "            cv2.rectangle(face_color,(ex, ey), (ex+ew, ey+eh),(255, 0, 0), 2)\n",
    "        \n",
    "        smile = smile_class.detectMultiScale(face_gray)\n",
    "        for (sx, sy, sw, sh) in smile:\n",
    "            # Sorriso com vermelho\n",
    "            cv2.rectangle(face_color,(sx, sy), (sx+sw, sy+sh),(0, 0, 255), 2)\n",
    "\n",
    "    cv2.imshow('Detected faces', image)\n",
    "\n",
    "    cv2.waitKey(0)\n",
    "\n",
    "    cv2.destroyWindow('Detected faces')"
   ]
  },
  {
   "cell_type": "markdown",
   "metadata": {},
   "source": [
    "# Implementar os mesmos utilizando o openCV porém utilizando a captura de câmera (video)"
   ]
  }
 ],
 "metadata": {
  "interpreter": {
   "hash": "31f2aee4e71d21fbe5cf8b01ff0e069b9275f58929596ceb00d14d90e3e16cd6"
  },
  "kernelspec": {
   "display_name": "Python 3.8.10 64-bit",
   "language": "python",
   "name": "python3"
  },
  "language_info": {
   "codemirror_mode": {
    "name": "ipython",
    "version": 3
   },
   "file_extension": ".py",
   "mimetype": "text/x-python",
   "name": "python",
   "nbconvert_exporter": "python",
   "pygments_lexer": "ipython3",
   "version": "3.8.10"
  },
  "orig_nbformat": 4
 },
 "nbformat": 4,
 "nbformat_minor": 2
}
