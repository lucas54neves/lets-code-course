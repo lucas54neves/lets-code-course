{
 "cells": [
  {
   "cell_type": "markdown",
   "source": [
    "# Questão 1\n",
    "\n",
    "## Criptografia\n",
    "\n",
    "Seu objetivo com essa atividade é criar um programa capaz de criptografar textos. Isso tem vantagens no gerenciamento de senhas, por exemplo. Você deverá estruturar seu programa da seguinte maneira:\n",
    "\n",
    "Criar uma função que recebe um texto como parâmetro e retorna esse mesmo texto criptografado. A criptografia deve ocorrer conforme a seguinte regra:\n",
    "Substituir 'a' por 'z'\n",
    "Substituir 'b' por 'y'\n",
    "Substituir 'c' por 'x'\n",
    "E assim por diante...\n",
    "\n",
    "Criar uma função que lê o conteúdo de um arquivo e cria um segundo criptografado. Essa função deve receber dois parâmetros:\n",
    "O primeiro é o nome do arquivo de entrada, servirá de entrada com os textos originais (ainda a serem criptografados);\n",
    "O segundo é o nome do arquivo de saída, servirá de saída com os textos já criptografados."
   ],
   "metadata": {}
  },
  {
   "cell_type": "code",
   "execution_count": 19,
   "source": [
    "def encript_text(text):\n",
    "    letters = ['a', 'b', 'c', 'd', 'e', 'f', 'g', 'h', 'i', 'j', 'k', 'l', 'm', 'n', 'o', 'p', 'q', 'r', 's', 't', 'u', 'v', 'w', 'x', 'y', 'z']\n",
    "\n",
    "    new_text = ''\n",
    "\n",
    "    for letter in text:\n",
    "        if letter == ' ':\n",
    "            new_text += ' '\n",
    "        else:\n",
    "            for i in range(len(letters)):\n",
    "                if letter == letters[i]:\n",
    "                    new_text += letters[-i -1]\n",
    "    \n",
    "    return new_text\n",
    "\n",
    "def encript_file(input_name, output_name):\n",
    "    try:\n",
    "        with open(input_name, 'r') as reader, open(output_name, 'w') as writer:\n",
    "            writer.write(encript_text(reader.read()))\n",
    "    finally:\n",
    "        reader.close()\n",
    "\n",
    "        writer.close()\n",
    "\n",
    "encript_file('test1.txt', 'text2.txt')"
   ],
   "outputs": [
    {
     "output_type": "stream",
     "name": "stdout",
     "text": [
      "asffds  fsdghfh fdgh fghf hfgdhvbcv vbcvbcv fgdfg zhuuwh  uhwtsus uwts utsu sutwseyxe eyxeyxe utwut\n"
     ]
    }
   ],
   "metadata": {}
  }
 ],
 "metadata": {
  "orig_nbformat": 4,
  "language_info": {
   "name": "python",
   "version": "3.8.10",
   "mimetype": "text/x-python",
   "codemirror_mode": {
    "name": "ipython",
    "version": 3
   },
   "pygments_lexer": "ipython3",
   "nbconvert_exporter": "python",
   "file_extension": ".py"
  },
  "kernelspec": {
   "name": "python3",
   "display_name": "Python 3.8.10 64-bit"
  },
  "interpreter": {
   "hash": "916dbcbb3f70747c44a77c7bcd40155683ae19c65e1c03b4aa3499c5328201f1"
  }
 },
 "nbformat": 4,
 "nbformat_minor": 2
}