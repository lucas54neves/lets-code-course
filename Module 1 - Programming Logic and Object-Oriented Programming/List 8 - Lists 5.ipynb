{
 "cells": [
  {
   "cell_type": "markdown",
   "id": "3f34c64a",
   "metadata": {},
   "source": [
    "# Questão 1\n",
    "\n",
    "Crie uma lista qualquer e faça um programa que imprima cada elemento da lista usando o for."
   ]
  },
  {
   "cell_type": "code",
   "execution_count": 3,
   "id": "cc7cb24e",
   "metadata": {},
   "outputs": [
    {
     "name": "stdout",
     "output_type": "stream",
     "text": [
      "1\n",
      "1\n",
      "2\n",
      "3\n",
      "5\n",
      "8\n",
      "13\n",
      "21\n"
     ]
    }
   ],
   "source": [
    "numbers = [1, 1, 2, 3, 5, 8, 13, 21]\n",
    "\n",
    "for number in numbers:\n",
    "    print(number)"
   ]
  },
  {
   "cell_type": "markdown",
   "id": "386ea082",
   "metadata": {},
   "source": [
    "# Questão 2\n",
    "\n",
    "Faça um programa que imprima todos os itens de uma lista usando while e compare com o exercício 1."
   ]
  },
  {
   "cell_type": "code",
   "execution_count": 6,
   "id": "151c2555",
   "metadata": {},
   "outputs": [
    {
     "name": "stdout",
     "output_type": "stream",
     "text": [
      "Entre com um número inteiro positivo: [0 para sair]  0\n"
     ]
    }
   ],
   "source": [
    "number = -1\n",
    "\n",
    "numbers = []\n",
    "\n",
    "while number != 0:\n",
    "    number = int(input('Entre com um número inteiro positivo: [0 para sair] '))\n",
    "    \n",
    "    if number < 0:\n",
    "        print('O número digitado é inválido.')\n",
    "        continue\n",
    "    \n",
    "    if number > 0:\n",
    "        numbers.append(number)\n",
    "\n",
    "count = 0\n",
    "\n",
    "while count < len(numbers):\n",
    "    print(numbers[count])\n",
    "    \n",
    "    count += 1"
   ]
  },
  {
   "cell_type": "markdown",
   "id": "6a8eda96",
   "metadata": {},
   "source": [
    "# Questão 3\n",
    "\n",
    "Faça um programa que peça para o usuário digitar um número n e imprima uma lista com todos os números de 0 a n-1.\n",
    "\n",
    "Exemplo: se o usuário digitar 5, o programa deve imprimir [0, 1, 2, 3, 4]"
   ]
  },
  {
   "cell_type": "code",
   "execution_count": 11,
   "id": "7c106a9a",
   "metadata": {},
   "outputs": [
    {
     "name": "stdout",
     "output_type": "stream",
     "text": [
      "Entre com o tamanho da lista desejada:  0\n",
      "[]\n"
     ]
    }
   ],
   "source": [
    "number = int(input('Entre com o tamanho da lista desejada: '))\n",
    "\n",
    "numbers = [element for element in range(0, number)]\n",
    "\n",
    "print(numbers)"
   ]
  },
  {
   "cell_type": "markdown",
   "id": "08a00133",
   "metadata": {},
   "source": [
    "# Questão 4\n",
    "\n",
    "Faça um programa que olhe todos os itens de uma lista e diga quantos deles são pares."
   ]
  },
  {
   "cell_type": "code",
   "execution_count": 14,
   "id": "7b3cfdf3",
   "metadata": {
    "collapsed": true,
    "jupyter": {
     "outputs_hidden": true
    },
    "tags": []
   },
   "outputs": [
    {
     "name": "stdout",
     "output_type": "stream",
     "text": [
      "Digite um número (ou 'sair' para sair):  1\n",
      "Digite um número (ou 'sair' para sair):  45\n",
      "Digite um número (ou 'sair' para sair):  67\n",
      "Digite um número (ou 'sair' para sair):  4\n",
      "Digite um número (ou 'sair' para sair):  sair\n",
      "Pares: 1\n"
     ]
    }
   ],
   "source": [
    "option = 'nao'\n",
    "\n",
    "numbers = []\n",
    "\n",
    "while option != 'sair':\n",
    "    option = input(\"Digite um número (ou 'sair' para sair): \")\n",
    "    \n",
    "    if option != 'sair':\n",
    "        number = int(option)\n",
    "        \n",
    "        numbers.append(number)\n",
    "\n",
    "pairs = [number for number in numbers if number % 2 == 0]\n",
    "\n",
    "print('Pares: {}'.format(len(pairs)))"
   ]
  },
  {
   "cell_type": "markdown",
   "id": "55ed8a0f",
   "metadata": {},
   "source": [
    "# Questão 5\n",
    "\n",
    "Faça um programa que imprima o maior número de uma lista, sem usar a função max()."
   ]
  },
  {
   "cell_type": "code",
   "execution_count": 16,
   "id": "faced140",
   "metadata": {},
   "outputs": [
    {
     "name": "stdout",
     "output_type": "stream",
     "text": [
      "Digite um número ou sair para sair:  5\n",
      "Digite um número ou sair para sair:  9\n",
      "Digite um número ou sair para sair:  6\n",
      "Digite um número ou sair para sair:  7\n",
      "Digite um número ou sair para sair:  8\n",
      "Digite um número ou sair para sair:  9\n",
      "Digite um número ou sair para sair:  6\n",
      "Digite um número ou sair para sair:  9\n",
      "Digite um número ou sair para sair:  5\n",
      "Digite um número ou sair para sair:  5\n",
      "Digite um número ou sair para sair:  12\n",
      "Digite um número ou sair para sair:  5\n",
      "Digite um número ou sair para sair:  5\n",
      "Digite um número ou sair para sair:  4\n",
      "Digite um número ou sair para sair:  89\n",
      "Digite um número ou sair para sair:  8\n",
      "Digite um número ou sair para sair:  669\n",
      "Digite um número ou sair para sair:  6\n",
      "Digite um número ou sair para sair:  5\n",
      "Digite um número ou sair para sair:  sair\n",
      "Maior: 669.0\n"
     ]
    }
   ],
   "source": [
    "option = 'nao'\n",
    "\n",
    "numbers = []\n",
    "\n",
    "while option != 'sair':\n",
    "    option = input('Digite um número ou sair para sair: ')\n",
    "    \n",
    "    if option != 'sair':\n",
    "        number = float(option)\n",
    "        \n",
    "        numbers.append(number)\n",
    "\n",
    "bigger = numbers[0]\n",
    "\n",
    "for number in numbers:\n",
    "    if number > bigger:\n",
    "        bigger = number\n",
    "\n",
    "print('Maior: {}'.format(bigger))"
   ]
  },
  {
   "cell_type": "markdown",
   "id": "f1ca56c8",
   "metadata": {},
   "source": [
    "# Questão 6\n",
    "Agora usando a função max() faça um programa que imprima os três maiores números de uma lista.\n",
    "\n",
    "Dica: Use o método próprio de listas .remove()."
   ]
  },
  {
   "cell_type": "code",
   "execution_count": 2,
   "id": "8c873047",
   "metadata": {},
   "outputs": [
    {
     "name": "stdin",
     "output_type": "stream",
     "text": [
      "Digite um número ou sair para sair:  2\n",
      "Digite um número ou sair para sair:  1\n",
      "Digite um número ou sair para sair:  3\n",
      "Digite um número ou sair para sair:  5\n",
      "Digite um número ou sair para sair:  7\n",
      "Digite um número ou sair para sair:  sair\n"
     ]
    },
    {
     "name": "stdout",
     "output_type": "stream",
     "text": [
      "7.0\n",
      "5.0\n",
      "3.0\n"
     ]
    }
   ],
   "source": [
    "option = 'nao'\n",
    "\n",
    "numbers = []\n",
    "\n",
    "while option != 'sair':\n",
    "    option = input('Digite um número ou sair para sair: ')\n",
    "    \n",
    "    if option != 'sair':\n",
    "        number = float(option)\n",
    "        \n",
    "        numbers.append(number)\n",
    "\n",
    "for i in range(0, 3):\n",
    "    print(max(numbers))\n",
    "\n",
    "    numbers.remove(max(numbers))"
   ]
  },
  {
   "cell_type": "markdown",
   "id": "1d53a248-4674-492d-a010-82e3ff59a6bc",
   "metadata": {},
   "source": [
    "# Questão 7\n",
    "Faça um programa que, dadas duas listas de mesmo tamanho, crie uma nova lista com cada elemento igual a soma dos elementos da lista 1 com os da lista 2, na mesma posição.\n",
    "\n",
    "Exemplo:\n",
    "\n",
    "Dadas lista1 = [1, 4, 5] e lista2 = [2, 2, 3], então lista3 = [1+2, 4+2, 5+3] = [3, 6, 8]"
   ]
  },
  {
   "cell_type": "code",
   "execution_count": 1,
   "id": "b327adf2-ed6a-4c94-907f-765c9b1ed77e",
   "metadata": {},
   "outputs": [
    {
     "name": "stdin",
     "output_type": "stream",
     "text": [
      "Entre com o tamanho das listas:  0\n"
     ]
    },
    {
     "name": "stdout",
     "output_type": "stream",
     "text": [
      "[]\n"
     ]
    }
   ],
   "source": [
    "size = int(input('Entre com o tamanho das listas: '))\n",
    "\n",
    "firstList = []\n",
    "\n",
    "secondList = []\n",
    "\n",
    "thirdList = []\n",
    "\n",
    "for i in range(0, size):\n",
    "    firstList.append(float(input('Entre com um valor para primeira lista: ')))\n",
    "\n",
    "for i in range(0, size):\n",
    "    secondList.append(float(input('Entre com um valor para segunda lista: ')))\n",
    "\n",
    "for i in range(0, size):\n",
    "    thirdList.append(firstList[i] + secondList[i])\n",
    "\n",
    "print(thirdList)"
   ]
  },
  {
   "cell_type": "markdown",
   "id": "cb76bd2d-5062-4777-b79e-2a3e98a8920c",
   "metadata": {},
   "source": [
    "# Questão 8\n",
    "Faça um programa que dadas duas listas de mesmo tamanho, imprima o produto escalar entre elas.\n",
    "\n",
    "OBS: produto escalar é a soma do resultado da multiplicação entre o número na posição i da lista1 pelo número na posição i da lista2, com i variando de 0 ao tamanho da lista"
   ]
  },
  {
   "cell_type": "code",
   "execution_count": 2,
   "id": "6edc4f52-9a0b-4218-bc7a-85e7da263d70",
   "metadata": {},
   "outputs": [
    {
     "name": "stdin",
     "output_type": "stream",
     "text": [
      "Entre com o tamanho das listas:  4\n",
      "Entre com um valor para primeira lista:  1\n",
      "Entre com um valor para primeira lista:  2\n",
      "Entre com um valor para primeira lista:  3\n",
      "Entre com um valor para primeira lista:  4\n",
      "Entre com um valor para segunda lista:  4\n",
      "Entre com um valor para segunda lista:  3\n",
      "Entre com um valor para segunda lista:  2\n",
      "Entre com um valor para segunda lista:  1\n"
     ]
    },
    {
     "name": "stdout",
     "output_type": "stream",
     "text": [
      "Produto escalar: 20.0\n"
     ]
    }
   ],
   "source": [
    "size = int(input('Entre com o tamanho das listas: '))\n",
    "\n",
    "firstList = []\n",
    "\n",
    "secondList = []\n",
    "\n",
    "product = 0\n",
    "\n",
    "for i in range(0, size):\n",
    "    firstList.append(float(input('Entre com um valor para primeira lista: ')))\n",
    "\n",
    "for i in range(0, size):\n",
    "    secondList.append(float(input('Entre com um valor para segunda lista: ')))\n",
    "    \n",
    "for i in range(0, size):\n",
    "    product += firstList[i] * secondList[i]\n",
    "\n",
    "print(f'Produto escalar: {product}')"
   ]
  },
  {
   "cell_type": "markdown",
   "id": "ddae1ee0-5b19-4b28-867f-2990f3fc2fbe",
   "metadata": {},
   "source": [
    "# Questão 9\n",
    "Faça um programa que pede para o usuário digitar 5 números e, ao final, imprime uma lista com os 5 números digitados pelo usuário (sem converter os números para int ou float).\n",
    "\n",
    "Exemplo: Se o usuário digitar 1, 5, 2, 3, 6, o programa deve imprimir a lista ['1','5','2','3','6']"
   ]
  },
  {
   "cell_type": "code",
   "execution_count": 3,
   "id": "d950360b-4bad-460e-a0ea-c3fcbbbafd9a",
   "metadata": {},
   "outputs": [
    {
     "name": "stdin",
     "output_type": "stream",
     "text": [
      "Entre com um número:  1\n",
      "Entre com um número:  2\n",
      "Entre com um número:  3\n",
      "Entre com um número:  4\n",
      "Entre com um número:  5\n"
     ]
    },
    {
     "name": "stdout",
     "output_type": "stream",
     "text": [
      "Números: ['1', '2', '3', '4', '5']\n"
     ]
    }
   ],
   "source": [
    "numbers = []\n",
    "\n",
    "for i in range(0, 5):\n",
    "    numbers.append(input('Entre com um número: '))\n",
    "\n",
    "print(f'Números: {numbers}')"
   ]
  },
  {
   "cell_type": "markdown",
   "id": "1758c0a0-4697-47bf-9576-b8e4ce2912c0",
   "metadata": {},
   "source": [
    "# Questão 10\n",
    "\n",
    "Pegue a lista gerada no exercício anterior e transforme cada um dos itens dessa lista em um float.\n",
    "\n",
    "OBS: Não é para alterar o programa anterior, mas sim a lista gerada por ele."
   ]
  },
  {
   "cell_type": "code",
   "execution_count": 4,
   "id": "21e421eb-dc73-4534-a07c-ef450d1a9c88",
   "metadata": {},
   "outputs": [
    {
     "name": "stdin",
     "output_type": "stream",
     "text": [
      "Entre com um número:  1\n",
      "Entre com um número:  2\n",
      "Entre com um número:  3\n",
      "Entre com um número:  4\n",
      "Entre com um número:  5\n"
     ]
    },
    {
     "name": "stdout",
     "output_type": "stream",
     "text": [
      "Números: [1.0, 2.0, 3.0, 4.0, 5.0]\n"
     ]
    }
   ],
   "source": [
    "numbers = []\n",
    "\n",
    "for i in range(0, 5):\n",
    "    numbers.append(float(input('Entre com um número: ')))\n",
    "\n",
    "print(f'Números: {numbers}')"
   ]
  },
  {
   "cell_type": "markdown",
   "id": "324e312b-5e86-492c-869f-550d0ae992e2",
   "metadata": {},
   "source": [
    "# Questão 11\n",
    "\n",
    "Faça um programa que peça as 4 notas bimestrais e mostre a média aritmética delas, usando listas."
   ]
  },
  {
   "cell_type": "code",
   "execution_count": 6,
   "id": "8bb3fc3f-b50e-4867-a71b-986f646124cc",
   "metadata": {},
   "outputs": [
    {
     "name": "stdin",
     "output_type": "stream",
     "text": [
      "Entre com a nota:  1\n",
      "Entre com a nota:  2\n",
      "Entre com a nota:  5.4\n",
      "Entre com a nota:  9.1\n"
     ]
    },
    {
     "name": "stdout",
     "output_type": "stream",
     "text": [
      "Média: 4.38\n"
     ]
    }
   ],
   "source": [
    "grades = []\n",
    "\n",
    "for i in range(0, 4):\n",
    "    grades.append(float(input('Entre com a nota: ')))\n",
    "\n",
    "sumOfGrades = 0\n",
    "\n",
    "for i in range(0, 4):\n",
    "    sumOfGrades += grades[i]\n",
    "\n",
    "average = sumOfGrades / 4\n",
    "\n",
    "print('Média: {:.2f}'.format(average))"
   ]
  },
  {
   "cell_type": "markdown",
   "id": "c6dd92ba-fa96-4545-8d09-fa1e9f548f87",
   "metadata": {},
   "source": [
    "# Questão 12\n",
    "\n",
    "Sorteie uma lista de 10 números e imprima:\n",
    "\n",
    "a. uma lista com os 4 primeiros números;\n",
    "\n",
    "b. uma lista com os 5 últimos números;\n",
    "\n",
    "c. uma lista contendo apenas os elementos das posições pares;\n",
    "\n",
    "d. uma lista contendo apenas os elementos das posições ímpares;\n",
    "\n",
    "e. a lista inversa da lista sorteada (isto é, uma lista que começa com o último elemento da lista sorteada e termina com o primeiro);\n",
    "\n",
    "f. uma lista inversa dos 5 primeiros números;\n",
    "\n",
    "g. uma lista inversa dos 5 últimos números."
   ]
  },
  {
   "cell_type": "code",
   "execution_count": 12,
   "id": "8a779e76-0bb8-45a2-a54b-eddab486b716",
   "metadata": {},
   "outputs": [
    {
     "name": "stdout",
     "output_type": "stream",
     "text": [
      "a) [6, 9, 10, 0]\n",
      "b) [2, 9, 7, 6, 2]\n",
      "c) [6, 10, 1, 9, 6]\n",
      "d) [9, 0, 2, 7, 2]\n",
      "e) [2, 6, 7, 9, 2, 1, 0, 10, 9, 6]\n",
      "f) [2, 6, 7, 9, 2]\n",
      "g) [1, 0, 10, 9, 6]\n"
     ]
    }
   ],
   "source": [
    "import random\n",
    "\n",
    "numbers = []\n",
    "\n",
    "for i in range(0, 10):\n",
    "    numbers.append(random.randint(0, 10))\n",
    "\n",
    "theFirstFour = numbers[0:4]\n",
    "\n",
    "theLastFive = numbers[5:11]\n",
    "\n",
    "elementsInEvenPositions = [number for (position, number) in enumerate(numbers) if position % 2 == 0]\n",
    "\n",
    "elementsInOddPositions = [number for (position, number) in enumerate(numbers) if position % 2 == 1]\n",
    "\n",
    "reverseList = []\n",
    "\n",
    "count = 9\n",
    "\n",
    "while count >= 0:\n",
    "    reverseList.append(numbers[count])\n",
    "    \n",
    "    count -= 1\n",
    "    \n",
    "theTopFiveOnTheInverseList = reverseList[0:5]\n",
    "\n",
    "theLastFiveOnTheInverseList = reverseList[5:11]\n",
    "\n",
    "print(f'a) {theFirstFour}')\n",
    "print(f'b) {theLastFive}')\n",
    "print(f'c) {elementsInEvenPositions}')\n",
    "print(f'd) {elementsInOddPositions}')\n",
    "print(f'e) {reverseList}')\n",
    "print(f'f) {theTopFiveOnTheInverseList}')\n",
    "print(f'g) {theLastFiveOnTheInverseList}')"
   ]
  },
  {
   "cell_type": "markdown",
   "id": "304c7221-a6d6-4f9d-8a77-9c1db4d180cf",
   "metadata": {},
   "source": [
    "# Questão 13\n",
    "\n",
    "Faça um programa que sorteia 10 números entre 0 e 100 e conte quantos números sorteados são maiores que 50."
   ]
  },
  {
   "cell_type": "code",
   "execution_count": 16,
   "id": "9c187819-2bb9-4b78-b07a-270566e01876",
   "metadata": {
    "tags": []
   },
   "outputs": [
    {
     "name": "stdout",
     "output_type": "stream",
     "text": [
      "A quantidade de números maiores que 50 é 7.\n"
     ]
    }
   ],
   "source": [
    "import random\n",
    "\n",
    "numbers = []\n",
    "\n",
    "for i in range(0, 10):\n",
    "    numbers.append(random.randint(0, 100))\n",
    "\n",
    "countedNumbers = [number for number in numbers if number > 50]\n",
    "\n",
    "print(f'A quantidade de números maiores que 50 é {len(countedNumbers)}.')"
   ]
  },
  {
   "cell_type": "markdown",
   "id": "daa1484c-7728-4865-8302-ea47f21dd351",
   "metadata": {},
   "source": [
    "# Questão 14\n",
    "\n",
    "Faça um programa que sorteie 10 números entre 0 e 100 e imprima:\n",
    "\n",
    "a. o maior número sorteado;\n",
    "\n",
    "b. o menor número sorteado;\n",
    "\n",
    "c. a média dos números sorteados;\n",
    "\n",
    "d. a soma dos números sorteados."
   ]
  },
  {
   "cell_type": "code",
   "execution_count": 21,
   "id": "38520cf7-665f-438d-bc3d-b89a25030304",
   "metadata": {},
   "outputs": [
    {
     "name": "stdout",
     "output_type": "stream",
     "text": [
      "91\n",
      "5\n",
      "54.4\n",
      "544\n"
     ]
    }
   ],
   "source": [
    "import random\n",
    "\n",
    "numbers = []\n",
    "\n",
    "for i in range(0, 10):\n",
    "    numbers.append(random.randint(0, 100))\n",
    "\n",
    "sumOfNumbers = 0\n",
    "\n",
    "for i in range(0, 10):\n",
    "    sumOfNumbers += numbers[i]\n",
    "    \n",
    "print(max(numbers))\n",
    "\n",
    "print(min(numbers))\n",
    "\n",
    "print(sumOfNumbers / 10)\n",
    "\n",
    "print(sumOfNumbers)"
   ]
  },
  {
   "cell_type": "markdown",
   "id": "d8eead31-ac79-4a8f-9fff-8276797c4ea3",
   "metadata": {},
   "source": [
    "# Questão 15\n",
    "\n",
    "**Desafio 1**\n",
    "\n",
    "Faça um programa que peça para o usuário digitar o nome e a idade de um aluno e o número de provas que esse aluno fez. Depois, o programa deve pedir para o usuário digitar as notas de cada prova do aluno. Ao final o programa deve imprimir uma lista contendo:\n",
    "\n",
    "a. Nome do aluno na posição 0;\n",
    "\n",
    "b. Idade do aluno na posição 1;\n",
    "\n",
    "c. Uma lista com todas as notas na posição 2;\n",
    "\n",
    "d. A média do aluno na posição 3;\n",
    "\n",
    "e. True ou False, caso a média seja maior que 5 ou não, na posição 4.\n",
    "\n",
    "Dica: Use o que você fez nos exercícios anteriores para criar esse programa."
   ]
  },
  {
   "cell_type": "code",
   "execution_count": 25,
   "id": "f4e6dd1a-1988-410f-a2f0-afea3230c2b9",
   "metadata": {},
   "outputs": [
    {
     "name": "stdin",
     "output_type": "stream",
     "text": [
      "Entre com o nome do estudante:  Jock\n",
      "Entre com a idade do estudante:  16\n",
      "Entre com a quantidade de provas do estudante:  4\n",
      "Entre com a nota 1 do aluno 2.5\n",
      "Entre com a nota 2 do aluno 4.7\n",
      "Entre com a nota 3 do aluno 3.6\n",
      "Entre com a nota 4 do aluno 0.5\n"
     ]
    },
    {
     "name": "stdout",
     "output_type": "stream",
     "text": [
      "['Jock', '16', [2.5, 4.7, 3.6, 0.5], 4.375, False]\n"
     ]
    }
   ],
   "source": [
    "student = {}\n",
    "\n",
    "student['name'] = input('Entre com o nome do estudante: ')\n",
    "\n",
    "student['age'] = input('Entre com a idade do estudante: ')\n",
    "\n",
    "student['numberOfTests'] = int(input('Entre com a quantidade de provas do estudante: '))\n",
    "\n",
    "student['grandes'] = []\n",
    "\n",
    "for i in range(0, student['numberOfTests']):\n",
    "    student['grandes'].append(float(input(f'Entre com a nota {i + 1} do aluno')))\n",
    "\n",
    "sumOfGrandes = 0\n",
    "\n",
    "for i in range(0, student['numberOfTests']):\n",
    "    sumOfGrandes += student['grandes'][i]\n",
    "\n",
    "student['average'] = sumOfGrades / student['numberOfTests']\n",
    "\n",
    "student['condition'] = student['average'] > 5\n",
    "\n",
    "print([student['name'], student['age'], student['grandes'], float('{:.2f}'.format(student['average'])), student['condition']])"
   ]
  },
  {
   "cell_type": "markdown",
   "id": "2ad30443-f02e-4331-8917-35d5a7eec416",
   "metadata": {},
   "source": [
    "# Questão 16\n",
    "\n",
    "**Desafio 2 -** Faça um programa como o do item anterior, porém que imprima a média sem considerar a maior e menor nota do aluno (nesse caso o número de provas precisa ser obrigatoriamente maior que dois).\n",
    "\n",
    "Dica: crie uma cópia com a lista de todas as notas antes de fazer a média."
   ]
  },
  {
   "cell_type": "code",
   "execution_count": 8,
   "id": "eb0536ff-2e88-43c0-9b5f-0bf7bbe4b33b",
   "metadata": {},
   "outputs": [
    {
     "name": "stdin",
     "output_type": "stream",
     "text": [
      "Entre com o nome do estudante:  Lucas\n",
      "Entre com a idade do estudante:  16\n",
      "Entre com a quantidade de provas do estudante:  3\n",
      "Entre com a nota 1 do aluno 10\n",
      "Entre com a nota 2 do aluno 0\n",
      "Entre com a nota 3 do aluno 5\n"
     ]
    },
    {
     "name": "stdout",
     "output_type": "stream",
     "text": [
      "['Lucas', '16', [0.0, 5.0, 10.0], 5.0, False]\n"
     ]
    }
   ],
   "source": [
    "student = {}\n",
    "\n",
    "student['name'] = input('Entre com o nome do estudante: ')\n",
    "\n",
    "student['age'] = input('Entre com a idade do estudante: ')\n",
    "\n",
    "student['numberOfTests'] = int(input('Entre com a quantidade de provas do estudante: '))\n",
    "\n",
    "while student['numberOfTests'] < 3:\n",
    "    print('Entrada inválida. O mínimo deve ser 3 provas.')\n",
    "    \n",
    "    student['numberOfTests'] = int(input('Entre com a quantidade de provas do estudante: '))\n",
    "\n",
    "student['grandes'] = []\n",
    "\n",
    "for i in range(0, student['numberOfTests']):\n",
    "    student['grandes'].append(float(input(f'Entre com a nota {i + 1} do aluno')))\n",
    "\n",
    "student['grandes'].sort()\n",
    "\n",
    "sumOfGrades = 0\n",
    "\n",
    "count = 1\n",
    "\n",
    "while count < student['numberOfTests'] - 1:\n",
    "    sumOfGrades += student['grandes'][count]\n",
    "    \n",
    "    count += 1\n",
    "\n",
    "student['average'] = sumOfGrades / (student['numberOfTests'] - 2)\n",
    "\n",
    "student['condition'] = student['average'] > 5\n",
    "\n",
    "print([student['name'], student['age'], student['grandes'], float('{:.2f}'.format(student['average'])), student['condition']])"
   ]
  },
  {
   "cell_type": "markdown",
   "id": "5821eac3-434e-4bb0-9f16-a9af7dad0695",
   "metadata": {},
   "source": [
    "# Questão 17\n",
    "\n",
    "**Desafio 3 -** Faça um programa que pede para o usuário digitar o CPF e verifica se ele é válido. Para isso, primeiramente o programa deve multiplicar cada um dos 9 primeiros dígitos do CPF pelos números de 10 a 2 e somar todas as respostas. O resultado deve ser multiplicado por 10 e dividido por 11. O resto dessa divisão deve ser igual ao primeiro dígito verificador (10º dígito). Em seguida, o programa deve multiplicar cada um dos 10 primeiros dígitos do CPF pelos números de 11 a 2 e repetir o procedimento anterior para verificar o segundo dígito verificador.\n",
    "\n",
    "Exemplo:\n",
    "\n",
    "Se o CPF for 286.255.878-87 o programa deve fazer primeiro:\n",
    "\n",
    "x = (2*10 + 8*9 + 6*8 + 2*7 + 5*6 + 5*5 + 8*4 + 7*3 + 8*2)\n",
    "\n",
    "Em seguida, o programa deve testar se x*10%11 == 8 (o décimo número do CPF). Se sim, o programa deve calcular:\n",
    "\n",
    "x = (2*11 + 8*10 + 6*9 + 2*8 + 5*7 + 5*6 + 8*5 + 7*4 + 8*3 + 8*2)\n",
    "\n",
    "e verificar se x*10%11 == 7 (o décimo primeiro número do CPF)."
   ]
  },
  {
   "cell_type": "code",
   "execution_count": 25,
   "id": "2fbc56a8-a43b-4b7f-9a13-874373c930bc",
   "metadata": {},
   "outputs": [
    {
     "name": "stdin",
     "output_type": "stream",
     "text": [
      "Entre com o CPF:  529.982.247-25\n"
     ]
    },
    {
     "name": "stdout",
     "output_type": "stream",
     "text": [
      "True\n"
     ]
    }
   ],
   "source": [
    "def allTheSame(numbers):\n",
    "    for i in range(0, len(numbers)):\n",
    "        for j in range(0, len(numbers)):\n",
    "            if numbers[i] != numbers[j]:\n",
    "                return False\n",
    "    return True\n",
    "            \n",
    "\n",
    "def isValid(taxpayerId):\n",
    "    numbers = [int(element) for element in taxpayerId if element != '.' and element != '-']\n",
    "\n",
    "    if allTheSame(numbers):\n",
    "        return False\n",
    "\n",
    "    result = 0\n",
    "\n",
    "    count = 10\n",
    "\n",
    "    for i in range(0, 9):\n",
    "        result += numbers[i] * count\n",
    "\n",
    "        count -= 1\n",
    "        \n",
    "    if result * 10 % 11 != numbers[9]:\n",
    "        return False\n",
    "    \n",
    "    result = 0\n",
    "\n",
    "    count = 11\n",
    "    \n",
    "    for i in range(0, 10):\n",
    "        result += numbers[i] * count\n",
    "\n",
    "        count -= 1\n",
    "        \n",
    "    if result * 10 % 11 != numbers[10]:\n",
    "        return False\n",
    "    \n",
    "    return True\n",
    "\n",
    "taxpayerId = input('Entre com o CPF: ')\n",
    "\n",
    "print(isValid(taxpayerId))"
   ]
  }
 ],
 "metadata": {
  "kernelspec": {
   "display_name": "Python 3 (ipykernel)",
   "language": "python",
   "name": "python3"
  },
  "language_info": {
   "codemirror_mode": {
    "name": "ipython",
    "version": 3
   },
   "file_extension": ".py",
   "mimetype": "text/x-python",
   "name": "python",
   "nbconvert_exporter": "python",
   "pygments_lexer": "ipython3",
   "version": "3.8.10"
  }
 },
 "nbformat": 4,
 "nbformat_minor": 5
}
