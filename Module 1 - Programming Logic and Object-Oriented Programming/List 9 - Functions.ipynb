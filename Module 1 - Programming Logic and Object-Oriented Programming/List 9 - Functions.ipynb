{
 "cells": [
  {
   "cell_type": "markdown",
   "source": [
    "# Questão 1\n",
    "\n",
    "Faça uma função que recebe um número e imprime seu dobro."
   ],
   "metadata": {}
  },
  {
   "cell_type": "code",
   "execution_count": 1,
   "source": [
    "def printDouble(number):\n",
    "    print(number * 2)\n",
    "\n",
    "def main():\n",
    "    number = float(input('Entre com um número: '))\n",
    "    \n",
    "    printDouble(number)\n",
    "    \n",
    "main()"
   ],
   "outputs": [
    {
     "output_type": "stream",
     "name": "stdout",
     "text": [
      "Entre com um número:  34\n"
     ]
    },
    {
     "output_type": "stream",
     "name": "stdout",
     "text": [
      "68.0\n"
     ]
    }
   ],
   "metadata": {}
  },
  {
   "cell_type": "markdown",
   "source": [
    "# Questão 2\n",
    "\n",
    "Faça uma função que recebe o valor do raio de um círculo e retorna o valor do comprimento de sua circunferência: C = 2*pi*r."
   ],
   "metadata": {}
  },
  {
   "cell_type": "code",
   "execution_count": 2,
   "source": [
    "def returnCircumference(radius):\n",
    "    return 2 * 3.141592653589793 * radius\n",
    "\n",
    "def main():\n",
    "    radius = float(input('Entre com o raio do círculo: '))\n",
    "    \n",
    "    circumference = returnCircumference(radius)\n",
    "    \n",
    "    print(f'Comprimento da circunferência: {circumference}')\n",
    "\n",
    "main()"
   ],
   "outputs": [
    {
     "output_type": "stream",
     "name": "stdout",
     "text": [
      "Entre com o raio do círculo:  56\n"
     ]
    },
    {
     "output_type": "stream",
     "name": "stdout",
     "text": [
      "Comprimento da circunferência: 351.85837720205683\n"
     ]
    }
   ],
   "metadata": {}
  },
  {
   "cell_type": "markdown",
   "source": [
    "# Questão 3\n",
    "\n",
    "Faça uma função para cada operação matemática básica (soma, subtração, multiplicação e divisão). As funções devem receber dois números e retornar o resultado da operação."
   ],
   "metadata": {}
  },
  {
   "cell_type": "code",
   "execution_count": 5,
   "source": [
    "def addition(number1, number2):\n",
    "    return number1 + number2\n",
    "\n",
    "def subtraction(number1, number2):\n",
    "    return number1 - number2\n",
    "\n",
    "def multiplication(number1, number2):\n",
    "    return number1 * number2\n",
    "\n",
    "def division(number1, number2):\n",
    "    return number1 / number2\n",
    "\n",
    "def main():\n",
    "    print(addition(1, 5))\n",
    "    print(subtraction(5, 7))\n",
    "    print(multiplication(2, 6))\n",
    "    print(division(6, 2))\n",
    "    \n",
    "main()"
   ],
   "outputs": [
    {
     "output_type": "stream",
     "name": "stdout",
     "text": [
      "6\n",
      "-2\n",
      "12\n",
      "3.0\n"
     ]
    }
   ],
   "metadata": {}
  },
  {
   "cell_type": "markdown",
   "source": [
    "# Questão 4\n",
    "\n",
    "Faça uma função que recebe um nome e imprime “olá, [nome]”."
   ],
   "metadata": {}
  },
  {
   "cell_type": "code",
   "execution_count": 6,
   "source": [
    "name = input('Entre com seu nome: ')\n",
    "\n",
    "print(f'olá, {name}')"
   ],
   "outputs": [
    {
     "output_type": "stream",
     "name": "stdout",
     "text": [
      "Entre com seu nome:  Lucas\n"
     ]
    },
    {
     "output_type": "stream",
     "name": "stdout",
     "text": [
      "olá, Lucas\n"
     ]
    }
   ],
   "metadata": {}
  },
  {
   "cell_type": "markdown",
   "source": [
    "# Questão 5\n",
    "\n",
    "Faça uma função que recebe um nome e um horário e imprime “Bom dia, [nome]”, caso seja antes de 12h, “Boa Tarde, [nome]”, caso seja entre 12h e 18h e “Boa noite, [nome]” se for após às 18h."
   ],
   "metadata": {}
  },
  {
   "cell_type": "code",
   "execution_count": 7,
   "source": [
    "def printMessage(name, time):\n",
    "    hour = int(time.split(':')[0])\n",
    "    \n",
    "    if hour < 12:\n",
    "        print(f'Bom dia, {name}')\n",
    "    elif hour < 18:\n",
    "        print(f'Boa tarde, {name}')\n",
    "    else:\n",
    "        print(f'Boa noite, {name}')\n",
    "\n",
    "def main():\n",
    "    name = input('Entre com seu nome: ')\n",
    "\n",
    "    time = input(\"Entre com o horário no formato '00:00': \")\n",
    "    \n",
    "    printMessage(name, time)\n",
    "    \n",
    "main()"
   ],
   "outputs": [
    {
     "output_type": "stream",
     "name": "stdout",
     "text": [
      "Entre com seu nome:  Lucas\n",
      "Entre com o horário no formato '00:00':  13:47\n"
     ]
    },
    {
     "output_type": "stream",
     "name": "stdout",
     "text": [
      "Boa tarde, Lucas\n"
     ]
    }
   ],
   "metadata": {}
  },
  {
   "cell_type": "markdown",
   "source": [
    "# Questão 6\n",
    "\n",
    "Faça uma função que recebe um número e retorna True se ele é par ou False, se ele é ímpar."
   ],
   "metadata": {}
  },
  {
   "cell_type": "code",
   "execution_count": 1,
   "source": [
    "def isOdd(number):\n",
    "    return number % 2 == 0\n",
    "\n",
    "print(isOdd(7))\n",
    "print(isOdd(10))"
   ],
   "outputs": [
    {
     "output_type": "stream",
     "name": "stdout",
     "text": [
      "False\n",
      "True\n"
     ]
    }
   ],
   "metadata": {}
  },
  {
   "cell_type": "markdown",
   "source": [
    "# Questão 7\n",
    "\n",
    "Faça uma função que sorteia 10 números aleatórios entre 0 e 100 e retorna o maior entre eles."
   ],
   "metadata": {}
  },
  {
   "cell_type": "code",
   "execution_count": 7,
   "source": [
    "import random\n",
    "\n",
    "def someFunction():\n",
    "    numbers = []\n",
    "    \n",
    "    for i in range(10):\n",
    "        numbers.append(random.randint(0, 100))\n",
    "    \n",
    "    return max(numbers)\n",
    "\n",
    "print(someFunction())"
   ],
   "outputs": [
    {
     "output_type": "stream",
     "name": "stdout",
     "text": [
      "92\n"
     ]
    }
   ],
   "metadata": {}
  },
  {
   "cell_type": "markdown",
   "source": [
    "# Questão 8\n",
    "\n",
    "Faça uma função que recebe um número n de entrada, sorteia n números aleatórios entre 0 e 100 e retorna a média deles."
   ],
   "metadata": {}
  },
  {
   "cell_type": "code",
   "execution_count": 8,
   "source": [
    "import random\n",
    "\n",
    "def someFunction(quantity):\n",
    "    sumOfNumbers = 0\n",
    "    \n",
    "    for i in range(quantity):\n",
    "        sumOfNumbers += random.randint(0, 100)\n",
    "    \n",
    "    return sumOfNumbers / quantity\n",
    "\n",
    "print(someFunction(5))\n",
    "print(someFunction(25))\n",
    "print(someFunction(45))"
   ],
   "outputs": [
    {
     "output_type": "stream",
     "name": "stdout",
     "text": [
      "54.2\n",
      "53.4\n",
      "51.333333333333336\n"
     ]
    }
   ],
   "metadata": {}
  },
  {
   "cell_type": "markdown",
   "source": [
    "# Questão 9\n",
    "\n",
    "Faça uma função que recebe uma lista de palavras e retorna uma lista contendo as mesmas palavras da lista anterior, porém escritas em caixa alta."
   ],
   "metadata": {}
  },
  {
   "cell_type": "code",
   "execution_count": 9,
   "source": [
    "def someFunction(strings):\n",
    "    return [string.upper() for string in strings]\n",
    "\n",
    "print(someFunction(['teste1', 'testE3', 'sdfDS', 'sdf43#']))"
   ],
   "outputs": [
    {
     "output_type": "stream",
     "name": "stdout",
     "text": [
      "['TESTE1', 'TESTE3', 'SDFDS', 'SDF43#']\n"
     ]
    }
   ],
   "metadata": {}
  },
  {
   "cell_type": "markdown",
   "source": [
    "# Questão 10\n",
    "\n",
    "Faça uma função que recebe duas listas e retorna a soma item a item dessas listas.\n",
    "\n",
    "Exemplo: Se a função receber as listas [1,4,3] e [3,5,1], então a função deve retornar [1+3, 4+5, 3+1] = [4, 9, 4]."
   ],
   "metadata": {}
  },
  {
   "cell_type": "code",
   "execution_count": 13,
   "source": [
    "def someFunction(firstList, secondList):\n",
    "    if len(firstList) != len(secondList):\n",
    "        print('As listas devem possuir o mesmo tamanho.')\n",
    "        \n",
    "        return []\n",
    "    else:\n",
    "        thirdList = []\n",
    "        \n",
    "        for i in range(len(firstList)):\n",
    "            thirdList.append(firstList[i] + secondList[i])\n",
    "        \n",
    "        return thirdList\n",
    "\n",
    "print(someFunction([1, 2, 3], [1, 2]))\n",
    "print(someFunction([1, 4, 7, 8], [1, 4, 7, 9]))"
   ],
   "outputs": [
    {
     "output_type": "stream",
     "name": "stdout",
     "text": [
      "As listas devem possuir o mesmo tamanho.\n",
      "[]\n",
      "[2, 8, 14, 17]\n"
     ]
    }
   ],
   "metadata": {}
  },
  {
   "cell_type": "markdown",
   "source": [
    "# Questão 11\n",
    "\n",
    "Faça uma função que receba duas listas e retorne o produto item a item dessas listas.\n",
    "\n",
    "Exemplo: Se a função receber as listas [1,4,3] e [3,5,1], então a função deve retornar [1x3, 4x5, 3x1] = [3, 20, 3]."
   ],
   "metadata": {}
  },
  {
   "cell_type": "code",
   "execution_count": 14,
   "source": [
    "def someFunction(firstList, secondList):\n",
    "    if len(firstList) != len(secondList):\n",
    "        print('As listas devem possuir o mesmo tamanho.')\n",
    "        \n",
    "        return []\n",
    "    else:\n",
    "        thirdList = []\n",
    "        \n",
    "        for i in range(len(firstList)):\n",
    "            thirdList.append(firstList[i] * secondList[i])\n",
    "        \n",
    "        return thirdList\n",
    "\n",
    "print(someFunction([1, 2, 3], [1, 2]))\n",
    "print(someFunction([1, 4, 7, 8], [1, 4, 7, 9]))"
   ],
   "outputs": [
    {
     "output_type": "stream",
     "name": "stdout",
     "text": [
      "As listas devem possuir o mesmo tamanho.\n",
      "[]\n",
      "[1, 16, 49, 72]\n"
     ]
    }
   ],
   "metadata": {}
  },
  {
   "cell_type": "markdown",
   "source": [
    "# Questão 12\n",
    "\n",
    "Faça uma função que recebe um número x e uma lista numérica e retorna uma lista cujos elementos são os itens da lista de entrada multiplicado por x.\n",
    "\n",
    "Exemplo:\n",
    "\n",
    "Se a função receber o número 5 e a lista [3,5,1], então a função deve retornar [5x3, 5x5, 5x1] = [15, 25, 5]."
   ],
   "metadata": {}
  },
  {
   "cell_type": "code",
   "execution_count": 15,
   "source": [
    "def someFunction(number, someList):\n",
    "    return [number * element for element in someList]\n",
    "\n",
    "print(someFunction(5, [3, 5, 1]))"
   ],
   "outputs": [
    {
     "output_type": "stream",
     "name": "stdout",
     "text": [
      "[15, 25, 5]\n"
     ]
    }
   ],
   "metadata": {}
  },
  {
   "cell_type": "markdown",
   "source": [
    "# Questão 13\n",
    "\n",
    "Faça uma função que recebe uma lista de números e retorna a soma dos elementos dessa lista."
   ],
   "metadata": {}
  },
  {
   "cell_type": "code",
   "execution_count": 16,
   "source": [
    "def someFunction(numbers):\n",
    "    sumOfNumbers = 0\n",
    "    \n",
    "    for number in numbers:\n",
    "        sumOfNumbers += number\n",
    "    \n",
    "    return sumOfNumbers\n",
    "\n",
    "print(someFunction([1, 2, 4, 7, 8]))"
   ],
   "outputs": [
    {
     "output_type": "stream",
     "name": "stdout",
     "text": [
      "22\n"
     ]
    }
   ],
   "metadata": {}
  },
  {
   "cell_type": "markdown",
   "source": [
    "# Questão 14\n",
    "\n",
    "Faça uma função que recebe uma lista de números e retorna a média aritmética dos elementos dessa lista."
   ],
   "metadata": {}
  },
  {
   "cell_type": "code",
   "execution_count": 17,
   "source": [
    "def someFunction(numbers):\n",
    "    sumOfNumbers = 0\n",
    "    \n",
    "    for number in numbers:\n",
    "        sumOfNumbers += number\n",
    "    \n",
    "    return sumOfNumbers / len(numbers)\n",
    "\n",
    "print(someFunction([1, 2, 4, 7, 8]))"
   ],
   "outputs": [
    {
     "output_type": "stream",
     "name": "stdout",
     "text": [
      "4.4\n"
     ]
    }
   ],
   "metadata": {}
  },
  {
   "cell_type": "markdown",
   "source": [
    "# Questão 15\n",
    "\n",
    "Desafio 1 - Faça uma função que receba um número e calcule seu fatorial."
   ],
   "metadata": {}
  },
  {
   "cell_type": "code",
   "execution_count": 19,
   "source": [
    "def someFunction(number):\n",
    "    if number == 1:\n",
    "        return 1\n",
    "    return number * someFunction(number - 1)\n",
    "\n",
    "print(someFunction(5))"
   ],
   "outputs": [
    {
     "output_type": "stream",
     "name": "stdout",
     "text": [
      "120\n"
     ]
    }
   ],
   "metadata": {}
  },
  {
   "cell_type": "markdown",
   "source": [
    "# Questão 16\n",
    "\n",
    "Desafio 3 - A sequência Fibonacci é a sequência cujos dois primeiros termos são 1 e os demais são obtidos através da soma de seus dois antecessores, isso é:\n",
    "\n",
    "a. Fibonacci(1) = 1 e Fibonacci(2) = 2;\n",
    "\n",
    "b. dado qualquer número n >= 3, Fibonacci(n) = Fibonacci(n-1) + Fibonacci(n-2)\n",
    "\n",
    "Assim, os 10 primeiros termos da sequência Fibonacci são:\n",
    "\n",
    "1, 1, 2, 3, 5, 8, 13, 21, 34, 55…\n",
    "Faça uma função que receba um número n e calcule o termo de número n da sequência Fibonacci."
   ],
   "metadata": {}
  },
  {
   "cell_type": "code",
   "execution_count": 20,
   "source": [
    "def someFunction(number):\n",
    "    if number == 1:\n",
    "        return 1\n",
    "    \n",
    "    if number == 2:\n",
    "        return 1\n",
    "    \n",
    "    return someFunction(number - 1) + someFunction(number - 2)\n",
    "\n",
    "print(someFunction(10))"
   ],
   "outputs": [
    {
     "output_type": "stream",
     "name": "stdout",
     "text": [
      "55\n"
     ]
    }
   ],
   "metadata": {}
  },
  {
   "cell_type": "markdown",
   "source": [
    "# Questão 17\n",
    "\n",
    "Super Desafio! - Repita o exercício anterior usando recursão, ou seja, uma função que chame ela mesma, lembrando que 3! = 3*2!, que 2! = 2*1!, que 1! = 1*0! e que 0! = 1."
   ],
   "metadata": {}
  },
  {
   "cell_type": "code",
   "execution_count": 21,
   "source": [
    "def someFunction(number):\n",
    "    if number == 1:\n",
    "        return 1\n",
    "    return number * someFunction(number - 1)\n",
    "\n",
    "print(someFunction(5))"
   ],
   "outputs": [
    {
     "output_type": "stream",
     "name": "stdout",
     "text": [
      "120\n"
     ]
    }
   ],
   "metadata": {}
  },
  {
   "cell_type": "markdown",
   "source": [
    "# Questão 18\n",
    "\n",
    "Desafio 2 - Faça uma função que recebe duas entradas: um input dado pelo usuário e um string que informa o tipo de dado (\"idade\", \"salário\" ou \"sexo\"), e verifica se os dados digitados foram válidos, usando os seguintes critérios:\n",
    "\n",
    "a. Idade: entre 0 e 150;\n",
    "\n",
    "b. Salário: maior que 0;\n",
    "\n",
    "c. Sexo: M, F ou Outro."
   ],
   "metadata": {}
  },
  {
   "cell_type": "code",
   "execution_count": 22,
   "source": [
    "def isValidInput(inputType, userInput):\n",
    "    if inputType == 'idade':\n",
    "        return userInput < 150 and userInput > 0\n",
    "    \n",
    "    if inputType == 'salário':\n",
    "        return userInput > 0\n",
    "    \n",
    "    if inputType == 'sexo':\n",
    "        return userInput == 'M' or userInput == 'F' or userInput == 'Outro'\n",
    "    \n",
    "    return False\n",
    "\n",
    "print('idade', 10, isValidInput('idade', 10))\n",
    "print('idade', 160, isValidInput('idade', 160))\n",
    "print('salário', 450, isValidInput('salário', 450))\n",
    "print('salário', -3, isValidInput('salário', -3))\n",
    "print('sexo', 'M', isValidInput('sexo', 'M'))\n",
    "print('sexo', 'MOUTRO', isValidInput('sexo', 'MOUTRO'))"
   ],
   "outputs": [
    {
     "output_type": "stream",
     "name": "stdout",
     "text": [
      "idade 10 True\n",
      "idade 160 False\n",
      "salário 450 True\n",
      "salário -3 False\n",
      "sexo M True\n",
      "sexo MOUTRO False\n"
     ]
    }
   ],
   "metadata": {}
  },
  {
   "cell_type": "markdown",
   "source": [
    "# Questão 19\n",
    "\n",
    "Super Desafio! - Refaça o desafio 3 usando recursão."
   ],
   "metadata": {}
  },
  {
   "cell_type": "code",
   "execution_count": 23,
   "source": [
    "def someFunction(number):\n",
    "    if number == 1:\n",
    "        return 1\n",
    "    \n",
    "    if number == 2:\n",
    "        return 1\n",
    "    \n",
    "    return someFunction(number - 1) + someFunction(number - 2)\n",
    "\n",
    "print(someFunction(10))"
   ],
   "outputs": [
    {
     "output_type": "stream",
     "name": "stdout",
     "text": [
      "55\n"
     ]
    }
   ],
   "metadata": {}
  },
  {
   "cell_type": "markdown",
   "source": [
    "# Questão 20\n",
    "\n",
    "Super Desafio! - Faça um jogo de BlackJack usando funções: o BlackJack, ou Vinte e Um, é um jogo em que os jogadores podem comprar cartas livremente, enquanto tiverem menos de 21 pontos. No nosso jogo, o Ás vale um ponto; as cartas de 2 a 10 valem o número de pontos que elas representam; e Valete, Dama e Rei valem 10 pontos cada. Ganha o jogador que tiver o maior número de pontos, desde que este seja menor ou igual a 21. Nosso jogo deve ter as seguintes funções:\n",
    "\n",
    "a. Função principal: a função que vamos chamar para iniciar o jogo. Essa função não irá receber nem retornar nenhuma variável. Ela deve perguntar o número de jogadores participantes e o nome de cada um. Em seguida ela chama as outras funções do jogo.\n",
    "\n",
    "b. Função para criar o baralho: essa função deve criar um baralho (uma lista) com as cartas do baralho.\n",
    "\n",
    "c. Função para a jogada: essa função deve receber o nome do jogador que irá realizar a jogada e, caso ele ainda esteja ativo (tenha menos de 21 pontos e ainda não tenha desistido de comprar cartas) deve perguntar se ele quer comprar uma carta. Se ele responder que sim, a função deve chamar a próxima função para sortear uma carta e somar o valor retornado na pontuação do jogador; se ele responder que não, a função deve desativar o jogador para que ele não possa mais comprar cartas; Essa função só deve ser chamada enquanto houver jogadores ativos.\n",
    "\n",
    "d. Função para o sorteio: essa função retira uma carta aleatória do baralho e retorna o número de pontos que essa carta vale.\n",
    "\n",
    "e. Função verificação: verifica e indica qual/quais jogador/jogadores tem o maior número de pontos, que seja menor ou igual a 21."
   ],
   "metadata": {}
  },
  {
   "cell_type": "code",
   "execution_count": 18,
   "source": [
    "import random\n",
    "\n",
    "def existsActivePlayers(players):\n",
    "    activePlayers = [player for player in players if player['active']]\n",
    "\n",
    "    return len(activePlayers) > 0\n",
    "\n",
    "def checkPayers(players):\n",
    "    winners = []\n",
    "\n",
    "    for player in players:\n",
    "        if player[\"points\"] > 21:\n",
    "            player['active'] = False\n",
    "        elif not winners:\n",
    "            winners.append(player)\n",
    "        elif player[\"points\"] == winners[0]['points']:\n",
    "            winners.append(player)\n",
    "        elif player[\"points\"] > winners[0]['points']:\n",
    "            winners = [player]\n",
    "    \n",
    "    return (players, winners)\n",
    "\n",
    "def drawLots(cards):\n",
    "    index = random.randint(0, len(cards))\n",
    "\n",
    "    card = cards[index]\n",
    "\n",
    "    cards.remove(card)\n",
    "\n",
    "    return card\n",
    "\n",
    "def play(players, cards):\n",
    "    for i in range(len(players)):\n",
    "        if players[i]['points'] <= 21:\n",
    "            wantsCard = input(f'Jogador {i + 1} seu total é {players[i][\"points\"]} deseja mais uma carta? [s/n]')\n",
    "\n",
    "            if wantsCard == 's':\n",
    "                newCard = drawLots(cards)\n",
    "\n",
    "                players[i]['cards'].append(newCard)\n",
    "\n",
    "                points = 0\n",
    "\n",
    "                for card in players[i]['cards']:\n",
    "                    points += card[1]\n",
    "                \n",
    "                players[i]['points'] = points\n",
    "            else:\n",
    "                players[i]['active'] = False\n",
    "    \n",
    "    (players, winners) = checkPayers(players)\n",
    "\n",
    "    return (players, winners, cards)\n",
    "\n",
    "def createDeck():\n",
    "    return [(suit, value) for suit in ['heart', 'diamond', 'club', 'spade'] for value in [1, 2, 3, 4, 5, 6, 7, 8, 9, 10, 10, 10, 10]]\n",
    "\n",
    "def main():\n",
    "    cards = createDeck()\n",
    "\n",
    "    players = []\n",
    "\n",
    "    numberOfPlayes = int(input('Qual a quantidade de jogadores? '))\n",
    "\n",
    "    for i in range(numberOfPlayes):\n",
    "        name = input(f'Qual o nome do jogador {i + 1}? ')\n",
    "        players.append({\n",
    "            'id': i + 1,\n",
    "            'name': name,\n",
    "            'cards': [],\n",
    "            'active': True,\n",
    "            'points': 0\n",
    "        })\n",
    "\n",
    "    winners = []\n",
    "    \n",
    "    while existsActivePlayers(players):\n",
    "        (players, winners, cards) = play(players, cards)\n",
    "    \n",
    "    print(f'Ganhadores: {[winner[\"name\"] for winner in winners]}')\n",
    "\n",
    "main()\n"
   ],
   "outputs": [
    {
     "output_type": "stream",
     "name": "stdout",
     "text": [
      "Ganhadores: ['Juigi']\n"
     ]
    }
   ],
   "metadata": {}
  },
  {
   "cell_type": "markdown",
   "source": [
    "# Questão 21\n",
    "\n",
    "Super desafio! Faça um sistema de cadastro de clientes. Modele cada cliente como uma lista de três elementos: nome, CPF e e-mail.\n",
    "\n",
    "a. Faça uma função que peça o nome, o CPF e o e-mail da pessoa e retorne uma lista contendo esses elementos nessa ordem.\n",
    "\n",
    "b. Os clientes cadastrados devem ser armazenados em uma lista (uma lista de listas, já que cada cliente será uma lista tal como produzido no item a).\n",
    "\n",
    "c. Faça uma função que recebe a lista do item b) e um CPF e, se esse cliente estiver na lista de cadastro, sua função deve devolver a lista de dados desse cliente; caso contrário, sua função deve imprimir “não encontrado”.\n",
    "\n",
    "d. Enquanto não for digitado 0, o seu programa deve continuar rodando. Se digitado 1, seu programa deve cadastrar um novo cliente; se digitado 2, seu programa deve pedir um CPF e procurá-lo na lista de clientes (item c); se digitado 3, seu programa deve imprimir todos os clientes cadastrados."
   ],
   "metadata": {}
  },
  {
   "cell_type": "code",
   "execution_count": null,
   "source": [
    "def showClients(clients):\n",
    "    for client in clients:\n",
    "        print(client)\n",
    "\n",
    "def showClient(clients):\n",
    "    taxpayerId = input('Entre com o CPF do cliente: ')\n",
    "\n",
    "    for client in clients:\n",
    "        if client['taxpayerId'] == taxpayerId:\n",
    "            return client\n",
    "    \n",
    "    return 'Cliente não encontrado.'\n",
    "\n",
    "def addClient(clients):\n",
    "    name = input('Entre com o nome do cliente: ')\n",
    "\n",
    "    taxpayerId = input('Entre com o CPF do cliente: ')\n",
    "    \n",
    "    email = input('Entre com o email do cliente: ')\n",
    "\n",
    "    clients.append({\n",
    "        'name': name,\n",
    "        'taxpayerId': taxpayerId,\n",
    "        'email': email\n",
    "    })\n",
    "\n",
    "    return clients\n",
    "\n",
    "def menu():\n",
    "    print('============================')\n",
    "    print('[0] Sair')\n",
    "    print('[1] Cadastrar cliente')\n",
    "    print('[2] Procurar CPF')\n",
    "    print('[3] Exibir todos clientes')\n",
    "    print('============================')\n",
    "\n",
    "def main():\n",
    "    clients = []\n",
    "\n",
    "    option = -1\n",
    "\n",
    "    while option != 0:\n",
    "        menu()\n",
    "\n",
    "        option = int(input('Entre com a opção desejada: '))\n",
    "\n",
    "        if option == 1:\n",
    "            clients = addClient(clients)\n",
    "        if option == 2:\n",
    "            showClient(clients)\n",
    "        if option == 3:\n",
    "            showClients(clients)\n",
    "\n",
    "main()"
   ],
   "outputs": [],
   "metadata": {}
  }
 ],
 "metadata": {
  "kernelspec": {
   "name": "python3",
   "display_name": "Python 3.8.10 64-bit"
  },
  "language_info": {
   "codemirror_mode": {
    "name": "ipython",
    "version": 3
   },
   "file_extension": ".py",
   "mimetype": "text/x-python",
   "name": "python",
   "nbconvert_exporter": "python",
   "pygments_lexer": "ipython3",
   "version": "3.8.10"
  },
  "interpreter": {
   "hash": "916dbcbb3f70747c44a77c7bcd40155683ae19c65e1c03b4aa3499c5328201f1"
  }
 },
 "nbformat": 4,
 "nbformat_minor": 5
}