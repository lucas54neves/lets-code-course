{
 "cells": [
  {
   "cell_type": "markdown",
   "source": [
    "# Questão 1\n",
    "\n",
    "Faça um programa que peça para o usuário digitar uma palavra e imprima cada letra em uma linha."
   ],
   "metadata": {}
  },
  {
   "cell_type": "code",
   "execution_count": 1,
   "source": [
    "userInput = input('Entre com uma palavra: ')\n",
    "\n",
    "for letter in userInput:\n",
    "    print(letter)"
   ],
   "outputs": [
    {
     "output_type": "stream",
     "name": "stdout",
     "text": [
      "a\n",
      "l\n",
      "g\n",
      "u\n",
      "m\n",
      "a\n",
      " \n",
      "c\n",
      "o\n",
      "i\n",
      "s\n",
      "a\n"
     ]
    }
   ],
   "metadata": {}
  },
  {
   "cell_type": "markdown",
   "source": [
    "# Questão 2\n",
    "\n",
    "Faça um programa que pede para o usuário digitar uma palavra e cria uma nova string igual, copiando letra por letra a palavra digitada, depois imprima a nova string."
   ],
   "metadata": {}
  },
  {
   "cell_type": "code",
   "execution_count": 5,
   "source": [
    "userInput = input('Entre com uma palavra: ')\n",
    "\n",
    "newString = []\n",
    "\n",
    "for letter in userInput:\n",
    "    newString.append(letter)\n",
    "\n",
    "print(''.join(newString))"
   ],
   "outputs": [
    {
     "output_type": "stream",
     "name": "stdout",
     "text": [
      "algo\n"
     ]
    }
   ],
   "metadata": {}
  },
  {
   "cell_type": "markdown",
   "source": [
    "# Questão 3\n",
    "\n",
    "Altere o exercício anterior para que a string copiada alterne entre letras maiúsculas e minúsculas.\n",
    "\n",
    "Exemplo: se o usuário digitar \"latex\" o programa deve imprimir \"LaTeX\"."
   ],
   "metadata": {}
  },
  {
   "cell_type": "code",
   "execution_count": 9,
   "source": [
    "userInput = input('Entre com uma palavra: ')\n",
    "\n",
    "newString = []\n",
    "\n",
    "for i in range(len(userInput)):\n",
    "    if i % 2 == 0:\n",
    "        newString.append(userInput[i].upper())\n",
    "    else:\n",
    "        newString.append(userInput[i])\n",
    "\n",
    "print(''.join(newString))"
   ],
   "outputs": [
    {
     "output_type": "stream",
     "name": "stdout",
     "text": [
      "LaTeX\n"
     ]
    }
   ],
   "metadata": {}
  },
  {
   "cell_type": "markdown",
   "source": [
    "# Questão 4\n",
    "\n",
    "Faça um programa que pede para o usuário digitar uma palavra e cria uma nova string igual, porém com espaço entre cada letra, depois imprima a nova string:\n",
    "\n",
    "Exemplo: se o usuário digitar \"python\" o programa deve imprimir \"p y t h o n \""
   ],
   "metadata": {}
  },
  {
   "cell_type": "code",
   "execution_count": 10,
   "source": [
    "userInput = input('Entre com uma palavra: ')\n",
    "\n",
    "newString = []\n",
    "\n",
    "for letter in userInput:\n",
    "    newString.append(letter + ' ')\n",
    "\n",
    "print(''.join(newString))"
   ],
   "outputs": [
    {
     "output_type": "stream",
     "name": "stdout",
     "text": [
      "p y t h o n \n"
     ]
    }
   ],
   "metadata": {}
  },
  {
   "cell_type": "markdown",
   "source": [
    "# Questão 5\n",
    "\n",
    "Faça uma função que receba uma string e retorne uma nova string substituindo:\n",
    "\n",
    "'a' por '4'\n",
    "\n",
    "'e' por '3'\n",
    "\n",
    "'I' por '1'\n",
    "\n",
    "'t' por '7'"
   ],
   "metadata": {}
  },
  {
   "cell_type": "code",
   "execution_count": 12,
   "source": [
    "userInput = input('Entre com uma palavra: ')\n",
    "\n",
    "newString = []\n",
    "\n",
    "for letter in userInput:\n",
    "    if letter == 'a':\n",
    "        newString.append('4')\n",
    "    elif letter == 'e':\n",
    "        newString.append('3')\n",
    "    elif letter == 'I':\n",
    "        newString.append('1')\n",
    "    elif letter == 't':\n",
    "        newString.append('7')\n",
    "    else:\n",
    "        newString.append(letter)\n",
    "\n",
    "print(''.join(newString))"
   ],
   "outputs": [
    {
     "output_type": "stream",
     "name": "stdout",
     "text": [
      "fsdhf4sxcvjskdf1SDFSDF\n"
     ]
    }
   ],
   "metadata": {}
  },
  {
   "cell_type": "markdown",
   "source": [
    "# Questão 6\n",
    "\n",
    "Faça uma função que recebe uma string e retorna ela ao contrário.\n",
    "\n",
    "Exemplo: Recebe \"teste\" e retorna \"etset\"."
   ],
   "metadata": {}
  },
  {
   "cell_type": "code",
   "execution_count": 20,
   "source": [
    "userInput = input('Entre com uma palavra: ')\n",
    "\n",
    "newString = []\n",
    "\n",
    "i = len(userInput) - 1\n",
    "\n",
    "while i >= 0:\n",
    "    newString.append(userInput[i])\n",
    "    \n",
    "    i -= 1\n",
    "\n",
    "print(''.join(newString))"
   ],
   "outputs": [
    {
     "output_type": "stream",
     "name": "stdout",
     "text": [
      "etset\n"
     ]
    }
   ],
   "metadata": {}
  },
  {
   "cell_type": "markdown",
   "source": [
    "# Questão 7\n",
    "\n",
    "Agora faça uma função que recebe uma palavra e diz se ela é um palíndromo, ou seja, se ela é igual a ela mesma ao contrário.\n",
    "\n",
    "Dica: Use a função do exercício 6."
   ],
   "metadata": {}
  },
  {
   "cell_type": "code",
   "execution_count": 22,
   "source": [
    "userInput = input('Entre com uma palavra: ')\n",
    "\n",
    "def reversedString(stringToReverse):\n",
    "    newString = []\n",
    "\n",
    "    i = len(stringToReverse) - 1\n",
    "\n",
    "    while i >= 0:\n",
    "        newString.append(stringToReverse[i])\n",
    "        \n",
    "        i -= 1\n",
    "\n",
    "    return ''.join(newString)\n",
    "\n",
    "def isPalindrome(someString):\n",
    "    return someString == reversedString(someString)\n",
    "\n",
    "print(isPalindrome(userInput))"
   ],
   "outputs": [
    {
     "output_type": "stream",
     "name": "stdout",
     "text": [
      "True\n"
     ]
    }
   ],
   "metadata": {}
  }
 ],
 "metadata": {
  "orig_nbformat": 4,
  "language_info": {
   "name": "python",
   "version": "3.8.10",
   "mimetype": "text/x-python",
   "codemirror_mode": {
    "name": "ipython",
    "version": 3
   },
   "pygments_lexer": "ipython3",
   "nbconvert_exporter": "python",
   "file_extension": ".py"
  },
  "kernelspec": {
   "name": "python3",
   "display_name": "Python 3.8.10 64-bit"
  },
  "interpreter": {
   "hash": "916dbcbb3f70747c44a77c7bcd40155683ae19c65e1c03b4aa3499c5328201f1"
  }
 },
 "nbformat": 4,
 "nbformat_minor": 2
}