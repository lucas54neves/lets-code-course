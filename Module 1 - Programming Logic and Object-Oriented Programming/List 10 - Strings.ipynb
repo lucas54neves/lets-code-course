{
 "cells": [
  {
   "cell_type": "markdown",
   "source": [
    "# Questão 1\n",
    "\n",
    "Faça um programa que peça para o usuário digitar uma palavra e imprima cada letra em uma linha."
   ],
   "metadata": {}
  },
  {
   "cell_type": "code",
   "execution_count": 1,
   "source": [
    "userInput = input('Entre com uma palavra: ')\n",
    "\n",
    "for letter in userInput:\n",
    "    print(letter)"
   ],
   "outputs": [
    {
     "output_type": "stream",
     "name": "stdout",
     "text": [
      "a\n",
      "l\n",
      "g\n",
      "u\n",
      "m\n",
      "a\n",
      " \n",
      "c\n",
      "o\n",
      "i\n",
      "s\n",
      "a\n"
     ]
    }
   ],
   "metadata": {}
  },
  {
   "cell_type": "markdown",
   "source": [
    "# Questão 2\n",
    "\n",
    "Faça um programa que pede para o usuário digitar uma palavra e cria uma nova string igual, copiando letra por letra a palavra digitada, depois imprima a nova string."
   ],
   "metadata": {}
  },
  {
   "cell_type": "code",
   "execution_count": 5,
   "source": [
    "userInput = input('Entre com uma palavra: ')\n",
    "\n",
    "newString = []\n",
    "\n",
    "for letter in userInput:\n",
    "    newString.append(letter)\n",
    "\n",
    "print(''.join(newString))"
   ],
   "outputs": [
    {
     "output_type": "stream",
     "name": "stdout",
     "text": [
      "algo\n"
     ]
    }
   ],
   "metadata": {}
  },
  {
   "cell_type": "markdown",
   "source": [
    "# Questão 3\n",
    "\n",
    "Altere o exercício anterior para que a string copiada alterne entre letras maiúsculas e minúsculas.\n",
    "\n",
    "Exemplo: se o usuário digitar \"latex\" o programa deve imprimir \"LaTeX\"."
   ],
   "metadata": {}
  },
  {
   "cell_type": "code",
   "execution_count": 9,
   "source": [
    "userInput = input('Entre com uma palavra: ')\n",
    "\n",
    "newString = []\n",
    "\n",
    "for i in range(len(userInput)):\n",
    "    if i % 2 == 0:\n",
    "        newString.append(userInput[i].upper())\n",
    "    else:\n",
    "        newString.append(userInput[i])\n",
    "\n",
    "print(''.join(newString))"
   ],
   "outputs": [
    {
     "output_type": "stream",
     "name": "stdout",
     "text": [
      "LaTeX\n"
     ]
    }
   ],
   "metadata": {}
  },
  {
   "cell_type": "markdown",
   "source": [
    "# Questão 4\n",
    "\n",
    "Faça um programa que pede para o usuário digitar uma palavra e cria uma nova string igual, porém com espaço entre cada letra, depois imprima a nova string:\n",
    "\n",
    "Exemplo: se o usuário digitar \"python\" o programa deve imprimir \"p y t h o n \""
   ],
   "metadata": {}
  },
  {
   "cell_type": "code",
   "execution_count": 10,
   "source": [
    "userInput = input('Entre com uma palavra: ')\n",
    "\n",
    "newString = []\n",
    "\n",
    "for letter in userInput:\n",
    "    newString.append(letter + ' ')\n",
    "\n",
    "print(''.join(newString))"
   ],
   "outputs": [
    {
     "output_type": "stream",
     "name": "stdout",
     "text": [
      "p y t h o n \n"
     ]
    }
   ],
   "metadata": {}
  },
  {
   "cell_type": "markdown",
   "source": [
    "# Questão 5\n",
    "\n",
    "Faça uma função que receba uma string e retorne uma nova string substituindo:\n",
    "\n",
    "'a' por '4'\n",
    "\n",
    "'e' por '3'\n",
    "\n",
    "'I' por '1'\n",
    "\n",
    "'t' por '7'"
   ],
   "metadata": {}
  },
  {
   "cell_type": "code",
   "execution_count": 12,
   "source": [
    "userInput = input('Entre com uma palavra: ')\n",
    "\n",
    "newString = []\n",
    "\n",
    "for letter in userInput:\n",
    "    if letter == 'a':\n",
    "        newString.append('4')\n",
    "    elif letter == 'e':\n",
    "        newString.append('3')\n",
    "    elif letter == 'I':\n",
    "        newString.append('1')\n",
    "    elif letter == 't':\n",
    "        newString.append('7')\n",
    "    else:\n",
    "        newString.append(letter)\n",
    "\n",
    "print(''.join(newString))"
   ],
   "outputs": [
    {
     "output_type": "stream",
     "name": "stdout",
     "text": [
      "fsdhf4sxcvjskdf1SDFSDF\n"
     ]
    }
   ],
   "metadata": {}
  },
  {
   "cell_type": "markdown",
   "source": [
    "# Questão 6\n",
    "\n",
    "Faça uma função que recebe uma string e retorna ela ao contrário.\n",
    "\n",
    "Exemplo: Recebe \"teste\" e retorna \"etset\"."
   ],
   "metadata": {}
  },
  {
   "cell_type": "code",
   "execution_count": 20,
   "source": [
    "userInput = input('Entre com uma palavra: ')\n",
    "\n",
    "newString = []\n",
    "\n",
    "i = len(userInput) - 1\n",
    "\n",
    "while i >= 0:\n",
    "    newString.append(userInput[i])\n",
    "    \n",
    "    i -= 1\n",
    "\n",
    "print(''.join(newString))"
   ],
   "outputs": [
    {
     "output_type": "stream",
     "name": "stdout",
     "text": [
      "etset\n"
     ]
    }
   ],
   "metadata": {}
  },
  {
   "cell_type": "markdown",
   "source": [
    "# Questão 7\n",
    "\n",
    "Agora faça uma função que recebe uma palavra e diz se ela é um palíndromo, ou seja, se ela é igual a ela mesma ao contrário.\n",
    "\n",
    "Dica: Use a função do exercício 6."
   ],
   "metadata": {}
  },
  {
   "cell_type": "code",
   "execution_count": 22,
   "source": [
    "userInput = input('Entre com uma palavra: ')\n",
    "\n",
    "def reversedString(stringToReverse):\n",
    "    newString = []\n",
    "\n",
    "    i = len(stringToReverse) - 1\n",
    "\n",
    "    while i >= 0:\n",
    "        newString.append(stringToReverse[i])\n",
    "        \n",
    "        i -= 1\n",
    "\n",
    "    return ''.join(newString)\n",
    "\n",
    "def isPalindrome(someString):\n",
    "    return someString == reversedString(someString)\n",
    "\n",
    "print(isPalindrome(userInput))"
   ],
   "outputs": [
    {
     "output_type": "stream",
     "name": "stdout",
     "text": [
      "True\n"
     ]
    }
   ],
   "metadata": {}
  },
  {
   "cell_type": "markdown",
   "source": [
    "# Questão 8\n",
    "\n",
    "Faça uma função que receba um texto e uma palavra, então verifique se a palavra está no texto, retornando True ou False."
   ],
   "metadata": {}
  },
  {
   "cell_type": "code",
   "execution_count": 1,
   "source": [
    "def is_in_text(text, word):\n",
    "    return word in text\n",
    "\n",
    "print(is_in_text('o tomate cereja', 'tomate'))\n",
    "print(is_in_text('o tomate cereja', 'maca'))"
   ],
   "outputs": [
    {
     "output_type": "stream",
     "name": "stdout",
     "text": [
      "True\n",
      "False\n"
     ]
    }
   ],
   "metadata": {}
  },
  {
   "cell_type": "markdown",
   "source": [
    "# Questão 9\n",
    "\n",
    "Faça uma função que receba uma string que contém tanto números quanto letras e caracteres especiais, e que separe as letras em uma variável e os números em outra (os caracteres especiais podem ser descartados). Ao final a função deve imprimir as duas variáveis."
   ],
   "metadata": {}
  },
  {
   "cell_type": "code",
   "execution_count": 3,
   "source": [
    "def split_text(text):\n",
    "    letters_numeric = []\n",
    "\n",
    "    letters_not_numeric = []\n",
    "\n",
    "    for letter in text:\n",
    "        if letter.isnumeric():\n",
    "            letters_numeric.append(letter)\n",
    "        else:\n",
    "            letters_not_numeric.append(letter)\n",
    "    \n",
    "\n",
    "    print(f'Caracteres numericos: {letters_numeric}')\n",
    "\n",
    "    print(f'Caracteres nao numericos: {letters_not_numeric}')\n",
    "\n",
    "split_text('aflksjhavnxzn.cxvzx34@#$FDBHFDT%$$Tergfdbgfdbdfgdgfd')"
   ],
   "outputs": [
    {
     "output_type": "stream",
     "name": "stdout",
     "text": [
      "Caracteres numericos: ['3', '4']\n",
      "Caracteres nao numericos: ['a', 'f', 'l', 'k', 's', 'j', 'h', 'a', 'v', 'n', 'x', 'z', 'n', '.', 'c', 'x', 'v', 'z', 'x', '@', '#', '$', 'F', 'D', 'B', 'H', 'F', 'D', 'T', '%', '$', '$', 'T', 'e', 'r', 'g', 'f', 'd', 'b', 'g', 'f', 'd', 'b', 'd', 'f', 'g', 'd', 'g', 'f', 'd']\n"
     ]
    }
   ],
   "metadata": {}
  },
  {
   "cell_type": "markdown",
   "source": [
    "# Questão 10\n",
    "\n",
    "Desafio - Faça uma função que receba uma string e uma letra e:\n",
    "\n",
    "a. imprima quantas vezes a letra aparece na string;\n",
    "\n",
    "b. imprima todas as posições em que a letra aparece na string;\n",
    "\n",
    "c. retorne a distância entre a primeira e a última aparição dessa letra na string."
   ],
   "metadata": {}
  },
  {
   "cell_type": "code",
   "execution_count": 5,
   "source": [
    "def run(text, letter):\n",
    "    quantity = 0\n",
    "\n",
    "    positions = []\n",
    "\n",
    "    for i in range(len(text)):\n",
    "        if letter == text[i]:\n",
    "            quantity += 1\n",
    "\n",
    "            positions.append(i)\n",
    "    \n",
    "    print(f\"Quantidade de vezes que a letra '{letter}' aparece no texto: {quantity}\")\n",
    "    print(f\"Posicoes em que a letra '{letter}' aparece: {positions}\")\n",
    "    print(f\"Distancia entre a primeira e ultima aparicao da letra '{letter}': {positions[len(positions) - 1] - positions[0]}\")\n",
    "\n",
    "run('saerwrwrszesrerhyrthyrtytrhfdbvbnmbvnmvbm,gasjhfasangfek, hjlrhtiuethtkjlektkehtkeh', 'e')"
   ],
   "outputs": [
    {
     "output_type": "stream",
     "name": "stdout",
     "text": [
      "Quantidade de vezes que a letra 'e' aparece no texto: 8\n",
      "Posicoes em que a letra 'e' aparece: [2, 10, 13, 54, 66, 73, 77, 81]\n",
      "Distancia entre a primeira e ultima aparicao da letra 'e': 79\n"
     ]
    }
   ],
   "metadata": {}
  },
  {
   "cell_type": "markdown",
   "source": [
    "# Questão 11\n",
    "\n",
    "Super Desafio! - faça uma função que criptografa uma mensagem substituindo cada letra pela letra oposta do dicionário:\n",
    "\n",
    "'a' por 'z'\n",
    "\n",
    "'b' por 'y'\n",
    "\n",
    "'c' por 'x'\n",
    "\n",
    "..."
   ],
   "metadata": {}
  },
  {
   "cell_type": "code",
   "execution_count": 7,
   "source": [
    "def run(text):\n",
    "    letters = ['a', 'b', 'c', 'd', 'e', 'f', 'g', 'h', 'i', 'j', 'k', 'l', 'm', 'n', 'o', 'p', 'q', 'r', 's', 't', 'u', 'v', 'w', 'x', 'y', 'z']\n",
    "\n",
    "    new_text = ''\n",
    "\n",
    "    for letter in text:\n",
    "        for i in range(len(letters)):\n",
    "            if letter == letters[i]:\n",
    "                new_text += letters[-i -1]\n",
    "    \n",
    "    print(new_text)\n",
    "\n",
    "run('abcasdertghfkljnmnlkj')"
   ],
   "outputs": [
    {
     "output_type": "stream",
     "name": "stdout",
     "text": [
      "zywzhxvigtsupoqmnmopq\n"
     ]
    }
   ],
   "metadata": {}
  }
 ],
 "metadata": {
  "orig_nbformat": 4,
  "language_info": {
   "name": "python",
   "version": "3.8.10",
   "mimetype": "text/x-python",
   "codemirror_mode": {
    "name": "ipython",
    "version": 3
   },
   "pygments_lexer": "ipython3",
   "nbconvert_exporter": "python",
   "file_extension": ".py"
  },
  "kernelspec": {
   "name": "python3",
   "display_name": "Python 3.8.10 64-bit"
  },
  "interpreter": {
   "hash": "916dbcbb3f70747c44a77c7bcd40155683ae19c65e1c03b4aa3499c5328201f1"
  }
 },
 "nbformat": 4,
 "nbformat_minor": 2
}